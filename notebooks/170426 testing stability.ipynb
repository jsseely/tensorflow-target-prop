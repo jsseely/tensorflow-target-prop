{
 "cells": [
  {
   "cell_type": "markdown",
   "metadata": {},
   "source": [
    "trying line search methods"
   ]
  },
  {
   "cell_type": "code",
   "execution_count": 1,
   "metadata": {
    "collapsed": false,
    "deletable": true,
    "editable": true
   },
   "outputs": [],
   "source": [
    "%reset -f\n",
    "%matplotlib inline\n",
    "%load_ext autoreload\n",
    "%autoreload 2"
   ]
  },
  {
   "cell_type": "code",
   "execution_count": 2,
   "metadata": {
    "collapsed": true,
    "deletable": true,
    "editable": true
   },
   "outputs": [],
   "source": [
    "import sys\n",
    "sys.path.append('../')"
   ]
  },
  {
   "cell_type": "code",
   "execution_count": 3,
   "metadata": {
    "collapsed": false,
    "deletable": true,
    "editable": true
   },
   "outputs": [],
   "source": [
    "import os\n",
    "import sys\n",
    "import pickle\n",
    "import numpy as np\n",
    "\n",
    "import matplotlib.pyplot as plt\n",
    "import seaborn as sns\n",
    "\n",
    "import targprop.datasets as ds\n",
    "import targprop.operations as ops\n",
    "import targprop.tprop_train as tprop\n",
    "import targprop.tprop_train_stable as tprop_stable\n",
    "\n",
    "import tensorflow as tf"
   ]
  },
  {
   "cell_type": "code",
   "execution_count": 7,
   "metadata": {
    "collapsed": true,
    "deletable": true,
    "editable": true
   },
   "outputs": [],
   "source": [
    "## Params\n",
    "cur_params = {}\n",
    "cur_params['batch_size']         = 100\n",
    "cur_params['t_steps']            = 10000 # 10k for now. maybe final sims will be 20k+\n",
    "\n",
    "cur_params['gamma']              = 1e-3\n",
    "cur_params['alpha_t']            = 1.0\n",
    "cur_params['noise_str']          = 1e-2\n",
    "\n",
    "cur_params['learning_rate']      = 0.0003\n",
    "cur_params['learning_rate_inv']  = 1e-3\n",
    "cur_params['learning_rate_rinv'] = 1e-3\n",
    "cur_params['num_steps_rinv']     = 2\n",
    "\n",
    "cur_params['SGD']                = False\n",
    "\n",
    "cur_params['mode'] = 'classification'\n",
    "#cur_params['dataset'] = 'mnist'\n",
    "\n",
    "cur_params['activation'] = 'tanh'\n",
    "cur_params['top_loss'] = 'l2'\n",
    "cur_params['l_dim'] = 4*[100]\n",
    "\n",
    "cur_params['preprocess'] = False"
   ]
  },
  {
   "cell_type": "code",
   "execution_count": 10,
   "metadata": {
    "collapsed": true,
    "deletable": true,
    "editable": true
   },
   "outputs": [],
   "source": [
    "err_alg = 2"
   ]
  },
  {
   "cell_type": "code",
   "execution_count": null,
   "metadata": {
    "collapsed": false,
    "deletable": true,
    "editable": true
   },
   "outputs": [
    {
     "name": "stdout",
     "output_type": "stream",
     "text": [
      "Extracting MNIST_data/train-images-idx3-ubyte.gz\n",
      "Extracting MNIST_data/train-labels-idx1-ubyte.gz\n",
      "Extracting MNIST_data/t10k-images-idx3-ubyte.gz\n",
      "Extracting MNIST_data/t10k-labels-idx1-ubyte.gz\n",
      "Extracting MNIST_data/train-images-idx3-ubyte.gz\n",
      "Extracting MNIST_data/train-labels-idx1-ubyte.gz\n",
      "Extracting MNIST_data/t10k-images-idx3-ubyte.gz\n",
      "Extracting MNIST_data/t10k-labels-idx1-ubyte.gz\n",
      "[784, 100, 100, 100, 100, 10]\n",
      "5\n",
      "Iter:  0 Loss, accuracy:  [111.2081, 0.20999999]\n",
      "Iter:  100 Loss, accuracy:  [92.061226, 0.23]\n",
      "Iter:  200 Loss, accuracy:  [27.0042, 0.77999997]\n",
      "Iter:  300 Loss, accuracy:  [21.843559, 0.87]\n",
      "Iter:  400 Loss, accuracy:  [38.351521, 0.69]\n",
      "Iter:  500 Loss, accuracy:  [42.134109, 0.69]\n",
      "Iter:  600 Loss, accuracy:  [37.723579, 0.69999999]\n",
      "Iter:  700 Loss, accuracy:  [36.535339, 0.75]\n",
      "Iter:  800 Loss, accuracy:  [27.832588, 0.89999998]\n",
      "Iter:  900 Loss, accuracy:  [21.200714, 0.94999999]\n",
      "Iter:  1000 Loss, accuracy:  [17.682388, 0.94999999]\n",
      "Iter:  1100 Loss, accuracy:  [17.281025, 0.98000002]\n",
      "Iter:  1200 Loss, accuracy:  [15.700454, 0.99000001]\n",
      "Iter:  1300 Loss, accuracy:  [15.319419, 0.98000002]\n",
      "Iter:  1400 Loss, accuracy:  [12.748833, 0.97000003]\n",
      "Iter:  1500 Loss, accuracy:  [11.418512, 0.97000003]\n",
      "Iter:  1600 Loss, accuracy:  [11.774527, 0.98000002]\n",
      "Iter:  1700 Loss, accuracy:  [10.418851, 0.98000002]\n",
      "Iter:  1800 Loss, accuracy:  [9.39184, 0.99000001]\n",
      "Iter:  1900 Loss, accuracy:  [8.6437759, 0.99000001]\n",
      "Iter:  2000 Loss, accuracy:  [8.1713963, 1.0]\n",
      "Iter:  2100 Loss, accuracy:  [7.6560979, 1.0]\n",
      "Iter:  2200 Loss, accuracy:  [7.8142195, 0.99000001]\n",
      "Iter:  2300 Loss, accuracy:  [7.6422234, 0.99000001]\n",
      "Iter:  2400 Loss, accuracy:  [7.0456972, 0.99000001]\n",
      "Iter:  2500 Loss, accuracy:  [6.8532057, 0.99000001]\n",
      "Iter:  2600 Loss, accuracy:  [6.5162401, 0.99000001]\n",
      "Iter:  2700 Loss, accuracy:  [5.956017, 0.99000001]\n",
      "Iter:  2800 Loss, accuracy:  [5.8471422, 0.99000001]\n",
      "Iter:  2900 Loss, accuracy:  [6.0934124, 0.99000001]\n",
      "Iter:  3000 Loss, accuracy:  [6.0879164, 0.99000001]\n",
      "Iter:  3100 Loss, accuracy:  [5.9248562, 0.99000001]\n",
      "Iter:  3200 Loss, accuracy:  [5.4494004, 1.0]\n",
      "Iter:  3300 Loss, accuracy:  [5.4297438, 1.0]\n",
      "Iter:  3400 Loss, accuracy:  [5.2341576, 1.0]\n",
      "Iter:  3500 Loss, accuracy:  [5.0058861, 1.0]\n",
      "Iter:  3600 Loss, accuracy:  [4.8645935, 0.99000001]\n",
      "Iter:  3700 Loss, accuracy:  [4.6551681, 1.0]\n",
      "Iter:  3800 Loss, accuracy:  [3.8847494, 1.0]\n",
      "Iter:  3900 Loss, accuracy:  [4.3687325, 1.0]\n",
      "Iter:  4000 Loss, accuracy:  [4.1989923, 1.0]\n",
      "Iter:  4100 Loss, accuracy:  [3.8274636, 1.0]\n",
      "Iter:  4200 Loss, accuracy:  [3.9589779, 1.0]\n",
      "Iter:  4300 Loss, accuracy:  [3.7330961, 1.0]\n",
      "Iter:  4400 Loss, accuracy:  [3.8333795, 1.0]\n",
      "Iter:  4500 Loss, accuracy:  [3.7578249, 1.0]\n",
      "Iter:  4600 Loss, accuracy:  [3.7386277, 1.0]\n"
     ]
    }
   ],
   "source": [
    "tb_path = './stability/'\n",
    "path, dirs, files = os.walk(tb_path).next()\n",
    "cur_run = len(dirs)+1\n",
    "\n",
    "out_dict = tprop.train_net(dataset='mnist', err_alg=err_alg, tb_path='./stability/'+str(cur_run), **cur_params)"
   ]
  },
  {
   "cell_type": "code",
   "execution_count": null,
   "metadata": {
    "collapsed": true,
    "deletable": true,
    "editable": true
   },
   "outputs": [],
   "source": []
  },
  {
   "cell_type": "code",
   "execution_count": null,
   "metadata": {
    "collapsed": true,
    "deletable": true,
    "editable": true
   },
   "outputs": [],
   "source": []
  },
  {
   "cell_type": "code",
   "execution_count": null,
   "metadata": {
    "collapsed": true,
    "deletable": true,
    "editable": true
   },
   "outputs": [],
   "source": []
  },
  {
   "cell_type": "code",
   "execution_count": null,
   "metadata": {
    "collapsed": true,
    "deletable": true,
    "editable": true
   },
   "outputs": [],
   "source": []
  },
  {
   "cell_type": "code",
   "execution_count": null,
   "metadata": {
    "collapsed": false,
    "deletable": true,
    "editable": true
   },
   "outputs": [
    {
     "name": "stdout",
     "output_type": "stream",
     "text": [
      "Extracting MNIST_data/train-images-idx3-ubyte.gz\n",
      "Extracting MNIST_data/train-labels-idx1-ubyte.gz\n",
      "Extracting MNIST_data/t10k-images-idx3-ubyte.gz\n",
      "Extracting MNIST_data/t10k-labels-idx1-ubyte.gz\n",
      "Extracting MNIST_data/train-images-idx3-ubyte.gz\n",
      "Extracting MNIST_data/train-labels-idx1-ubyte.gz\n",
      "Extracting MNIST_data/t10k-images-idx3-ubyte.gz\n",
      "Extracting MNIST_data/t10k-labels-idx1-ubyte.gz\n",
      "[784, 240, 240, 10]\n",
      "3\n",
      "Iter:  0 Loss, accuracy:  [2.4751937, 0.07]\n",
      "Iter:  100 Loss, accuracy:  [2.4583964, 0.079999998]\n",
      "Iter:  200 Loss, accuracy:  [1.1673048, 0.81999999]\n",
      "Iter:  300 Loss, accuracy:  [0.16610713, 1.0]\n",
      "Iter:  400 Loss, accuracy:  [0.058347683, 1.0]\n",
      "Iter:  500 Loss, accuracy:  [0.050273329, 1.0]\n",
      "Iter:  600 Loss, accuracy:  [0.033072833, 1.0]\n",
      "Iter:  700 Loss, accuracy:  [0.030275177, 1.0]\n",
      "Iter:  800 Loss, accuracy:  [0.027711, 1.0]\n",
      "Iter:  900 Loss, accuracy:  [0.064537637, 0.99000001]\n",
      "Iter:  1000 Loss, accuracy:  [0.033124611, 1.0]\n",
      "Iter:  1100 Loss, accuracy:  [0.026351171, 1.0]\n",
      "Iter:  1200 Loss, accuracy:  [0.053945247, 1.0]\n",
      "Iter:  1300 Loss, accuracy:  [0.042120647, 1.0]\n",
      "Iter:  1400 Loss, accuracy:  [0.047288794, 1.0]\n",
      "Iter:  1500 Loss, accuracy:  [0.031446602, 1.0]\n",
      "Iter:  1600 Loss, accuracy:  [0.036366943, 1.0]\n",
      "Iter:  1700 Loss, accuracy:  [0.10187025, 0.99000001]\n",
      "Iter:  1800 Loss, accuracy:  [0.051354542, 1.0]\n",
      "Iter:  1900 Loss, accuracy:  [0.09178438, 0.99000001]\n",
      "Iter:  2000 Loss, accuracy:  [0.14272265, 0.97000003]\n",
      "Iter:  2100 Loss, accuracy:  [0.17253141, 0.98000002]\n",
      "Iter:  2200 Loss, accuracy:  [0.18780869, 0.93000001]\n",
      "Iter:  2300 Loss, accuracy:  [0.22937694, 0.93000001]\n",
      "Iter:  2400 Loss, accuracy:  [0.17052156, 0.97000003]\n",
      "Iter:  2500 Loss, accuracy:  [0.14353427, 0.95999998]\n",
      "Iter:  2600 Loss, accuracy:  [0.066018999, 1.0]\n",
      "Iter:  2700 Loss, accuracy:  [0.12229601, 0.98000002]\n",
      "Iter:  2800 Loss, accuracy:  [0.89734077, 0.68000001]\n",
      "Iter:  2900 Loss, accuracy:  [0.20251369, 0.94]\n",
      "Iter:  3000 Loss, accuracy:  [0.43326396, 0.85000002]\n",
      "Iter:  3100 Loss, accuracy:  [0.13931677, 0.97000003]\n",
      "Iter:  3200 Loss, accuracy:  [0.19365373, 0.94]\n",
      "Iter:  3300 Loss, accuracy:  [0.23322289, 0.94]\n",
      "Iter:  3400 Loss, accuracy:  [0.39115608, 0.83999997]\n",
      "Iter:  3500 Loss, accuracy:  [0.35298744, 0.88]\n",
      "Iter:  3600 Loss, accuracy:  [0.72782254, 0.81]\n",
      "Iter:  3700 Loss, accuracy:  [0.17476048, 0.94]\n",
      "Iter:  3800 Loss, accuracy:  [0.90094185, 0.75]\n",
      "Iter:  3900 Loss, accuracy:  [0.43311632, 0.87]\n",
      "Iter:  4000 Loss, accuracy:  [0.26630834, 0.91000003]\n",
      "Iter:  4100 Loss, accuracy:  [0.29197702, 0.91000003]\n",
      "Iter:  4200 Loss, accuracy:  [0.14210394, 0.95999998]\n",
      "Iter:  4300 Loss, accuracy:  [0.21500328, 0.93000001]\n",
      "Iter:  4400 Loss, accuracy:  [2.2142937, 0.44999999]\n",
      "Iter:  4500 Loss, accuracy:  [0.64905983, 0.81]\n",
      "Iter:  4600 Loss, accuracy:  [0.13265169, 0.99000001]\n",
      "Iter:  4700 Loss, accuracy:  [3.1638675, 0.41999999]\n",
      "Iter:  4800 Loss, accuracy:  [0.13752963, 0.95999998]\n",
      "Iter:  4900 Loss, accuracy:  [0.21476391, 0.93000001]\n",
      "Iter:  5000 Loss, accuracy:  [1.2426984, 0.73000002]\n",
      "Iter:  5100 Loss, accuracy:  [0.30416113, 0.93000001]\n",
      "Iter:  5200 Loss, accuracy:  [0.38491112, 0.83999997]\n",
      "Iter:  5300 Loss, accuracy:  [1.6191062, 0.63]\n",
      "Iter:  5400 Loss, accuracy:  [0.21581352, 0.94999999]\n",
      "Iter:  5500 Loss, accuracy:  [0.16044867, 0.97000003]\n",
      "Iter:  5600 Loss, accuracy:  [0.30119988, 0.92000002]\n",
      "Iter:  5700 Loss, accuracy:  [0.31357288, 0.94]\n",
      "Iter:  5800 Loss, accuracy:  [0.50060636, 0.82999998]\n",
      "Iter:  5900 Loss, accuracy:  [0.1775187, 0.94999999]\n",
      "Iter:  6000 Loss, accuracy:  [0.15307857, 0.98000002]\n",
      "Iter:  6100 Loss, accuracy:  [0.60397142, 0.85000002]\n",
      "Iter:  6200 Loss, accuracy:  [0.45482245, 0.87]\n",
      "Iter:  6300 Loss, accuracy:  [0.57579851, 0.82999998]\n",
      "Iter:  6400 Loss, accuracy:  [0.16636455, 0.98000002]\n",
      "Iter:  6500 Loss, accuracy:  [1.1267836, 0.58999997]\n",
      "Iter:  6600 Loss, accuracy:  [2.5466461, 0.49000001]\n",
      "Iter:  6700 Loss, accuracy:  [3.1102455, 0.23]\n",
      "Iter:  6800 Loss, accuracy:  [0.87086987, 0.73000002]\n",
      "Iter:  6900 Loss, accuracy:  [1.7435434, 0.54000002]\n",
      "Iter:  7000 Loss, accuracy:  [0.52289885, 0.77999997]\n",
      "Iter:  7100 Loss, accuracy:  [0.52957553, 0.82999998]\n",
      "Iter:  7200 Loss, accuracy:  [0.64892149, 0.81]\n",
      "Iter:  7300 Loss, accuracy:  [1.0498509, 0.73000002]\n",
      "Iter:  7400 Loss, accuracy:  [0.72136688, 0.81999999]\n",
      "Iter:  7500 Loss, accuracy:  [0.34591609, 0.91000003]\n",
      "Iter:  7600 Loss, accuracy:  [1.0858003, 0.62]\n",
      "Iter:  7700 Loss, accuracy:  [0.28107798, 0.92000002]\n",
      "Iter:  7800 Loss, accuracy:  [0.95473498, 0.70999998]\n",
      "Iter:  7900 Loss, accuracy:  [1.3833274, 0.63999999]\n",
      "Iter:  8000 Loss, accuracy:  [2.0531628, 0.55000001]\n",
      "Iter:  8100 Loss, accuracy:  [2.7188239, 0.44999999]\n",
      "Iter:  8200 Loss, accuracy:  [0.76803255, 0.74000001]\n",
      "Iter:  8300 Loss, accuracy:  [0.91198993, 0.75]\n",
      "Iter:  8400 Loss, accuracy:  [0.31242847, 0.92000002]\n",
      "Iter:  8500 Loss, accuracy:  [0.30941838, 0.92000002]\n",
      "Iter:  8600 Loss, accuracy:  [2.1803079, 0.44]\n",
      "Iter:  8700 Loss, accuracy:  [0.5169127, 0.82999998]\n",
      "Iter:  8800 Loss, accuracy:  [0.51144576, 0.83999997]\n",
      "Iter:  8900 Loss, accuracy:  [1.0692123, 0.75]\n",
      "Iter:  9000 Loss, accuracy:  [0.50386804, 0.76999998]\n",
      "Iter:  9100 Loss, accuracy:  [1.018857, 0.66000003]\n",
      "Iter:  9200 Loss, accuracy:  [0.16179642, 0.94999999]\n",
      "Iter:  9300 Loss, accuracy:  [4.7822838, 0.27000001]\n",
      "Iter:  9400 Loss, accuracy:  [5.6906862, 0.20999999]\n",
      "Iter:  9500 Loss, accuracy:  [0.43697748, 0.82999998]\n",
      "Iter:  9600 Loss, accuracy:  [1.1050142, 0.57999998]\n",
      "Iter:  9700 Loss, accuracy:  [0.90007567, 0.74000001]\n",
      "Iter:  9800 Loss, accuracy:  [3.7656736, 0.33000001]\n",
      "Iter:  9900 Loss, accuracy:  [0.75475371, 0.75999999]\n",
      "Iter:  10000 Loss, accuracy:  [1.4696003, 0.63999999]\n",
      "Iter:  10100 Loss, accuracy:  [0.36398941, 0.93000001]\n",
      "Iter:  10200 Loss, accuracy:  [0.42753184, 0.86000001]\n",
      "Iter:  10300 Loss, accuracy:  [2.5079317, 0.49000001]\n",
      "Iter:  10400 Loss, accuracy:  [0.38087067, 0.87]\n",
      "Iter:  10500 Loss, accuracy:  [0.3692883, 0.91000003]\n",
      "Iter:  10600 Loss, accuracy:  [1.0239681, 0.69999999]\n",
      "Iter:  10700 Loss, accuracy:  [0.9263649, 0.75]\n",
      "Iter:  10800 Loss, accuracy:  [2.3904319, 0.47]\n",
      "Iter:  10900 Loss, accuracy:  [1.1384606, 0.75]\n",
      "Iter:  11000 Loss, accuracy:  [0.70992666, 0.74000001]\n",
      "Iter:  11100 Loss, accuracy:  [0.34141612, 0.89999998]\n",
      "Iter:  11200 Loss, accuracy:  [0.22019017, 0.94999999]\n",
      "Iter:  11300 Loss, accuracy:  [1.9170727, 0.44]\n",
      "Iter:  11400 Loss, accuracy:  [0.2767649, 0.94]\n",
      "Iter:  11500 Loss, accuracy:  [2.1375425, 0.38999999]\n",
      "Iter:  11600 Loss, accuracy:  [0.76948225, 0.73000002]\n",
      "Iter:  11700 Loss, accuracy:  [0.28736982, 0.91000003]\n",
      "Iter:  11800 Loss, accuracy:  [2.2147584, 0.51999998]\n",
      "Iter:  11900 Loss, accuracy:  [0.20053118, 0.95999998]\n",
      "Iter:  12000 Loss, accuracy:  [2.8439727, 0.56]\n",
      "Iter:  12100 Loss, accuracy:  [0.76864576, 0.73000002]\n",
      "Iter:  12200 Loss, accuracy:  [2.5426545, 0.46000001]\n",
      "Iter:  12300 Loss, accuracy:  [0.18620847, 0.93000001]\n",
      "Iter:  12400 Loss, accuracy:  [0.35981873, 0.89999998]\n",
      "Iter:  12500 Loss, accuracy:  [3.2634301, 0.38999999]\n",
      "Iter:  12600 Loss, accuracy:  [1.0041473, 0.64999998]\n",
      "Iter:  12700 Loss, accuracy:  [0.26319367, 0.94]\n",
      "Iter:  12800 Loss, accuracy:  [0.95419776, 0.75999999]\n",
      "Iter:  12900 Loss, accuracy:  [1.0655071, 0.75999999]\n",
      "Iter:  13000 Loss, accuracy:  [1.1562438, 0.72000003]\n",
      "Iter:  13100 Loss, accuracy:  [0.61032939, 0.82999998]\n",
      "Iter:  13200 Loss, accuracy:  [3.9335859, 0.46000001]\n",
      "Iter:  13300 Loss, accuracy:  [1.2246635, 0.66000003]\n",
      "Iter:  13400 Loss, accuracy:  [2.4143951, 0.47999999]\n",
      "Iter:  13500 Loss, accuracy:  [1.4519429, 0.5]\n",
      "Iter:  13600 Loss, accuracy:  [2.4679315, 0.47]\n",
      "Iter:  13700 Loss, accuracy:  [1.1807827, 0.69999999]\n",
      "Iter:  13800 Loss, accuracy:  [0.52193552, 0.79000002]\n",
      "Iter:  13900 Loss, accuracy:  [0.1800084, 0.93000001]\n",
      "Iter:  14000 Loss, accuracy:  [1.6630237, 0.50999999]\n",
      "Iter:  14100 Loss, accuracy:  [0.67784584, 0.74000001]\n",
      "Iter:  14200 Loss, accuracy:  [0.95101118, 0.75]\n",
      "Iter:  14300 Loss, accuracy:  [1.121874, 0.69]\n",
      "Iter:  14400 Loss, accuracy:  [3.3668852, 0.33000001]\n",
      "Iter:  14500 Loss, accuracy:  [0.44287786, 0.88]\n",
      "Iter:  14600 Loss, accuracy:  [0.75526571, 0.79000002]\n",
      "Iter:  14700 Loss, accuracy:  [0.94381821, 0.69999999]\n",
      "Iter:  14800 Loss, accuracy:  [0.3026199, 0.93000001]\n",
      "Iter:  14900 Loss, accuracy:  [0.78421372, 0.74000001]\n",
      "Iter:  15000 Loss, accuracy:  [0.43032357, 0.82999998]\n",
      "Iter:  15100 Loss, accuracy:  [1.0792755, 0.69]\n",
      "Iter:  15200 Loss, accuracy:  [0.3951396, 0.86000001]\n",
      "Iter:  15300 Loss, accuracy:  [0.41138551, 0.86000001]\n",
      "Iter:  15400 Loss, accuracy:  [0.4453457, 0.87]\n",
      "Iter:  15500 Loss, accuracy:  [0.94059646, 0.73000002]\n",
      "Iter:  15600 Loss, accuracy:  [2.2864752, 0.52999997]\n",
      "Iter:  15700 Loss, accuracy:  [0.33245027, 0.86000001]\n",
      "Iter:  15800 Loss, accuracy:  [0.49441648, 0.88999999]\n",
      "Iter:  15900 Loss, accuracy:  [1.8497777, 0.44]\n",
      "Iter:  16000 Loss, accuracy:  [2.0036139, 0.44]\n",
      "Iter:  16100 Loss, accuracy:  [0.71851408, 0.75]\n",
      "Iter:  16200 Loss, accuracy:  [1.3873487, 0.64999998]\n",
      "Iter:  16300 Loss, accuracy:  [0.88861573, 0.73000002]\n",
      "Iter:  16400 Loss, accuracy:  [1.302392, 0.61000001]\n",
      "Iter:  16500 Loss, accuracy:  [0.39365369, 0.88]\n",
      "Iter:  16600 Loss, accuracy:  [3.3527906, 0.52999997]\n",
      "Iter:  16700 Loss, accuracy:  [1.2806119, 0.69999999]\n",
      "Iter:  16800 Loss, accuracy:  [0.49847427, 0.81]\n",
      "Iter:  16900 Loss, accuracy:  [0.22868626, 0.94]\n",
      "Iter:  17000 Loss, accuracy:  [4.9803176, 0.31]\n",
      "Iter:  17100 Loss, accuracy:  [0.37600526, 0.87]\n",
      "Iter:  17200 Loss, accuracy:  [0.59209782, 0.80000001]\n",
      "Iter:  17300 Loss, accuracy:  [1.6327355, 0.50999999]\n",
      "Iter:  17400 Loss, accuracy:  [2.6727722, 0.36000001]\n",
      "Iter:  17500 Loss, accuracy:  [0.80715835, 0.74000001]\n",
      "Iter:  17600 Loss, accuracy:  [1.7076684, 0.54000002]\n",
      "Iter:  17700 Loss, accuracy:  [1.7672248, 0.51999998]\n",
      "Iter:  17800 Loss, accuracy:  [3.1204212, 0.38999999]\n",
      "Iter:  17900 Loss, accuracy:  [0.42148376, 0.91000003]\n",
      "Iter:  18000 Loss, accuracy:  [1.2756141, 0.66000003]\n",
      "Iter:  18100 Loss, accuracy:  [1.536116, 0.57999998]\n",
      "Iter:  18200 Loss, accuracy:  [2.8542559, 0.31]\n",
      "Iter:  18300 Loss, accuracy:  [1.0471588, 0.72000003]\n",
      "Iter:  18400 Loss, accuracy:  [1.1412004, 0.69999999]\n",
      "Iter:  18500 Loss, accuracy:  [0.66878039, 0.74000001]\n",
      "Iter:  18600 Loss, accuracy:  [0.50029254, 0.83999997]\n",
      "Iter:  18700 Loss, accuracy:  [0.16376625, 0.95999998]\n",
      "Iter:  18800 Loss, accuracy:  [0.61706126, 0.81]\n",
      "Iter:  18900 Loss, accuracy:  [1.1229622, 0.69]\n",
      "Iter:  19000 Loss, accuracy:  [0.96021849, 0.75999999]\n",
      "Iter:  19100 Loss, accuracy:  [1.1346459, 0.56999999]\n",
      "Iter:  19200 Loss, accuracy:  [2.3392816, 0.36000001]\n",
      "Iter:  19300 Loss, accuracy:  [1.1486865, 0.68000001]\n",
      "Iter:  19400 Loss, accuracy:  [1.8834779, 0.58999997]\n",
      "Iter:  19500 Loss, accuracy:  [3.0161805, 0.25]\n",
      "Iter:  19600 Loss, accuracy:  [1.0359124, 0.68000001]\n",
      "Iter:  19700 Loss, accuracy:  [0.3738952, 0.86000001]\n",
      "Iter:  19800 Loss, accuracy:  [1.2108841, 0.70999998]\n",
      "Iter:  19900 Loss, accuracy:  [1.2749851, 0.64999998]\n",
      "Iter:  20000 Loss, accuracy:  [0.44216296, 0.87]\n",
      "Iter:  20100 Loss, accuracy:  [0.68104994, 0.82999998]\n",
      "Iter:  20200 Loss, accuracy:  [1.4781904, 0.56999999]\n",
      "Iter:  20300 Loss, accuracy:  [2.5538034, 0.43000001]\n",
      "Iter:  20400 Loss, accuracy:  [0.74091852, 0.79000002]\n",
      "Iter:  20500 Loss, accuracy:  [0.68195224, 0.76999998]\n",
      "Iter:  20600 Loss, accuracy:  [1.649819, 0.52999997]\n",
      "Iter:  20700 Loss, accuracy:  [2.8530614, 0.38]\n",
      "Iter:  20800 Loss, accuracy:  [4.203177, 0.2]\n",
      "Iter:  20900 Loss, accuracy:  [0.26650849, 0.93000001]\n",
      "Iter:  21000 Loss, accuracy:  [2.1244271, 0.49000001]\n",
      "Iter:  21100 Loss, accuracy:  [1.0099884, 0.63]\n",
      "Iter:  21200 Loss, accuracy:  [0.23884399, 0.91000003]\n",
      "Iter:  21300 Loss, accuracy:  [0.56839728, 0.83999997]\n",
      "Iter:  21400 Loss, accuracy:  [0.42511237, 0.83999997]\n",
      "Iter:  21500 Loss, accuracy:  [0.49615508, 0.81999999]\n",
      "Iter:  21600 Loss, accuracy:  [1.617004, 0.69999999]\n"
     ]
    }
   ],
   "source": [
    "tb_path = './stability/'\n",
    "path, dirs, files = os.walk(tb_path).next()\n",
    "cur_run = len(dirs)+1\n",
    "\n",
    "out_dict = tprop.train_net(err_alg=err_alg, tb_path='./stability/'+str(cur_run), **cur_params)"
   ]
  },
  {
   "cell_type": "code",
   "execution_count": null,
   "metadata": {
    "collapsed": true,
    "deletable": true,
    "editable": true
   },
   "outputs": [],
   "source": []
  },
  {
   "cell_type": "code",
   "execution_count": null,
   "metadata": {
    "collapsed": false,
    "deletable": true,
    "editable": true
   },
   "outputs": [],
   "source": []
  },
  {
   "cell_type": "code",
   "execution_count": null,
   "metadata": {
    "collapsed": true,
    "deletable": true,
    "editable": true
   },
   "outputs": [],
   "source": []
  },
  {
   "cell_type": "code",
   "execution_count": 6,
   "metadata": {
    "collapsed": true,
    "deletable": true,
    "editable": true
   },
   "outputs": [],
   "source": [
    "# datasets\n",
    "n = 1000"
   ]
  },
  {
   "cell_type": "code",
   "execution_count": 7,
   "metadata": {
    "collapsed": false,
    "deletable": true,
    "editable": true
   },
   "outputs": [],
   "source": [
    "Xcircs = ds.combine_data((ds.annulus(n/4, d=2, r1=0.1, r2=0.2),\n",
    "                       ds.annulus(n/4, d=2, r1=0.3, r2=0.4),\n",
    "                       ds.annulus(n/4, d=2, r1=0.5, r2=0.6),\n",
    "                       ds.annulus(n/4, d=2, r1=0.7, r2=0.8)))\n",
    "Xcircs.outputs = np.zeros_like(Xcircs.inputs)\n",
    "Xcircs.outputs[:n/4,0] = 1\n",
    "Xcircs.outputs[n/4:2*n/4,1] = 1\n",
    "Xcircs.outputs[2*n/4:3*n/4,0] = 1\n",
    "Xcircs.outputs[3*n/4:4*n/4,1] = 1"
   ]
  },
  {
   "cell_type": "code",
   "execution_count": 8,
   "metadata": {
    "collapsed": false,
    "deletable": true,
    "editable": true
   },
   "outputs": [
    {
     "data": {
      "image/png": "[encoded data removed]",
      "text/plain": [
       "<matplotlib.figure.Figure at 0x1226c7390>"
      ]
     },
     "metadata": {},
     "output_type": "display_data"
    }
   ],
   "source": [
    "X = Xcircs\n",
    "plt.scatter(X.inputs[:,0], X.inputs[:,1], c=ds.un_hotify(X.outputs))\n",
    "plt.axis('square')\n",
    "plt.show()"
   ]
  },
  {
   "cell_type": "code",
   "execution_count": null,
   "metadata": {
    "collapsed": true,
    "deletable": true,
    "editable": true
   },
   "outputs": [],
   "source": []
  },
  {
   "cell_type": "code",
   "execution_count": null,
   "metadata": {
    "collapsed": true,
    "deletable": true,
    "editable": true
   },
   "outputs": [],
   "source": []
  }
 ],
 "metadata": {
  "kernelspec": {
   "display_name": "Python 2",
   "language": "python",
   "name": "python2"
  },
  "language_info": {
   "codemirror_mode": {
    "name": "ipython",
    "version": 2
   },
   "file_extension": ".py",
   "mimetype": "text/x-python",
   "name": "python",
   "nbconvert_exporter": "python",
   "pygments_lexer": "ipython2",
   "version": "2.7.13"
  }
 },
 "nbformat": 4,
 "nbformat_minor": 0
}
