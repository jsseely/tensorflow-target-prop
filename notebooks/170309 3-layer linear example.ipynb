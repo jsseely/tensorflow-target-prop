{
 "cells": [
  {
   "cell_type": "code",
   "execution_count": 83,
   "metadata": {
    "collapsed": true
   },
   "outputs": [],
   "source": [
    "%matplotlib inline\n",
    "import numpy as np\n",
    "import matplotlib.pyplot as plt\n",
    "import matplotlib.cm as cm\n",
    "from mpl_toolkits.mplot3d import Axes3D\n",
    "import seaborn as sns\n",
    "sns.set_context('notebook')"
   ]
  },
  {
   "cell_type": "code",
   "execution_count": 84,
   "metadata": {
    "collapsed": true
   },
   "outputs": [],
   "source": [
    "import sys\n",
    "sys.path.append('../')\n",
    "import targprop.operations as ops"
   ]
  },
  {
   "cell_type": "code",
   "execution_count": 434,
   "metadata": {
    "collapsed": true
   },
   "outputs": [],
   "source": [
    "# dimensions\n",
    "n0 = 1 # input dimension / number of input units\n",
    "n1 = 2 # hidden dimension / number of hidden layer units\n",
    "n2 = 1\n",
    "\n",
    "th1 = 3*np.pi/8\n",
    "W1 = np.array([[np.cos(th1)], [np.sin(th1)]]) # size 2 x 1\n",
    "th2 = -2*np.pi/8\n",
    "W2 = np.array([[np.cos(th2) , np.sin(th2)]]) # size 1 x 2\n",
    "\n",
    "# inputs\n",
    "num_examples = 2\n",
    "\n",
    "x0 = np.linspace(-1, 1, num_examples)[np.newaxis, :]"
   ]
  },
  {
   "cell_type": "code",
   "execution_count": 435,
   "metadata": {
    "collapsed": true
   },
   "outputs": [],
   "source": [
    "lin = ops.linear()\n",
    "tanh = ops.tanh()"
   ]
  },
  {
   "cell_type": "code",
   "execution_count": 436,
   "metadata": {
    "collapsed": true
   },
   "outputs": [],
   "source": [
    "y = -0.8*x0"
   ]
  },
  {
   "cell_type": "code",
   "execution_count": 437,
   "metadata": {
    "collapsed": true
   },
   "outputs": [],
   "source": [
    "# forward pass on the model\n",
    "#x1 = np.dot( W1, x0 )\n",
    "#x2 = np.dot( W2, x1 )"
   ]
  },
  {
   "cell_type": "code",
   "execution_count": 438,
   "metadata": {
    "collapsed": true
   },
   "outputs": [],
   "source": [
    "def get_subspaces(A, r):\n",
    "  u,s,v = np.linalg.svd(A, full_matrices=True)\n",
    "  ss = {'im': u[:,:r], 'ker': v[r:].T, 'coim': v[:r].T, 'coker': u[:,r:]}\n",
    "  \n",
    "  ss2 = {'im':  np.dot(ss['im'], mg(ss['im'].shape[1])), \n",
    "        'ker': np.dot(ss['ker'], mg(ss['ker'].shape[1])), \n",
    "        'coim': np.dot(ss['coim'], mg(ss['coim'].shape[1])), \n",
    "        'coker': np.dot(ss['coker'], mg(ss['coker'].shape[1])), }\n",
    "  return ss2"
   ]
  },
  {
   "cell_type": "code",
   "execution_count": 439,
   "metadata": {
    "collapsed": true
   },
   "outputs": [],
   "source": [
    "def mg(dim):\n",
    "  if dim>0:\n",
    "    return np.stack(np.meshgrid(*(dim*[np.linspace(-5, 5, 101)]))).reshape(dim, -1)\n",
    "  else:\n",
    "    return []"
   ]
  },
  {
   "cell_type": "code",
   "execution_count": 440,
   "metadata": {
    "collapsed": false
   },
   "outputs": [],
   "source": [
    "def train(prop_method, gamma=1, num_steps=10, alpha=0.5):\n",
    "  \n",
    "  layers = 2\n",
    "  l_dim = [1, 2, 1]\n",
    "  \n",
    "  def lint():\n",
    "    return [(layers+1)*[None] for i in range(num_steps)]\n",
    "  \n",
    "  W = lint()\n",
    "  x = lint()\n",
    "  L = lint()\n",
    "  \n",
    "  p = lint()\n",
    "  \n",
    "  Wt = lint()\n",
    "  xt = lint()\n",
    "  pt = lint()\n",
    "  \n",
    "  Ws = lint()\n",
    "\n",
    "  # init\n",
    "  for l in range(1, layers+1):\n",
    "    W[0][l] = np.random.randn(l_dim[l], l_dim[l-1])\n",
    "  \n",
    "\n",
    "  # train\n",
    "  for t in range(num_steps):\n",
    "\n",
    "    x[t][0] = x0\n",
    "    xt[t][-1] = y\n",
    "\n",
    "    # Fw\n",
    "    for l in range(1, layers+1):\n",
    "      x[t][l] = lin.f( W[t][l], x[t][l-1] )\n",
    "\n",
    "    # targs\n",
    "    for l in range(layers-1, -1, -1):\n",
    "      xt[t][l] = lin.f_inv( xt[t][l+1].T, x[t][l].T, W[t][l+1].T ).T\n",
    "\n",
    "    # Bw\n",
    "    p[t][-1] = -(x[t][-1] - xt[t][-1])\n",
    "    for l in range(layers-1, 0, -1):\n",
    "      p[t][l] = -(x[t][l] - xt[t][l]) + np.dot(W[t][l+1].T, p[t][l+1])\n",
    "      \n",
    "    if t < num_steps - 1:\n",
    "      for l in range(1, layers+1):\n",
    "        W[t+1][l] = W[t][l] + alpha*np.dot(p[t][l], x[t][l-1].T)\n",
    "        \n",
    "    for l in range(1, layers+1):\n",
    "      L[t][l] = 0.5*np.mean((x[t][l] - xt[t][l])**2)\n",
    "      \n",
    "    for l in range(1, layers+1):\n",
    "      Ws[t][l] = get_subspaces(W[t][l], 1)\n",
    "      \n",
    "  return { 'W': W, 'x': x, 'L': L, 'p': p, 'Wt': Wt, 'xt': xt, 'pt': pt, 'Ws': Ws }"
   ]
  },
  {
   "cell_type": "code",
   "execution_count": 441,
   "metadata": {
    "collapsed": false
   },
   "outputs": [],
   "source": [
    "num_steps = 2\n",
    "datasets = {}\n",
    "datasets['bp'] = train('bp', num_steps=num_steps, alpha=0.1)"
   ]
  },
  {
   "cell_type": "code",
   "execution_count": 442,
   "metadata": {
    "collapsed": true
   },
   "outputs": [],
   "source": [
    "def plot_loss(data, ax, label):\n",
    "  ax.plot(np.log(np.stack(data['L'])[:, 1:].astype('float')), '-', label=label)"
   ]
  },
  {
   "cell_type": "code",
   "execution_count": 443,
   "metadata": {
    "collapsed": false
   },
   "outputs": [
    {
     "data": {
      "text/plain": [
       "<matplotlib.legend.Legend at 0x119607c10>"
      ]
     },
     "execution_count": 443,
     "metadata": {},
     "output_type": "execute_result"
    },
    {
     "data": {
      "image/png": "[encoded data removed]",
      "text/plain": [
       "<matplotlib.figure.Figure at 0x11a5943d0>"
      ]
     },
     "metadata": {},
     "output_type": "display_data"
    }
   ],
   "source": [
    "sns.set_palette(sns.color_palette(\"Set1\", 10))\n",
    "fig = plt.figure()\n",
    "ax = fig.add_subplot(111)\n",
    "for key, val in datasets.items():\n",
    "  plot_loss(val, ax, key)\n",
    "plt.legend()"
   ]
  },
  {
   "cell_type": "code",
   "execution_count": 444,
   "metadata": {
    "collapsed": true
   },
   "outputs": [],
   "source": [
    "def axify(ax, lims=None):\n",
    "  ax.axis('equal')\n",
    "  if not lims:\n",
    "    lims = ax.get_xlim() + ax.get_ylim()\n",
    "    lims = min(lims), max(lims)\n",
    "  ax.set_xlim(lims)\n",
    "  ax.set_ylim(lims)\n",
    "\n",
    "  ax.xaxis.set_ticks(np.arange(np.floor(lims[0]), np.ceil(lims[1]), 0.5))\n",
    "  ax.yaxis.set_ticks(np.arange(np.floor(lims[0]), np.ceil(lims[1]), 0.5))\n",
    "  \n",
    "  ax.hlines([0], *ax.get_xlim(), linewidth=0.75, alpha=0.5)\n",
    "  ax.vlines([0], *ax.get_ylim(), linewidth=0.75, alpha=0.5)\n"
   ]
  },
  {
   "cell_type": "code",
   "execution_count": 445,
   "metadata": {
    "collapsed": true
   },
   "outputs": [],
   "source": [
    "def add_scatterplot(fig, nrows, ncols, subplot, data, args):\n",
    "  \n",
    "  if data.shape[0]==1:\n",
    "    rng = data.max() - data.min()\n",
    "    ax = fig.add_subplot(nrows, ncols, subplot)\n",
    "    ax.scatter(data[0,:], rng*0.0*(np.random.rand(1, data.shape[1])-0.5), **args)\n",
    "    #ax.scatter(data[0,:], np.linspace(-0.05, 0.05, data.shape[1]), **args)\n",
    "    axify(ax)\n",
    "    ax.set_xlim((data.min()-rng*0.1, data.max()+rng*0.1))\n",
    "    ax.set_ylim((-rng*0.1, rng*0.1))\n",
    "    ax.yaxis.set_ticks([0])\n",
    "\n",
    "  elif data.shape[0]==2:\n",
    "    ax = fig.add_subplot(nrows, ncols, subplot)\n",
    "    ax.scatter(data[0,:], data[1,:], **args)\n",
    "    axify(ax)\n",
    "  elif data.shape[0]>2:\n",
    "    ax = fig.add_subplot(nrows, ncols, subplot, projection='3d')\n",
    "    ax.scatter(data[0,:], data[1,:], data[2,:], **args)\n",
    "\n",
    "  return ax"
   ]
  },
  {
   "cell_type": "code",
   "execution_count": 446,
   "metadata": {
    "collapsed": true
   },
   "outputs": [],
   "source": [
    "def append_scatterplot(ax, data, args):\n",
    "\n",
    "  if data.shape[0]==1:\n",
    "    ax.scatter(data[0,:], np.zeros_like(data), **args)\n",
    "  elif data.shape[0]==2:\n",
    "    ax.scatter(data[0,:], data[1,:], **args)\n",
    "  elif data.shape[0]>2:\n",
    "    ax.scatter(data[0,:], data[1,:], data[2,:], **args)\n",
    "\n",
    "  return ax"
   ]
  },
  {
   "cell_type": "markdown",
   "metadata": {
    "collapsed": true
   },
   "source": [
    "------------"
   ]
  },
  {
   "cell_type": "code",
   "execution_count": 447,
   "metadata": {
    "collapsed": false
   },
   "outputs": [],
   "source": [
    "cmap = sns.color_palette(\"coolwarm\", num_examples)\n",
    "set1 = sns.color_palette('Set1')\n",
    "\n",
    "sort_inds = np.argsort(y[0])\n",
    "cmap_sorted = [cmap[i] for i in np.argsort(sort_inds)]"
   ]
  },
  {
   "cell_type": "code",
   "execution_count": 448,
   "metadata": {
    "collapsed": true
   },
   "outputs": [],
   "source": [
    "ds = datasets['bp']"
   ]
  },
  {
   "cell_type": "code",
   "execution_count": 465,
   "metadata": {
    "collapsed": false
   },
   "outputs": [
    {
     "data": {
      "image/png": "[encoded data removed]",
      "text/plain": [
       "<matplotlib.figure.Figure at 0x11cdd5b10>"
      ]
     },
     "metadata": {},
     "output_type": "display_data"
    },
    {
     "data": {
      "image/png": "[encoded data removed]",
      "text/plain": [
       "<matplotlib.figure.Figure at 0x118982e50>"
      ]
     },
     "metadata": {},
     "output_type": "display_data"
    }
   ],
   "source": [
    "sns.palplot(cmap)\n",
    "\n",
    "rows = 2\n",
    "cols = 3\n",
    "mult = 5\n",
    "\n",
    "fig = plt.figure(figsize=(mult*cols, mult*rows))\n",
    "\n",
    "args = {}\n",
    "args['c'] = cmap_sorted\n",
    "args['s'] = 70\n",
    "args['linewidth'] = 0.5\n",
    "\n",
    "args2 = {}\n",
    "args2['c'] = cmap_sorted\n",
    "args2['s'] = 40\n",
    "args2['linewidth'] = 0.5\n",
    "args2['marker'] = 's'\n",
    "\n",
    "args3 = {}\n",
    "args3['c'] = cmap_sorted\n",
    "args3['s'] = 30\n",
    "args3['linewidth'] = 1\n",
    "args3['marker'] = 'v'\n",
    "\n",
    "ax = []\n",
    "\n",
    "t=0\n",
    "ex = 0\n",
    "\n",
    "\n",
    "# plot inputs\n",
    "i = 0\n",
    "ax.append(add_scatterplot(fig, rows, cols, i+1, x0[:,ex][:, np.newaxis], args))\n",
    "axify(ax[-1], [-3,3])\n",
    "\n",
    "i=1\n",
    "ax.append(add_scatterplot(fig, rows, cols, i+1, ds['x'][t][1][:,ex][:, np.newaxis], args))\n",
    "append_scatterplot(ax[-1], ds['xt'][t][1][:,ex][:, np.newaxis], args2)\n",
    "\n",
    "for j in [ex]:\n",
    "  ker = ds['Ws'][t][2]['ker']\n",
    "  datpoint = np.dot(np.linalg.pinv(ds['W'][t][2]), xt[t][2][:, j])[:, np.newaxis]\n",
    "  line = ker + datpoint\n",
    "  plt.plot(line[0,:], line[1,:], c=cmap_sorted[j])\n",
    "\n",
    "#ax[-1].plot(np.dot(ker, np.linspace(-5,5,101)))\n",
    "ax[-1].plot(ds['Ws'][t][1]['im'][0,:],    ds['Ws'][t][1]['im'][1,:],          c=set1[0], linewidth=0.75, alpha=0.5)\n",
    "ax[-1].plot(ds['Ws'][t][1]['coker'][0,:], ds['Ws'][t][1]['coker'][1,:], '--', c=set1[0], linewidth=0.75, alpha=0.5)\n",
    "ax[-1].plot(ds['Ws'][t][2]['coim'][0,:],  ds['Ws'][t][2]['coim'][1,:],        c=set1[1], linewidth=0.75, alpha=0.5)\n",
    "ax[-1].plot(ds['Ws'][t][2]['ker'][0,:],   ds['Ws'][t][2]['ker'][1,:],   '--', c=set1[1], linewidth=0.75, alpha=0.5)\n",
    "append_scatterplot(ax[-1], ds['p'][t][1][:,ex][:, np.newaxis], args3)\n",
    "\n",
    "axify(ax[-1], [-5,5])\n",
    "\n",
    "i=2\n",
    "ax.append(add_scatterplot(fig, rows, cols, i+1, y[:,ex][:, np.newaxis], args2))\n",
    "append_scatterplot(ax[-1], ds['x'][t][2][:,ex][:, np.newaxis], args)\n",
    "append_scatterplot(ax[-1], ds['p'][t][2][:,ex][:, np.newaxis], args3)\n",
    "\n",
    "\n",
    "axify(ax[-1], [-3,3])\n",
    "\n",
    "i=3\n",
    "\n",
    "i=4\n",
    "#ax.append(fig.add_subplot(rows, cols, i+1))\n",
    "# ax.append(add_scatterplot(fig, rows, cols, i+1, ds['x1_est'][t], args))\n",
    "\n",
    "# ax[-1].plot(ds['W1_ss'][t]['im'][0,:], ds['W1_ss'][t]['im'][1,:], c=sns.color_palette()[0])\n",
    "# ax[-1].plot(ds['W1_ss'][t]['coker'][0,:], ds['W1_ss'][t]['coker'][1,:],'--', c=sns.color_palette()[0])\n",
    "# ax[-1].plot(ds['W2_ss'][t]['coim'][0,:], ds['W2_ss'][t]['coim'][1,:], c=sns.color_palette()[1])\n",
    "# ax[-1].plot(ds['W2_ss'][t]['ker'][0,:], ds['W2_ss'][t]['ker'][1,:],'--', c=sns.color_palette()[1])\n",
    "\n",
    "# # for j in np.arange(0, num_examples, 1):\n",
    "# #   ax[-1].plot(x1_tar[0,:,j], x1_tar[1,:,j], c=cmap_sorted[j])\n",
    "# axify(ax[-1], [-3, 3])\n",
    "\n",
    "# i=5\n",
    "# ax.append(add_scatterplot(fig, rows, cols, i+1, y, args))\n",
    "# axify(ax[-1], [-3,3])\n"
   ]
  },
  {
   "cell_type": "code",
   "execution_count": 458,
   "metadata": {
    "collapsed": false
   },
   "outputs": [
    {
     "data": {
      "text/plain": [
       "array([-1.])"
      ]
     },
     "execution_count": 458,
     "metadata": {},
     "output_type": "execute_result"
    }
   ],
   "source": [
    "x0[:,0]"
   ]
  },
  {
   "cell_type": "code",
   "execution_count": 451,
   "metadata": {
    "collapsed": false
   },
   "outputs": [
    {
     "data": {
      "text/plain": [
       "array([[ 2.14999422, -2.14999422]])"
      ]
     },
     "execution_count": 451,
     "metadata": {},
     "output_type": "execute_result"
    }
   ],
   "source": [
    "ds['p'][0][2]"
   ]
  },
  {
   "cell_type": "code",
   "execution_count": 389,
   "metadata": {
    "collapsed": false
   },
   "outputs": [
    {
     "data": {
      "text/plain": [
       "array([[-1.23200951,  0.50923443]])"
      ]
     },
     "execution_count": 389,
     "metadata": {},
     "output_type": "execute_result"
    }
   ],
   "source": [
    "ds['W'][0][2]"
   ]
  },
  {
   "cell_type": "code",
   "execution_count": 366,
   "metadata": {
    "collapsed": false
   },
   "outputs": [
    {
     "data": {
      "text/plain": [
       "(2, 101)"
      ]
     },
     "execution_count": 366,
     "metadata": {},
     "output_type": "execute_result"
    }
   ],
   "source": [
    "ker.shape"
   ]
  },
  {
   "cell_type": "code",
   "execution_count": 367,
   "metadata": {
    "collapsed": false
   },
   "outputs": [
    {
     "data": {
      "text/plain": [
       "array([[ 0.55459477],\n",
       "       [-0.22923423]])"
      ]
     },
     "execution_count": 367,
     "metadata": {},
     "output_type": "execute_result"
    }
   ],
   "source": [
    "np.dot(np.linalg.pinv(ds['W'][t][2]), xt[t][2][:, j])[:, np.newaxis]"
   ]
  },
  {
   "cell_type": "code",
   "execution_count": 353,
   "metadata": {
    "collapsed": false
   },
   "outputs": [
    {
     "data": {
      "text/plain": [
       "array([[-0.55459477],\n",
       "       [ 0.22923423]])"
      ]
     },
     "execution_count": 353,
     "metadata": {},
     "output_type": "execute_result"
    }
   ],
   "source": [
    "np.dot( np.linalg.pinv(ds['W'][t][2]), xt[t][2][:, j] )[:, np.newaxis]"
   ]
  },
  {
   "cell_type": "code",
   "execution_count": 343,
   "metadata": {
    "collapsed": false
   },
   "outputs": [
    {
     "data": {
      "text/plain": [
       "array([[-1.90995716, -1.87175802, -1.83355888, -1.79535973, -1.75716059,\n",
       "        -1.71896145, -1.6807623 , -1.64256316, -1.60436402, -1.56616487,\n",
       "        -1.52796573, -1.48976659, -1.45156744, -1.4133683 , -1.37516916,\n",
       "        -1.33697001, -1.29877087, -1.26057173, -1.22237258, -1.18417344,\n",
       "        -1.1459743 , -1.10777515, -1.06957601, -1.03137687, -0.99317772,\n",
       "        -0.95497858, -0.91677944, -0.87858029, -0.84038115, -0.80218201,\n",
       "        -0.76398286, -0.72578372, -0.68758458, -0.64938544, -0.61118629,\n",
       "        -0.57298715, -0.53478801, -0.49658886, -0.45838972, -0.42019058,\n",
       "        -0.38199143, -0.34379229, -0.30559315, -0.267394  , -0.22919486,\n",
       "        -0.19099572, -0.15279657, -0.11459743, -0.07639829, -0.03819914,\n",
       "         0.        ,  0.03819914,  0.07639829,  0.11459743,  0.15279657,\n",
       "         0.19099572,  0.22919486,  0.267394  ,  0.30559315,  0.34379229,\n",
       "         0.38199143,  0.42019058,  0.45838972,  0.49658886,  0.53478801,\n",
       "         0.57298715,  0.61118629,  0.64938544,  0.68758458,  0.72578372,\n",
       "         0.76398286,  0.80218201,  0.84038115,  0.87858029,  0.91677944,\n",
       "         0.95497858,  0.99317772,  1.03137687,  1.06957601,  1.10777515,\n",
       "         1.1459743 ,  1.18417344,  1.22237258,  1.26057173,  1.29877087,\n",
       "         1.33697001,  1.37516916,  1.4133683 ,  1.45156744,  1.48976659,\n",
       "         1.52796573,  1.56616487,  1.60436402,  1.64256316,  1.6807623 ,\n",
       "         1.71896145,  1.75716059,  1.79535973,  1.83355888,  1.87175802,\n",
       "         1.90995716],\n",
       "       [-4.62082932, -4.52841274, -4.43599615, -4.34357956, -4.25116298,\n",
       "        -4.15874639, -4.0663298 , -3.97391322, -3.88149663, -3.78908005,\n",
       "        -3.69666346, -3.60424687, -3.51183029, -3.4194137 , -3.32699711,\n",
       "        -3.23458053, -3.14216394, -3.04974735, -2.95733077, -2.86491418,\n",
       "        -2.77249759, -2.68008101, -2.58766442, -2.49524783, -2.40283125,\n",
       "        -2.31041466, -2.21799808, -2.12558149, -2.0331649 , -1.94074832,\n",
       "        -1.84833173, -1.75591514, -1.66349856, -1.57108197, -1.47866538,\n",
       "        -1.3862488 , -1.29383221, -1.20141562, -1.10899904, -1.01658245,\n",
       "        -0.92416586, -0.83174928, -0.73933269, -0.64691611, -0.55449952,\n",
       "        -0.46208293, -0.36966635, -0.27724976, -0.18483317, -0.09241659,\n",
       "         0.        ,  0.09241659,  0.18483317,  0.27724976,  0.36966635,\n",
       "         0.46208293,  0.55449952,  0.64691611,  0.73933269,  0.83174928,\n",
       "         0.92416586,  1.01658245,  1.10899904,  1.20141562,  1.29383221,\n",
       "         1.3862488 ,  1.47866538,  1.57108197,  1.66349856,  1.75591514,\n",
       "         1.84833173,  1.94074832,  2.0331649 ,  2.12558149,  2.21799808,\n",
       "         2.31041466,  2.40283125,  2.49524783,  2.58766442,  2.68008101,\n",
       "         2.77249759,  2.86491418,  2.95733077,  3.04974735,  3.14216394,\n",
       "         3.23458053,  3.32699711,  3.4194137 ,  3.51183029,  3.60424687,\n",
       "         3.69666346,  3.78908005,  3.88149663,  3.97391322,  4.0663298 ,\n",
       "         4.15874639,  4.25116298,  4.34357956,  4.43599615,  4.52841274,\n",
       "         4.62082932]])"
      ]
     },
     "execution_count": 343,
     "metadata": {},
     "output_type": "execute_result"
    }
   ],
   "source": [
    "ker"
   ]
  },
  {
   "cell_type": "code",
   "execution_count": 337,
   "metadata": {
    "collapsed": false
   },
   "outputs": [
    {
     "data": {
      "text/plain": [
       "array([[-3.96697042,  3.96697042],\n",
       "       [ 1.63969345, -1.63969345]])"
      ]
     },
     "execution_count": 337,
     "metadata": {},
     "output_type": "execute_result"
    }
   ],
   "source": [
    "ds['p'][0][1]"
   ]
  },
  {
   "cell_type": "code",
   "execution_count": 73,
   "metadata": {
    "collapsed": false
   },
   "outputs": [
    {
     "data": {
      "text/plain": [
       "(2, 101)"
      ]
     },
     "execution_count": 73,
     "metadata": {},
     "output_type": "execute_result"
    }
   ],
   "source": [
    "ds['W1_ss'][0]['im']"
   ]
  },
  {
   "cell_type": "code",
   "execution_count": null,
   "metadata": {
    "collapsed": true
   },
   "outputs": [],
   "source": []
  },
  {
   "cell_type": "code",
   "execution_count": null,
   "metadata": {
    "collapsed": true
   },
   "outputs": [],
   "source": []
  }
 ],
 "metadata": {
  "kernelspec": {
   "display_name": "Python 2",
   "language": "python",
   "name": "python2"
  },
  "language_info": {
   "codemirror_mode": {
    "name": "ipython",
    "version": 2
   },
   "file_extension": ".py",
   "mimetype": "text/x-python",
   "name": "python",
   "nbconvert_exporter": "python",
   "pygments_lexer": "ipython2",
   "version": "2.7.12"
  }
 },
 "nbformat": 4,
 "nbformat_minor": 0
}
