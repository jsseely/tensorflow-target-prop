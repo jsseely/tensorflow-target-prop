{
 "cells": [
  {
   "cell_type": "code",
   "execution_count": 73,
   "metadata": {
    "collapsed": false
   },
   "outputs": [
    {
     "name": "stdout",
     "output_type": "stream",
     "text": [
      "The autoreload extension is already loaded. To reload it, use:\n",
      "  %reload_ext autoreload\n"
     ]
    }
   ],
   "source": [
    "%reset -f\n",
    "%matplotlib inline\n",
    "%load_ext autoreload\n",
    "%autoreload 2"
   ]
  },
  {
   "cell_type": "code",
   "execution_count": 74,
   "metadata": {
    "collapsed": true
   },
   "outputs": [],
   "source": [
    "import sys\n",
    "sys.path.append('../')"
   ]
  },
  {
   "cell_type": "code",
   "execution_count": 75,
   "metadata": {
    "collapsed": false
   },
   "outputs": [],
   "source": [
    "import os\n",
    "import sys\n",
    "import pickle\n",
    "import numpy as np\n",
    "\n",
    "import matplotlib.pyplot as plt\n",
    "import seaborn as sns\n",
    "import pandas as pd\n",
    "\n",
    "import targprop.datasets as ds\n",
    "import targprop.operations as ops\n",
    "import targprop.tprop_train as tprop\n",
    "\n",
    "import tensorflow as tf"
   ]
  },
  {
   "cell_type": "code",
   "execution_count": 164,
   "metadata": {
    "collapsed": false
   },
   "outputs": [],
   "source": [
    "cur_params = {}\n",
    "cur_params['batch_size']        = 100\n",
    "cur_params['gamma']             = 1e-5\n",
    "cur_params['alpha_t']           = 1.0\n",
    "cur_params['noise_str']         = 1e-2\n",
    "cur_params['learning_rate']     = 1e-3\n",
    "cur_params['learning_rate_inv'] = 1e-4\n",
    "cur_params['learning_rate_rinv']= 0.1\n",
    "cur_params['num_steps_rinv']    = 1\n",
    "\n",
    "cur_params['l_dim'] = [200, 200]\n",
    "\n",
    "cur_params['t_steps'] = 1000\n",
    "cur_params['activation'] = 'tanh'\n",
    "cur_params['err_alg'] = 2\n",
    "cur_params['mode'] = 'classification'\n",
    "cur_params['SGD'] = True\n",
    "cur_params['top_loss'] = 'softmax_ce'\n",
    "cur_params['dataset'] = 'mnist'\n",
    "cur_params['preprocess'] = False"
   ]
  },
  {
   "cell_type": "code",
   "execution_count": 165,
   "metadata": {
    "collapsed": false
   },
   "outputs": [
    {
     "name": "stdout",
     "output_type": "stream",
     "text": [
      "Extracting MNIST_data/train-images-idx3-ubyte.gz\n",
      "Extracting MNIST_data/train-labels-idx1-ubyte.gz\n",
      "Extracting MNIST_data/t10k-images-idx3-ubyte.gz\n",
      "Extracting MNIST_data/t10k-labels-idx1-ubyte.gz\n",
      "Extracting MNIST_data/train-images-idx3-ubyte.gz\n",
      "Extracting MNIST_data/train-labels-idx1-ubyte.gz\n",
      "Extracting MNIST_data/t10k-images-idx3-ubyte.gz\n",
      "Extracting MNIST_data/t10k-labels-idx1-ubyte.gz\n",
      "Iter:  0 Loss, accuracy:  [2.2616792, 0.15000001]\n",
      "Iter:  100 Loss, accuracy:  [1.8939892, 0.43000001]\n",
      "Iter:  200 Loss, accuracy:  [2.1880198, 0.23999999]\n",
      "Iter:  300 Loss, accuracy:  [2.2677484, 0.18000001]\n",
      "Iter:  400 Loss, accuracy:  [2.2704399, 0.15000001]\n",
      "Iter:  500 Loss, accuracy:  [2.2826858, 0.12]\n",
      "Iter:  600 Loss, accuracy:  [2.3447459, 0.1]\n",
      "Iter:  700 Loss, accuracy:  [2.3117516, 0.15000001]\n",
      "Iter:  800 Loss, accuracy:  [2.3784821, 0.07]\n",
      "Iter:  900 Loss, accuracy:  [2.310385, 0.15000001]\n",
      "Iter:  1000 Loss, accuracy:  [2.2920706, 0.2]\n"
     ]
    }
   ],
   "source": [
    "out_dict = tprop.train_net(**cur_params)"
   ]
  },
  {
   "cell_type": "code",
   "execution_count": null,
   "metadata": {
    "collapsed": false
   },
   "outputs": [],
   "source": [
    "out_dict"
   ]
  },
  {
   "cell_type": "code",
   "execution_count": 106,
   "metadata": {
    "collapsed": false
   },
   "outputs": [
    {
     "name": "stdout",
     "output_type": "stream",
     "text": [
      "0.5\n"
     ]
    }
   ],
   "source": [
    "tf.reset_default_graph()\n",
    "with tf.Session() as sess:\n",
    "  print sess.run(tf.sigmoid(0.))"
   ]
  },
  {
   "cell_type": "code",
   "execution_count": 61,
   "metadata": {
    "collapsed": true
   },
   "outputs": [],
   "source": [
    "tf.reset_default_graph()\n",
    "dims = 3\n",
    "x = tf.placeholder(tf.float32, shape=[10, dims])\n",
    "y = tf.placeholder(tf.float32, shape=[10, dims])\n",
    "L = tf.nn.sigmoid_cross_entropy_with_logits(x, y)"
   ]
  },
  {
   "cell_type": "code",
   "execution_count": 62,
   "metadata": {
    "collapsed": false
   },
   "outputs": [],
   "source": [
    "y_in = np.random.randn(10,dims)\n",
    "x_in = np.random.randn(10,dims)"
   ]
  },
  {
   "cell_type": "code",
   "execution_count": 63,
   "metadata": {
    "collapsed": false
   },
   "outputs": [],
   "source": [
    "with tf.Session() as sess:\n",
    "  l_out = sess.run(L, {x:x_in, y:y_in})"
   ]
  },
  {
   "cell_type": "code",
   "execution_count": 65,
   "metadata": {
    "collapsed": false
   },
   "outputs": [
    {
     "data": {
      "text/plain": [
       "array([[ 0.46995017,  0.3728565 ,  2.40899706],\n",
       "       [-0.40579253,  1.81193829,  0.71117264],\n",
       "       [ 0.65622962, -0.12250924, -1.29121566],\n",
       "       [ 1.17961681,  0.70047861, -1.31461418],\n",
       "       [-0.83862317,  0.85601097, -0.22468042],\n",
       "       [-2.54663253,  2.34546781,  0.80960482],\n",
       "       [ 0.55980378,  1.51591015,  0.95420527],\n",
       "       [ 0.51975822,  2.47647214,  0.74024683],\n",
       "       [ 4.36729431, -0.04092693,  1.27111864],\n",
       "       [-1.88066578,  0.61482513,  1.3611685 ]], dtype=float32)"
      ]
     },
     "execution_count": 65,
     "metadata": {},
     "output_type": "execute_result"
    }
   ],
   "source": [
    "l_out"
   ]
  },
  {
   "cell_type": "code",
   "execution_count": 64,
   "metadata": {
    "collapsed": false
   },
   "outputs": [
    {
     "data": {
      "text/plain": [
       "array([ 3.25180387,  2.11731839, -0.75749528,  0.56548131, -0.20729262,\n",
       "        0.6084401 ,  3.02991915,  3.73647714,  5.59748602,  0.09532785], dtype=float32)"
      ]
     },
     "execution_count": 64,
     "metadata": {},
     "output_type": "execute_result"
    }
   ],
   "source": [
    "np.sum(l_out, axis=1)"
   ]
  },
  {
   "cell_type": "code",
   "execution_count": 114,
   "metadata": {
    "collapsed": true
   },
   "outputs": [],
   "source": [
    "def blahblah(in1 = 1., in2 = 2., in3 = 3.):\n",
    "  return in1 + in2 + in3"
   ]
  },
  {
   "cell_type": "code",
   "execution_count": 119,
   "metadata": {
    "collapsed": true
   },
   "outputs": [],
   "source": [
    "ins = {}\n",
    "#ins['in1'] = 10\n",
    "ins['in3'] = 30"
   ]
  },
  {
   "cell_type": "code",
   "execution_count": 120,
   "metadata": {
    "collapsed": false
   },
   "outputs": [
    {
     "data": {
      "text/plain": [
       "31.0"
      ]
     },
     "execution_count": 120,
     "metadata": {},
     "output_type": "execute_result"
    }
   ],
   "source": [
    "blahblah(in2=0,**ins)"
   ]
  }
 ],
 "metadata": {
  "kernelspec": {
   "display_name": "Python 2",
   "language": "python",
   "name": "python2"
  },
  "language_info": {
   "codemirror_mode": {
    "name": "ipython",
    "version": 2
   },
   "file_extension": ".py",
   "mimetype": "text/x-python",
   "name": "python",
   "nbconvert_exporter": "python",
   "pygments_lexer": "ipython2",
   "version": "2.7.12"
  }
 },
 "nbformat": 4,
 "nbformat_minor": 0
}
