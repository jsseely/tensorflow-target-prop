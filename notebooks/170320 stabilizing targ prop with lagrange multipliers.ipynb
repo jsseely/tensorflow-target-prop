{
 "cells": [
  {
   "cell_type": "code",
   "execution_count": 623,
   "metadata": {
    "collapsed": false
   },
   "outputs": [
    {
     "name": "stdout",
     "output_type": "stream",
     "text": [
      "The autoreload extension is already loaded. To reload it, use:\n",
      "  %reload_ext autoreload\n"
     ]
    }
   ],
   "source": [
    "%reset -f\n",
    "%matplotlib inline\n",
    "%load_ext autoreload\n",
    "%autoreload 2"
   ]
  },
  {
   "cell_type": "code",
   "execution_count": 624,
   "metadata": {
    "collapsed": true
   },
   "outputs": [],
   "source": [
    "import sys\n",
    "sys.path.append('../')"
   ]
  },
  {
   "cell_type": "code",
   "execution_count": 625,
   "metadata": {
    "collapsed": true
   },
   "outputs": [],
   "source": [
    "import os\n",
    "import sys\n",
    "import pickle\n",
    "import numpy as np\n",
    "\n",
    "import matplotlib.pyplot as plt\n",
    "import seaborn as sns\n",
    "\n",
    "import targprop.datasets as ds\n",
    "import targprop.operations as ops\n",
    "import targprop.tprop_train as tprop\n",
    "\n",
    "import tensorflow as tf"
   ]
  },
  {
   "cell_type": "code",
   "execution_count": 626,
   "metadata": {
    "collapsed": true
   },
   "outputs": [],
   "source": [
    "def lint():\n",
    "  return [(layers+1)*[None] for i in range(num_steps)]"
   ]
  },
  {
   "cell_type": "code",
   "execution_count": 642,
   "metadata": {
    "collapsed": true
   },
   "outputs": [],
   "source": [
    "def mg(dim, num_examples=101):\n",
    "  if dim>0:\n",
    "    return np.stack(np.meshgrid(*(dim*[np.linspace(-5, 5, num_examples)]))).reshape(dim, -1)\n",
    "  else:\n",
    "    return []"
   ]
  },
  {
   "cell_type": "code",
   "execution_count": 643,
   "metadata": {
    "collapsed": false
   },
   "outputs": [],
   "source": [
    "lin = ops.linear()\n",
    "tanh = ops.tanh()"
   ]
  },
  {
   "cell_type": "code",
   "execution_count": 644,
   "metadata": {
    "collapsed": false
   },
   "outputs": [],
   "source": [
    "# dimensions\n",
    "num_steps = 1\n",
    "l_dim = [1, 2, 1]\n",
    "layers = len(l_dim) - 1\n",
    "\n",
    "# params\n",
    "W = lint()\n",
    "for l in range(1, layers+1):\n",
    "  W[0][l] = np.random.randn(l_dim[l-1], l_dim[l])\n",
    "\n",
    "# inputs\n",
    "num_examples = 11\n",
    "\n",
    "x0 = mg(l_dim[0], num_examples).T"
   ]
  },
  {
   "cell_type": "code",
   "execution_count": 645,
   "metadata": {
    "collapsed": false
   },
   "outputs": [],
   "source": [
    "x = lint()\n",
    "x[0][0] = x0\n",
    "x[0][1] = lin.f(x0, W[0][1])\n",
    "x[0][2] = lin.f(x[0][1], W[0][2])"
   ]
  },
  {
   "cell_type": "code",
   "execution_count": 652,
   "metadata": {
    "collapsed": false
   },
   "outputs": [],
   "source": [
    "def tf_rinv_aug(y, x_0, func, gamma=1e-2, lr=0.1, num_steps=10):\n",
    "  y = y.astype('float32')\n",
    "  x_0 = x_0.astype('float32')\n",
    "  g = tf.Graph()\n",
    "  \n",
    "  inner_steps = 20\n",
    "  \n",
    "  #x_val = [100*[None] for i in range(num_steps)]\n",
    "  x_val = np.zeros((inner_steps, num_steps) + x_0.shape)\n",
    "  u_val = np.zeros((num_steps,) + x_0.shape)\n",
    "  res_val = np.zeros((inner_steps, num_steps) + y.shape)\n",
    "  \n",
    "  with g.as_default():\n",
    "    #x_val = np.random.randn(*x_0.shape)\n",
    "    x = tf.Variable(np.zeros(x_0.shape).astype('float32'))\n",
    "    u = tf.Variable(np.zeros(x_0.shape).astype('float32'))\n",
    "    #L = gamma*0.5*tf.reduce_sum((func(x) - y + u)**2.) + tf.reduce_mean((x - x_0)**2.)\n",
    "    L = tf.nn.l2_loss(x-x_0) + tf.reduce_sum(tf.mul(u, func(x) - y)) + gamma*tf.nn.l2_loss(func(x) - y)\n",
    "    #L = tf.reduce_mean(gamma*0.5*(func(x) - y + u)**2. + (x - x_0)**2.)\n",
    "    optx = tf.train.RMSPropOptimizer(lr).minimize(L, var_list=[x])\n",
    "    optu = tf.train.GradientDescentOptimizer(gamma).minimize(-L, var_list=[u])\n",
    "    resid = func(x) - y\n",
    "    \n",
    "    with tf.Session() as sess:\n",
    "      sess.run(tf.global_variables_initializer())\n",
    "      f_val = sess.run(L)\n",
    "      for j in range(num_steps):\n",
    "        for i in range(inner_steps):\n",
    "          sess.run(optx)\n",
    "          x_val[i,j,:] = sess.run(x)\n",
    "          res_val[i,j,:] = sess.run(resid)\n",
    "        sess.run(optu)\n",
    "        u_val[j,:] = sess.run(u)\n",
    "      return x_val, u_val, res_val\n",
    "    "
   ]
  },
  {
   "cell_type": "code",
   "execution_count": 653,
   "metadata": {
    "collapsed": false
   },
   "outputs": [],
   "source": [
    "def func(inp):\n",
    "  return tf.matmul(inp, W[0][2].astype('float32'))"
   ]
  },
  {
   "cell_type": "code",
   "execution_count": 654,
   "metadata": {
    "collapsed": true
   },
   "outputs": [],
   "source": [
    "x0_in = x[0][1]\n",
    "x0_in_c = x0_in + 5.2*np.random.randn(*x0_in.shape)\n",
    "y_in = x[0][2]"
   ]
  },
  {
   "cell_type": "code",
   "execution_count": 660,
   "metadata": {
    "collapsed": true
   },
   "outputs": [],
   "source": [
    "xval, uval, rval = tf_rinv_aug(y_in, x0_in_c, func,\n",
    "                               gamma=0.1,\n",
    "                               lr=0.1,\n",
    "                               num_steps=1000)"
   ]
  },
  {
   "cell_type": "code",
   "execution_count": 661,
   "metadata": {
    "collapsed": false
   },
   "outputs": [],
   "source": [
    "xval = np.reshape(xval, (-1,)+xval.shape[-2:], order='F')\n",
    "rval = np.reshape(rval, (-1,)+rval.shape[-2:], order='F')"
   ]
  },
  {
   "cell_type": "code",
   "execution_count": 662,
   "metadata": {
    "collapsed": false
   },
   "outputs": [
    {
     "data": {
      "image/png": "[encoded data removed]",
      "text/plain": [
       "<matplotlib.figure.Figure at 0x13af64ad0>"
      ]
     },
     "metadata": {},
     "output_type": "display_data"
    }
   ],
   "source": [
    "plt.figure(figsize=(5,5))\n",
    "cmap = sns.color_palette('coolwarm', n_colors=xval.shape[1])\n",
    "cmap = sns.diverging_palette(220, 20, n=xval.shape[1], center='dark')\n",
    "for ex in range(x0_in.shape[0]):\n",
    "  plt.scatter(x0_in[ex,0], x0_in[ex,1], s=50, c=cmap[ex])  \n",
    "  plt.scatter(x0_in_c[ex,0], x0_in_c[ex,1], marker='v', s=50, c=cmap[ex])\n",
    "  plt.plot(xval[:,ex,0], xval[:,ex,1], linewidth=3, alpha=0.7, c=cmap[ex])\n",
    "#   for i in range(xval.shape[0]):\n",
    "#     plt.scatter(xval[i,ex,0], xval[i,ex,1], s=30, alpha=0.1, c=cmap[ex])\n",
    "plt.axis('equal')\n",
    "plt.show()"
   ]
  },
  {
   "cell_type": "code",
   "execution_count": 659,
   "metadata": {
    "collapsed": false
   },
   "outputs": [
    {
     "data": {
      "image/png": "[encoded data removed]",
      "text/plain": [
       "<matplotlib.figure.Figure at 0x1552bdc50>"
      ]
     },
     "metadata": {},
     "output_type": "display_data"
    }
   ],
   "source": [
    "plt.plot(np.log(np.linalg.norm(rval[:,:,0], axis=1, keepdims=False)))\n",
    "plt.show()"
   ]
  },
  {
   "cell_type": "code",
   "execution_count": 658,
   "metadata": {
    "collapsed": false
   },
   "outputs": [
    {
     "data": {
      "text/plain": [
       "[<matplotlib.lines.Line2D at 0x124a304d0>,\n",
       " <matplotlib.lines.Line2D at 0x124a30cd0>,\n",
       " <matplotlib.lines.Line2D at 0x124a30390>,\n",
       " <matplotlib.lines.Line2D at 0x124a30ad0>,\n",
       " <matplotlib.lines.Line2D at 0x124a309d0>,\n",
       " <matplotlib.lines.Line2D at 0x124a307d0>,\n",
       " <matplotlib.lines.Line2D at 0x124a30090>,\n",
       " <matplotlib.lines.Line2D at 0x1242f2990>,\n",
       " <matplotlib.lines.Line2D at 0x1242f2750>,\n",
       " <matplotlib.lines.Line2D at 0x1242f2410>,\n",
       " <matplotlib.lines.Line2D at 0x1242f2590>]"
      ]
     },
     "execution_count": 658,
     "metadata": {},
     "output_type": "execute_result"
    },
    {
     "data": {
      "image/png": "[encoded data removed]",
      "text/plain": [
       "<matplotlib.figure.Figure at 0x1242f9350>"
      ]
     },
     "metadata": {},
     "output_type": "display_data"
    }
   ],
   "source": [
    "plt.plot(uval[:,:,0])"
   ]
  },
  {
   "cell_type": "code",
   "execution_count": null,
   "metadata": {
    "collapsed": true
   },
   "outputs": [],
   "source": []
  },
  {
   "cell_type": "code",
   "execution_count": null,
   "metadata": {
    "collapsed": true
   },
   "outputs": [],
   "source": []
  },
  {
   "cell_type": "code",
   "execution_count": 273,
   "metadata": {
    "collapsed": false
   },
   "outputs": [],
   "source": [
    "# init\n",
    "W = lint() \n",
    "x = lint()\n",
    "\n",
    "L = lint()\n",
    "\n",
    "p = lint()\n",
    "\n",
    "Wt = lint()\n",
    "xt = lint()\n",
    "pt = lint()"
   ]
  },
  {
   "cell_type": "code",
   "execution_count": 97,
   "metadata": {
    "collapsed": true
   },
   "outputs": [],
   "source": [
    "# init\n",
    "for l in range(1, layers+1):\n",
    "  W[0][l] = np.random.randn(l_dim[l-1], l_dim[l])"
   ]
  },
  {
   "cell_type": "code",
   "execution_count": 100,
   "metadata": {
    "collapsed": false
   },
   "outputs": [
    {
     "name": "stdout",
     "output_type": "stream",
     "text": [
      "3\n",
      "2\n"
     ]
    }
   ],
   "source": [
    "t = 0\n",
    "x[t][0] = x0\n",
    "xt[t][-1] = y\n",
    "\n",
    "# forward pass\n",
    "for l in range(1, layers+1):\n",
    "  x[t][l] = tanh.f( lin.f( x[t][l-1], W[t][l] ) )\n",
    "  \n",
    "# set targets...\n",
    "for l in range(layers, 1, -1):\n",
    "  "
   ]
  },
  {
   "cell_type": "code",
   "execution_count": null,
   "metadata": {
    "collapsed": true
   },
   "outputs": [],
   "source": [
    "op"
   ]
  },
  {
   "cell_type": "code",
   "execution_count": 102,
   "metadata": {
    "collapsed": true
   },
   "outputs": [],
   "source": [
    "opt = tf.train.GradientDescentOptimizer(0.1)"
   ]
  },
  {
   "cell_type": "code",
   "execution_count": null,
   "metadata": {
    "collapsed": true
   },
   "outputs": [],
   "source": [
    "opt.minimize(x)"
   ]
  },
  {
   "cell_type": "code",
   "execution_count": null,
   "metadata": {
    "collapsed": true
   },
   "outputs": [],
   "source": []
  },
  {
   "cell_type": "code",
   "execution_count": null,
   "metadata": {
    "collapsed": true
   },
   "outputs": [],
   "source": []
  },
  {
   "cell_type": "code",
   "execution_count": 10,
   "metadata": {
    "collapsed": true
   },
   "outputs": [],
   "source": [
    "def train(prop_method, gamma=1, num_steps=10, alpha=0.5):\n",
    "  \n",
    "  layers = 2\n",
    "  l_dim = [1, 2, 1]\n",
    "  \n",
    "  def lint():\n",
    "    return [(layers+1)*[None] for i in range(num_steps)]\n",
    "  \n",
    "  W = lint()\n",
    "  x = lint()\n",
    "  L = lint()\n",
    "  \n",
    "  p = lint()\n",
    "  \n",
    "  Wt = lint()\n",
    "  xt = lint()\n",
    "  pt = lint()\n",
    "  \n",
    "  Ws = lint()\n",
    "\n",
    "  # init\n",
    "  for l in range(1, layers+1):\n",
    "    W[0][l] = np.random.randn(l_dim[l], l_dim[l-1])\n",
    "    \n",
    "  pt[0][-1] = np.zeros(l_dim[-1], num_examples)\n",
    "  \n",
    "  # train\n",
    "  for t in range(num_steps):\n",
    "\n",
    "    x[t][0] = x0\n",
    "    xt[t][-1] = y\n",
    "\n",
    "    # Fw\n",
    "    for l in range(1, layers+1):\n",
    "      x[t][l] = lin.f( W[t][l], x[t][l-1] )\n",
    "\n",
    "    # targs\n",
    "    for l in range(layers-1, -1, -1):\n",
    "      xt[t][l] = lin.f_inv( xt[t][l+1].T, x[t][l].T, W[t][l+1].T ).T\n",
    "\n",
    "    # p\n",
    "    p[t][-1] = -(x[t][-1] - xt[t][-1])\n",
    "    for l in range(layers-1, 0, -1):\n",
    "      p[t][l] = -(x[t][l] - xt[t][l]) + np.dot(W[t][l+1].T, p[t][l+1])\n",
    "      \n",
    "    # pt\n",
    "    pt[t][]\n",
    "      \n",
    "    if t < num_steps - 1:\n",
    "      for l in range(1, layers+1):\n",
    "        W[t+1][l] = W[t][l] + alpha*np.dot(p[t][l], x[t][l-1].T)\n",
    "        \n",
    "    for l in range(1, layers+1):\n",
    "      L[t][l] = 0.5*np.mean((x[t][l] - xt[t][l])**2)\n",
    "      \n",
    "    for l in range(1, layers+1):\n",
    "      Ws[t][l] = get_subspaces(W[t][l], 1)\n",
    "      \n",
    "  return { 'W': W, 'x': x, 'L': L, 'p': p, 'Wt': Wt, 'xt': xt, 'pt': pt, 'Ws': Ws }"
   ]
  }
 ],
 "metadata": {
  "kernelspec": {
   "display_name": "Python 2",
   "language": "python",
   "name": "python2"
  },
  "language_info": {
   "codemirror_mode": {
    "name": "ipython",
    "version": 2
   },
   "file_extension": ".py",
   "mimetype": "text/x-python",
   "name": "python",
   "nbconvert_exporter": "python",
   "pygments_lexer": "ipython2",
   "version": "2.7.12"
  }
 },
 "nbformat": 4,
 "nbformat_minor": 0
}
