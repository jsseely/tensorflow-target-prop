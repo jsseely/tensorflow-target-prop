{
 "cells": [
  {
   "cell_type": "markdown",
   "metadata": {},
   "source": [
    "visualize as much as possible using toy data. for gaining intuition on target prop. modeled loosely after http://playground.tensorflow.org/\n",
    "\n",
    "Visualize...\n",
    "- preimages\n",
    "    - of level sets\n",
    "    - of decision boundaries\n",
    "    - etc\n",
    "- images/kernels and their interactions"
   ]
  },
  {
   "cell_type": "code",
   "execution_count": 11,
   "metadata": {
    "collapsed": false
   },
   "outputs": [
    {
     "name": "stdout",
     "output_type": "stream",
     "text": [
      "The autoreload extension is already loaded. To reload it, use:\n",
      "  %reload_ext autoreload\n"
     ]
    }
   ],
   "source": [
    "%reset -f\n",
    "%matplotlib inline\n",
    "%load_ext autoreload\n",
    "%autoreload 2"
   ]
  },
  {
   "cell_type": "code",
   "execution_count": 12,
   "metadata": {
    "collapsed": true
   },
   "outputs": [],
   "source": [
    "import sys\n",
    "sys.path.append('../')"
   ]
  },
  {
   "cell_type": "code",
   "execution_count": 13,
   "metadata": {
    "collapsed": false
   },
   "outputs": [],
   "source": [
    "import numpy as np\n",
    "import tensorflow as tf\n",
    "\n",
    "import matplotlib.pyplot as plt\n",
    "\n",
    "import targprop.datasets as ds\n",
    "import targprop.operations as op\n",
    "\n",
    "import matplotlib.cm as cm\n",
    "import matplotlib as mpl\n",
    "\n",
    "import seaborn as sns"
   ]
  },
  {
   "cell_type": "code",
   "execution_count": 14,
   "metadata": {
    "collapsed": false
   },
   "outputs": [
    {
     "name": "stdout",
     "output_type": "stream",
     "text": [
      "Extracting MNIST_data/train-images-idx3-ubyte.gz\n",
      "Extracting MNIST_data/train-labels-idx1-ubyte.gz\n",
      "Extracting MNIST_data/t10k-images-idx3-ubyte.gz\n",
      "Extracting MNIST_data/t10k-labels-idx1-ubyte.gz\n"
     ]
    }
   ],
   "source": [
    "mnist = ds.mnist_data()"
   ]
  },
  {
   "cell_type": "markdown",
   "metadata": {},
   "source": [
    "## toy datasets"
   ]
  },
  {
   "cell_type": "code",
   "execution_count": 15,
   "metadata": {
    "collapsed": true
   },
   "outputs": [],
   "source": [
    "n = 500"
   ]
  },
  {
   "cell_type": "code",
   "execution_count": 16,
   "metadata": {
    "collapsed": true
   },
   "outputs": [],
   "source": [
    "Xcircs1d = ds.combine_data((ds.ball(n//3+1, d=1, r=0.45),\n",
    "                            ds.annulus(n//3, d=1, r1=0.55, r2=1.45),\n",
    "                            ds.annulus(n//3, d=1, r1=1.55, r2=2.45)))\n",
    "Xcircs1d.outputs = np.zeros((Xcircs1d.num_examples, 2))\n",
    "n1 = n//3+1\n",
    "n2 = n//3\n",
    "n3 = n//3\n",
    "\n",
    "Xcircs1d.outputs[:n1,0] = 1\n",
    "Xcircs1d.outputs[n1:n1+n2,1] = 1\n",
    "Xcircs1d.outputs[n1+n2:,0] = 1\n",
    "Xcircs1d.inputs = np.concatenate((Xcircs1d.inputs, np.zeros_like(Xcircs1d.inputs)), axis=1)"
   ]
  },
  {
   "cell_type": "code",
   "execution_count": 49,
   "metadata": {
    "collapsed": false
   },
   "outputs": [],
   "source": [
    "Xcircs1d = ds.combine_data((ds.annulus(n/4, d=1, r1=0.1, r2=0.2),\n",
    "                            ds.annulus(n/4, d=1, r1=0.3, r2=0.4),\n",
    "                            ds.annulus(n/4, d=1, r1=0.5, r2=0.6),\n",
    "                            ds.annulus(n/4, d=1, r1=0.7, r2=0.8)))\n",
    "Xcircs1d.outputs = np.zeros((Xcircs1d.num_examples, 2))\n",
    "Xcircs1d.outputs[:n/4,0] = 1\n",
    "Xcircs1d.outputs[n/4:2*n/4,1] = 1\n",
    "Xcircs1d.outputs[2*n/4:3*n/4,0] = 1\n",
    "Xcircs1d.outputs[3*n/4:4*n/4,1] = 1\n",
    "Xcircs1d.inputs = np.concatenate((Xcircs1d.inputs, np.zeros_like(Xcircs1d.inputs)), axis=1)"
   ]
  },
  {
   "cell_type": "code",
   "execution_count": 17,
   "metadata": {
    "collapsed": false
   },
   "outputs": [],
   "source": [
    "Xcircs = ds.combine_data((ds.annulus(n/4, d=2, r1=0.1, r2=0.2),\n",
    "                          ds.annulus(n/4, d=2, r1=0.3, r2=0.4),\n",
    "                          ds.annulus(n/4, d=2, r1=0.5, r2=0.6),\n",
    "                          ds.annulus(n/4, d=2, r1=0.7, r2=0.8)))\n",
    "Xcircs.outputs = np.zeros_like(Xcircs.inputs)\n",
    "Xcircs.outputs[:n/4,0] = 1\n",
    "Xcircs.outputs[n/4:2*n/4,1] = 1\n",
    "Xcircs.outputs[2*n/4:3*n/4,0] = 1\n",
    "Xcircs.outputs[3*n/4:4*n/4,1] = 1"
   ]
  },
  {
   "cell_type": "code",
   "execution_count": 18,
   "metadata": {
    "collapsed": false
   },
   "outputs": [],
   "source": [
    "Xor = ds.xor_full(n)"
   ]
  },
  {
   "cell_type": "code",
   "execution_count": 19,
   "metadata": {
    "collapsed": false
   },
   "outputs": [
    {
     "data": {
      "image/png": "[encoded data removed]",
      "text/plain": [
       "<matplotlib.figure.Figure at 0x1035a6a50>"
      ]
     },
     "metadata": {},
     "output_type": "display_data"
    }
   ],
   "source": [
    "X = Xcircs1d\n",
    "plt.scatter(X.inputs[:,0], X.inputs[:,1], c=ds.un_hotify(X.outputs))\n",
    "plt.axis('square')\n",
    "#plt.xlim([-1, 1])\n",
    "plt.ylim([-1, 1])\n",
    "plt.show()"
   ]
  },
  {
   "cell_type": "markdown",
   "metadata": {},
   "source": [
    "## model"
   ]
  },
  {
   "cell_type": "code",
   "execution_count": 20,
   "metadata": {
    "collapsed": false
   },
   "outputs": [
    {
     "name": "stdout",
     "output_type": "stream",
     "text": [
      "/var/folders/fx/kqfj6d7j4f96zch39j53gvd00000gn/T/tmpgPDYqw\n"
     ]
    }
   ],
   "source": [
    "import targprop.tprop_train_temp as tp\n",
    "import tempfile\n",
    "import shutil\n",
    "\n",
    "dirpath = tempfile.mkdtemp()\n",
    "print dirpath\n",
    "\n",
    "from mpl_toolkits.mplot3d import Axes3D\n",
    "\n",
    "import random"
   ]
  },
  {
   "cell_type": "code",
   "execution_count": 21,
   "metadata": {
    "collapsed": true
   },
   "outputs": [],
   "source": [
    "# shutil.rmtree(dirpath) # to delete"
   ]
  },
  {
   "cell_type": "code",
   "execution_count": 22,
   "metadata": {
    "collapsed": true
   },
   "outputs": [],
   "source": [
    "from datetime import datetime\n",
    "now = datetime.now()"
   ]
  },
  {
   "cell_type": "code",
   "execution_count": 23,
   "metadata": {
    "collapsed": false
   },
   "outputs": [
    {
     "name": "stdout",
     "output_type": "stream",
     "text": [
      "17187\n"
     ]
    }
   ],
   "source": [
    "now = datetime.now()\n",
    "sim = str(now.hour)+str(now.minute)+str(now.second)\n",
    "print sim\n",
    "\n",
    "cur_params = {}\n",
    "cur_params['batch_size']        = X.num_examples // 10\n",
    "cur_params['gamma']             = 0.001\n",
    "cur_params['alpha_t']           = 1.0\n",
    "cur_params['noise_str']         = 0.01\n",
    "cur_params['learning_rate']     = 0.01\n",
    "cur_params['learning_rate_inv'] = 0.01\n",
    "\n",
    "cur_params['t_steps'] = 5000\n",
    "cur_params['l_dim'] = [2, 2]\n",
    "cur_params['act'] = 'relu'\n",
    "cur_params['mode'] = 'classification'\n",
    "cur_params['dataset'] = X\n",
    "cur_params['update_implementation'] = 'tf'\n",
    "cur_params['SGD'] = True\n",
    "cur_params['preprocess'] = False\n",
    "cur_params['tb_path'] = '/tmp/targprop/'+sim\n",
    "\n",
    "cur_params['err_alg'] = 0"
   ]
  },
  {
   "cell_type": "code",
   "execution_count": 24,
   "metadata": {
    "collapsed": false
   },
   "outputs": [
    {
     "name": "stdout",
     "output_type": "stream",
     "text": [
      "Iter:  0 Loss:  0.693904530571\n",
      "Iter:  500 Loss:  0.615563715318\n",
      "Iter:  1000 Loss:  0.548980039157\n",
      "Iter:  1500 Loss:  0.487425586218\n",
      "Iter:  2000 Loss:  0.548059004162\n",
      "Iter:  2500 Loss:  0.533366827891\n",
      "Iter:  3000 Loss:  0.541759125277\n",
      "Iter:  3500 Loss:  0.519077656147\n",
      "Iter:  4000 Loss:  0.537538006666\n",
      "Iter:  4500 Loss:  0.545976716949\n",
      "Iter:  5000 Loss:  0.532799509619\n"
     ]
    }
   ],
   "source": [
    "out = tp.train_net(**cur_params)"
   ]
  },
  {
   "cell_type": "code",
   "execution_count": 25,
   "metadata": {
    "collapsed": false
   },
   "outputs": [],
   "source": [
    "exs = np.random.permutation(range(X.num_examples))"
   ]
  },
  {
   "cell_type": "code",
   "execution_count": 26,
   "metadata": {
    "collapsed": true
   },
   "outputs": [],
   "source": [
    "def axify(ax):\n",
    "  ax.axis('square')\n",
    "  lims = ax.get_xlim() + ax.get_ylim()\n",
    "  lims = min(lims), max(lims)\n",
    "  ax.set_xlim(lims)\n",
    "  ax.set_ylim(lims)\n",
    "  ax.xaxis.set_ticks(np.arange(np.floor(lims[0]), np.ceil(lims[1]), 1))\n",
    "  ax.yaxis.set_ticks(np.arange(np.floor(lims[0]), np.ceil(lims[1]), 1))\n",
    "  ax.hlines([0], *ax.get_xlim(), linewidth=0.5, alpha=0.5)\n",
    "  ax.vlines([0], *ax.get_ylim(), linewidth=0.5, alpha=0.5)\n"
   ]
  },
  {
   "cell_type": "code",
   "execution_count": 27,
   "metadata": {
    "collapsed": false
   },
   "outputs": [],
   "source": [
    "def plot_matcols(A, ax):\n",
    "  args = {'linewidth':2, 'color':'b'}\n",
    "  A = A/np.linalg.norm(A)\n",
    "  if '3D' in str(ax.__class__):\n",
    "    for i in range(A.shape[0]):      \n",
    "      ax.plot([0, A[i,0]], [0, A[i,1]], [0, A[i, 2]], **args)\n",
    "  else:\n",
    "    for i in range(A.shape[0]):\n",
    "      ax.plot([0, A[i,0]], [0, A[i,1]], **args)\n"
   ]
  },
  {
   "cell_type": "code",
   "execution_count": 28,
   "metadata": {
    "collapsed": false
   },
   "outputs": [],
   "source": [
    "def plot3d_lines(ax):\n",
    "  args = {'linewidth':0.5, 'alpha':0.5}\n",
    "  xlim = ax.get_xlim()\n",
    "  ylim = ax.get_ylim()\n",
    "  zlim = ax.get_zlim()\n",
    "  for i in range(3):\n",
    "    ax.plot([0,0], [0,0], [-zlim, zlim], 'k', **args)\n",
    "    ax.plot([0,0], [-ylim, ylim], [0,0], 'k', **args)\n",
    "    ax.plot([-xlim, xlim], [0,0], [0,0], 'k', **args)\n"
   ]
  },
  {
   "cell_type": "code",
   "execution_count": 29,
   "metadata": {
    "collapsed": true
   },
   "outputs": [],
   "source": [
    "def get_gridlines():\n",
    "  c1 = np.linspace(-40, 40, 801)\n",
    "  c2 = np.linspace(-40, 40, 81)\n",
    "  x1, y1 = np.meshgrid(np.append(c1, 999), c2)\n",
    "  x2, y2 = np.meshgrid(np.append(c1, 999), c2)\n",
    "  x1[x1==999] = None\n",
    "  y1[y1==999] = None\n",
    "  x2[x2==999] = None\n",
    "  y2[y2==999] = None"
   ]
  },
  {
   "cell_type": "code",
   "execution_count": 30,
   "metadata": {
    "collapsed": false
   },
   "outputs": [],
   "source": [
    "def dist_to_hull(points, hull_points):\n",
    "  from scipy.spatial import ConvexHull\n",
    "  #inhull = in_hull(points, hull_points)\n",
    "  hull = ConvexHull(hull_points)\n",
    "  dists_to_edges = np.max((np.dot(hull.equations[:, :-1], points.T).T + hull.equations[:, -1]), axis=-1)\n",
    "\n",
    "  dists_to_verts = np.inf*np.ones_like(dists_to_edges)\n",
    "  for iver in hull.vertices:\n",
    "    dists_to_verts = np.minimum.reduce((np.linalg.norm(hull.points[iver] - points, axis=1), dists_to_verts))\n",
    "\n",
    "  dists = np.maximum.reduce((dists_to_edges, dists_to_verts))\n",
    "  dists[dists < 0] = 0\n",
    "  return dists"
   ]
  },
  {
   "cell_type": "code",
   "execution_count": 487,
   "metadata": {
    "collapsed": true
   },
   "outputs": [],
   "source": [
    "dists_to_verts = np.inf*np.ones_like(dists_to_edges)"
   ]
  },
  {
   "cell_type": "code",
   "execution_count": 488,
   "metadata": {
    "collapsed": false
   },
   "outputs": [
    {
     "ename": "SyntaxError",
     "evalue": "unexpected EOF while parsing (<ipython-input-488-afba2eb019e8>, line 1)",
     "output_type": "error",
     "traceback": [
      "\u001b[0;36m  File \u001b[0;32m\"<ipython-input-488-afba2eb019e8>\"\u001b[0;36m, line \u001b[0;32m1\u001b[0m\n\u001b[0;31m    for iver in hull.vertices:\u001b[0m\n\u001b[0m                              ^\u001b[0m\n\u001b[0;31mSyntaxError\u001b[0m\u001b[0;31m:\u001b[0m unexpected EOF while parsing\n"
     ]
    }
   ],
   "source": []
  },
  {
   "cell_type": "code",
   "execution_count": null,
   "metadata": {
    "collapsed": true
   },
   "outputs": [],
   "source": []
  },
  {
   "cell_type": "code",
   "execution_count": 523,
   "metadata": {
    "collapsed": false
   },
   "outputs": [
    {
     "data": {
      "text/plain": [
       "array([[-0., -1., -0.],\n",
       "       [-1.,  0., -0.],\n",
       "       [ 1., -0., -2.],\n",
       "       [ 0.,  1., -2.]])"
      ]
     },
     "execution_count": 523,
     "metadata": {},
     "output_type": "execute_result"
    }
   ],
   "source": [
    "hull.equations"
   ]
  },
  {
   "cell_type": "code",
   "execution_count": 522,
   "metadata": {
    "collapsed": false
   },
   "outputs": [
    {
     "data": {
      "text/plain": [
       "4.0"
      ]
     },
     "execution_count": 522,
     "metadata": {},
     "output_type": "execute_result"
    }
   ],
   "source": [
    "hull.volume"
   ]
  },
  {
   "cell_type": "code",
   "execution_count": 517,
   "metadata": {
    "collapsed": false
   },
   "outputs": [
    {
     "data": {
      "text/plain": [
       "array([[  200,     0],\n",
       "       [40200,     0],\n",
       "       [40400,   200],\n",
       "       [40400, 40200]], dtype=int32)"
      ]
     },
     "execution_count": 517,
     "metadata": {},
     "output_type": "execute_result"
    }
   ],
   "source": [
    "hull.simplices"
   ]
  },
  {
   "cell_type": "code",
   "execution_count": 505,
   "metadata": {
    "collapsed": false
   },
   "outputs": [],
   "source": [
    "from scipy.spatial import ConvexHull\n",
    "points = np.copy(x_stack)\n",
    "hull_p = op.relu().f(x_stack)\n",
    "hull = ConvexHull(hull_p)\n",
    "dists_to_edges = np.max((np.dot(hull.equations[:, :-1], points.T).T + hull.equations[:, -1]), axis=-1)\n",
    "\n",
    "dists_to_verts = np.inf*np.ones_like(dists_to_edges)\n",
    "for iver in hull.vertices:\n",
    "  dists_to_verts = np.minimum.reduce((np.linalg.norm(hull.points[iver] - points, axis=1)**0.5, dists_to_verts))\n",
    "\n",
    "dists = np.maximum.reduce((dists_to_edges, dists_to_verts))\n",
    "\n",
    "dists[dists<0] = 0\n"
   ]
  },
  {
   "cell_type": "code",
   "execution_count": 433,
   "metadata": {
    "collapsed": true
   },
   "outputs": [],
   "source": [
    "from scipy.spatial import ConvexHull\n",
    "points = np.copy(x_stack)\n",
    "hull_p = op.relu().f(x_stack)\n",
    "hull = ConvexHull(hull_p)"
   ]
  },
  {
   "cell_type": "code",
   "execution_count": 379,
   "metadata": {
    "collapsed": false
   },
   "outputs": [],
   "source": [
    "input_dim = 2\n",
    "x = []\n",
    "for i in range(input_dim):\n",
    "  x.append(np.linspace(-2, 2, 201))\n",
    "xg = np.meshgrid(*x)\n",
    "x_stack = np.stack([v.flatten() for v in xg]).T"
   ]
  },
  {
   "cell_type": "code",
   "execution_count": 515,
   "metadata": {
    "collapsed": true
   },
   "outputs": [],
   "source": [
    "dists = dist_to_hull(x_stack, op.relu().f(x_stack))"
   ]
  },
  {
   "cell_type": "code",
   "execution_count": 516,
   "metadata": {
    "collapsed": false
   },
   "outputs": [
    {
     "data": {
      "text/plain": [
       "<matplotlib.contour.QuadContourSet at 0x135b8cd90>"
      ]
     },
     "execution_count": 516,
     "metadata": {},
     "output_type": "execute_result"
    },
    {
     "data": {
      "image/png": "[encoded data removed]",
      "text/plain": [
       "<matplotlib.figure.Figure at 0x13583d290>"
      ]
     },
     "metadata": {},
     "output_type": "display_data"
    }
   ],
   "source": [
    "plt.contour(xg[0], xg[1], dists.reshape(201,201))"
   ]
  },
  {
   "cell_type": "code",
   "execution_count": 504,
   "metadata": {
    "collapsed": false
   },
   "outputs": [
    {
     "data": {
      "text/plain": [
       "(-2.0, 2.0, -2.0, 2.0)"
      ]
     },
     "execution_count": 504,
     "metadata": {},
     "output_type": "execute_result"
    },
    {
     "data": {
      "image/png": "[encoded data removed]",
      "text/plain": [
       "<matplotlib.figure.Figure at 0x11bc22f90>"
      ]
     },
     "metadata": {},
     "output_type": "display_data"
    }
   ],
   "source": [
    "plt.contour(xg[0], xg[1], (np.linalg.norm(hull.points[hull.vertices[0]] - points, axis=1)).reshape(201,201))\n",
    "plt.axis('square')"
   ]
  },
  {
   "cell_type": "code",
   "execution_count": 381,
   "metadata": {
    "collapsed": true
   },
   "outputs": [],
   "source": []
  },
  {
   "cell_type": "code",
   "execution_count": 369,
   "metadata": {
    "collapsed": false
   },
   "outputs": [
    {
     "ename": "NameError",
     "evalue": "name 'x_stack' is not defined",
     "output_type": "error",
     "traceback": [
      "\u001b[0;31m---------------------------------------------------------------------------\u001b[0m",
      "\u001b[0;31mNameError\u001b[0m                                 Traceback (most recent call last)",
      "\u001b[0;32m<ipython-input-369-ee4bde674aee>\u001b[0m in \u001b[0;36m<module>\u001b[0;34m()\u001b[0m\n\u001b[0;32m----> 1\u001b[0;31m \u001b[0mplt\u001b[0m\u001b[0;34m.\u001b[0m\u001b[0mplot\u001b[0m\u001b[0;34m(\u001b[0m\u001b[0mdist_to_hull\u001b[0m\u001b[0;34m(\u001b[0m\u001b[0mx_stack\u001b[0m\u001b[0;34m,\u001b[0m \u001b[0my_stack\u001b[0m\u001b[0;34m)\u001b[0m\u001b[0;34m)\u001b[0m\u001b[0;34m\u001b[0m\u001b[0m\n\u001b[0m",
      "\u001b[0;31mNameError\u001b[0m: name 'x_stack' is not defined"
     ]
    }
   ],
   "source": [
    "plt.plot(dist_to_hull(x_stack, y_stack))"
   ]
  },
  {
   "cell_type": "code",
   "execution_count": null,
   "metadata": {
    "collapsed": true
   },
   "outputs": [],
   "source": [
    "def get_preimg(img, func, eps=0.1, input_dim=2):\n",
    "  x = []\n",
    "  for i in range(input_dim):\n",
    "    x.append(np.linspace(-2, 2, 201))\n",
    "  xg = np.meshgrid(*x)\n",
    "  x_stack = np.stack(xg)"
   ]
  },
  {
   "cell_type": "code",
   "execution_count": 171,
   "metadata": {
    "collapsed": true
   },
   "outputs": [],
   "source": [
    "def get_preimg(img, func, eps=0.1):\n",
    "  \"\"\" computes the preimage a of set img through func, i.e.\n",
    "      img=func(a)\"\"\"\n",
    "  c1 = np.linspace(-2, 2, 201)\n",
    "  c2 = np.linspace(-2, 2, 201)\n",
    "  x1, y1 = np.meshgrid(c1, c2)\n",
    "  a = np.stack((x1.flatten(), y1.flatten()))\n",
    "  d = np.zeros(a.shape[1])\n",
    "  b = func(a)\n",
    "  for i in range(a.shape[1]):\n",
    "      d[i] = np.min(np.linalg.norm(b[:,i] - img))\n",
    "  inds = d < eps\n",
    "  return a[:,inds], b[:,inds]\n"
   ]
  },
  {
   "cell_type": "code",
   "execution_count": 245,
   "metadata": {
    "collapsed": true
   },
   "outputs": [],
   "source": [
    "def in_hull(p, hull):\n",
    "  \"\"\"\n",
    "  Test if points in `p` are in `hull`\n",
    "\n",
    "  `p` should be a `NxK` coordinates of `N` points in `K` dimensions\n",
    "  `hull` is either a scipy.spatial.Delaunay object or the `MxK` array of the \n",
    "  coordinates of `M` points in `K`dimensions for which Delaunay triangulation\n",
    "  will be computed\n",
    "  \"\"\"\n",
    "  from scipy.spatial import Delaunay\n",
    "  if not isinstance(hull, Delaunay):\n",
    "      hull = Delaunay(hull)\n",
    "\n",
    "  return hull.find_simplex(p)>=0"
   ]
  },
  {
   "cell_type": "code",
   "execution_count": 129,
   "metadata": {
    "collapsed": false
   },
   "outputs": [
    {
     "data": {
      "image/png": "[encoded data removed]",
      "text/plain": [
       "<matplotlib.figure.Figure at 0x11db5f390>"
      ]
     },
     "metadata": {},
     "output_type": "display_data"
    }
   ],
   "source": [
    "nrows = out['layers']\n",
    "ncols = 3\n",
    "\n",
    "fact = 5\n",
    "fig = plt.figure(figsize=(fact*ncols, fact*nrows+1))\n",
    "\n",
    "ax = []\n",
    "cur = out['x'+str(3)][0]\n",
    "ax.append(fig.add_subplot(nrows+1, ncols, 3))\n",
    "ax[-1].scatter(cur[:,0], cur[:,1], c=ds.un_hotify(out['y']))\n",
    "axify(ax[-1])\n",
    "\n",
    "for i in range(3, nrows*ncols+3):\n",
    "  l = i//3\n",
    "  h = i%3+1\n",
    "  cur = out['x'+str(h)][l]\n",
    "  if out['l_dim'][l] > 2:\n",
    "    ax.append(fig.add_subplot(nrows+1, ncols, i+1, projection='3d'))\n",
    "    ax[-1].scatter(cur[:,0], cur[:,1], cur[:,2], c=ds.un_hotify(out['y']))\n",
    "    ax[-1].view_init(elev=20., azim=235)\n",
    "    #ax[-1].set_xlim([-1, 1])\n",
    "    #ax[-1].set_ylim([-1, 1])\n",
    "    #ax[-1].set_zlim([-1, 1])\n",
    "    plot3d_lines(ax[-1])\n",
    "  else:\n",
    "    ax.append(fig.add_subplot(nrows+1, ncols, i+1))\n",
    "    ax[-1].scatter(cur[:,0], cur[:,1], c=ds.un_hotify(out['y']), alpha=0.5)\n",
    "    lim = max(np.abs(ax[-1].get_xlim() + ax[-1].get_ylim()))\n",
    "    axify(ax[-1], lim*1.5)\n",
    "  if h == 1:\n",
    "    plot_matcols(out['W'][l], ax[-1])\n",
    "  elif h == 2:\n",
    "    plot_matcols(out['b'][l], ax[-1])"
   ]
  },
  {
   "cell_type": "code",
   "execution_count": null,
   "metadata": {
    "collapsed": true
   },
   "outputs": [],
   "source": []
  }
 ],
 "metadata": {
  "kernelspec": {
   "display_name": "Python 2",
   "language": "python",
   "name": "python2"
  },
  "language_info": {
   "codemirror_mode": {
    "name": "ipython",
    "version": 2
   },
   "file_extension": ".py",
   "mimetype": "text/x-python",
   "name": "python",
   "nbconvert_exporter": "python",
   "pygments_lexer": "ipython2",
   "version": "2.7.12"
  }
 },
 "nbformat": 4,
 "nbformat_minor": 0
}
