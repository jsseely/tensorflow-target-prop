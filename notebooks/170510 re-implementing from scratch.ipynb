{
 "cells": [
  {
   "cell_type": "markdown",
   "metadata": {
    "deletable": true,
    "editable": true
   },
   "source": [
    "testing everything from scratch.\n",
    "\n",
    "implementing things like line search..."
   ]
  },
  {
   "cell_type": "code",
   "execution_count": 1,
   "metadata": {
    "collapsed": false,
    "deletable": true,
    "editable": true
   },
   "outputs": [],
   "source": [
    "%reset -f\n",
    "%matplotlib inline\n",
    "%load_ext autoreload\n",
    "%autoreload 2"
   ]
  },
  {
   "cell_type": "code",
   "execution_count": 2,
   "metadata": {
    "collapsed": true,
    "deletable": true,
    "editable": true
   },
   "outputs": [],
   "source": [
    "import sys\n",
    "sys.path.append('../')"
   ]
  },
  {
   "cell_type": "code",
   "execution_count": 3,
   "metadata": {
    "collapsed": false,
    "deletable": true,
    "editable": true
   },
   "outputs": [],
   "source": [
    "import os\n",
    "import sys\n",
    "import numpy as np\n",
    "import matplotlib.pyplot as plt\n",
    "import seaborn as sns\n",
    "\n",
    "import targprop.datasets as ds\n",
    "import targprop.operations as ops\n",
    "\n",
    "import tensorflow as tf"
   ]
  },
  {
   "cell_type": "code",
   "execution_count": 4,
   "metadata": {
    "collapsed": true,
    "deletable": true,
    "editable": true
   },
   "outputs": [],
   "source": [
    "from tqdm import tqdm"
   ]
  },
  {
   "cell_type": "code",
   "execution_count": 5,
   "metadata": {
    "collapsed": true,
    "deletable": true,
    "editable": true
   },
   "outputs": [],
   "source": [
    "# params\n",
    "batch_size = 1000\n",
    "t_steps = 1000"
   ]
  },
  {
   "cell_type": "code",
   "execution_count": 165,
   "metadata": {
    "collapsed": false,
    "deletable": true,
    "editable": true
   },
   "outputs": [
    {
     "name": "stdout",
     "output_type": "stream",
     "text": [
      "Extracting MNIST_data/train-images-idx3-ubyte.gz\n",
      "Extracting MNIST_data/train-labels-idx1-ubyte.gz\n",
      "Extracting MNIST_data/t10k-images-idx3-ubyte.gz\n",
      "Extracting MNIST_data/t10k-labels-idx1-ubyte.gz\n"
     ]
    }
   ],
   "source": [
    "# data\n",
    "data = ds.mnist_data()"
   ]
  },
  {
   "cell_type": "code",
   "execution_count": 166,
   "metadata": {
    "collapsed": true,
    "deletable": true,
    "editable": true
   },
   "outputs": [],
   "source": [
    "# stuff\n",
    "m_dim = data.inputs.shape[1]\n",
    "p_dim = data.outputs.shape[1]\n",
    "l_dim = [m_dim] + [100, 100] + [p_dim]\n",
    "layers = len(l_dim) - 1"
   ]
  },
  {
   "cell_type": "code",
   "execution_count": 167,
   "metadata": {
    "collapsed": false,
    "deletable": true,
    "editable": true
   },
   "outputs": [
    {
     "name": "stdout",
     "output_type": "stream",
     "text": [
      "layer dimensions: [784, 100, 100, 10]\n"
     ]
    }
   ],
   "source": [
    "print \"layer dimensions:\", l_dim"
   ]
  },
  {
   "cell_type": "code",
   "execution_count": 168,
   "metadata": {
    "collapsed": true,
    "deletable": true,
    "editable": true
   },
   "outputs": [],
   "source": [
    "# parameters\n",
    "W = (layers+1)*[None]\n",
    "b = (layers+1)*[None]\n",
    "A = (layers+1)*[None]"
   ]
  },
  {
   "cell_type": "code",
   "execution_count": 169,
   "metadata": {
    "collapsed": true,
    "deletable": true,
    "editable": true
   },
   "outputs": [],
   "source": [
    "def make_tf_L(layer, W_shape, b_shape, lr, act=tf.nn.tanh):\n",
    "  \"\"\"\n",
    "    TODO: implement initialization as input option\n",
    "    builds graph for layer-local training of W and b\n",
    "    args:\n",
    "      layer (int): which layer\n",
    "      W_shape:\n",
    "      b_shape:\n",
    "      lr: learning rate\n",
    "      act: activation function\n",
    "    returns:\n",
    "      training op\n",
    "      merged summaries of this layer\n",
    "  \"\"\"\n",
    "  with tf.name_scope('layer'+str(layer)+'_ff') as scope:\n",
    "\n",
    "    #W = tf.get_variable(scope+'W', shape=W_shape, dtype=tf.float32, initializer=tf.orthogonal_initializer(0.95))\n",
    "    W = tf.get_variable(scope+'W', shape=W_shape, dtype=tf.float32, initializer=tf.contrib.layers.xavier_initializer(uniform=True, seed=None, dtype=tf.float32))\n",
    "    b = tf.get_variable(scope+'b', shape=b_shape, dtype=tf.float32, initializer=tf.constant_initializer(0.))\n",
    "\n",
    "    x_0 = tf.placeholder(tf.float32, shape=[None, W_shape[0]], name='input')\n",
    "    y   = tf.placeholder(tf.float32, shape=[None, W_shape[1]], name='output')\n",
    "    \n",
    "    #loss = 0.5*tf.reduce_mean((act(tf.matmul(x_0, W) + b) - y)**2, name='loss') \n",
    "    loss = 0.5*tf.reduce_mean((tf.matmul(x_0, W) + b - y)**2, name='loss') \n",
    "    \n",
    "    s1 = tf.summary.scalar('log_loss'+str(layer), tf.log(loss))\n",
    "    s2 = tf.summary.histogram('W'+str(layer), W)\n",
    "    s3 = tf.summary.histogram('b'+str(layer), b) \n",
    "    \n",
    "    opt = tf.train.RMSPropOptimizer(lr) # rmsprop works *way* better than adam for local loss functions. unclear why.\n",
    "    # opt = tf.train.GradientDescentOptimizer(lr) # rmsprop works *way* better than adam for local loss functions. unclear why.\n",
    "    gvs = opt.compute_gradients(loss, var_list=[W, b])\n",
    "    sg  = [tf.summary.scalar('norm_grad'+var.name[-3], tf.nn.l2_loss(grad)) for grad, var in gvs] # var.name = 'namescope/V:0' and we want just 'V'\n",
    "    clipped_gvs = [(tf.clip_by_norm(grad, 100.), var) for grad, var in gvs] # hmmmmmm. clip by norm value?\n",
    "    \n",
    "    return opt.apply_gradients(clipped_gvs), tf.summary.merge([s1] + sg)"
   ]
  },
  {
   "cell_type": "code",
   "execution_count": 170,
   "metadata": {
    "collapsed": false,
    "deletable": true,
    "editable": true
   },
   "outputs": [],
   "source": [
    "for l in range(1, layers+1):\n",
    "  low = -np.sqrt(6.0/(l_dim[l-1] + l_dim[l]))\n",
    "  high = np.sqrt(6.0/(l_dim[l-1] + l_dim[l]))\n",
    "  W[l] = np.random.uniform(low=low, high=high, size=(l_dim[l-1], l_dim[l])).astype('float32') # Xavier initialization\n",
    "  b[l] = 0.*np.ones((1, l_dim[l])).astype('float32')\n",
    "  A[l] = np.concatenate((W[l], b[l]), axis=0)"
   ]
  },
  {
   "cell_type": "code",
   "execution_count": 171,
   "metadata": {
    "collapsed": true,
    "deletable": true,
    "editable": true
   },
   "outputs": [],
   "source": [
    "learning_rate = 0.003"
   ]
  },
  {
   "cell_type": "code",
   "execution_count": 172,
   "metadata": {
    "collapsed": true,
    "deletable": true,
    "editable": true
   },
   "outputs": [],
   "source": [
    "# for l in range(1, layers+1):\n",
    "#   train_op_L[l], summary_ops[l] = make_tf_L(l, W_shape=(l_dim[l-1], l_dim[l]), \n",
    "#                                                b_shape=(1, l_dim[l]),\n",
    "#                                                lr=learning_rate,\n",
    "#                                                act=tf_acts[l])"
   ]
  },
  {
   "cell_type": "code",
   "execution_count": 173,
   "metadata": {
    "collapsed": false,
    "deletable": true,
    "editable": true
   },
   "outputs": [],
   "source": [
    "# activations etc\n",
    "x  = [3*[None] for i in range(layers+1)]\n",
    "#x_ = [None for i in range(layers+1)] # augmented x, with vector of ones.\n",
    "tx = [3*[None] for i in range(layers+1)]\n",
    "dx = [3*[None] for i in range(layers+1)]\n",
    "cx = [3*[None] for i in range(layers+1)] # for checking...\n",
    "\n",
    "tW = [None for i in range(layers+1)]\n",
    "tb = [None for i in range(layers+1)]\n",
    "\n",
    "Losses = [3*[None] for i in range(layers+1)]\n",
    "L_store = t_steps*[None]\n",
    "acc_store = t_steps*[None]"
   ]
  },
  {
   "cell_type": "code",
   "execution_count": 174,
   "metadata": {
    "collapsed": true,
    "deletable": true,
    "editable": true
   },
   "outputs": [],
   "source": [
    "lin = ops.linear()\n",
    "add = ops.addition()\n",
    "act = ops.relu()\n",
    "idn = ops.identity()"
   ]
  },
  {
   "cell_type": "code",
   "execution_count": 175,
   "metadata": {
    "collapsed": true,
    "deletable": true,
    "editable": true
   },
   "outputs": [],
   "source": [
    "def softmax(x):\n",
    "  exp = np.exp(x)\n",
    "  return exp/np.sum(exp, axis=1, keepdims=True)\n",
    "def cross_entropy(z, y):\n",
    "  return -np.mean(y*np.log(z))\n",
    "def accuracy(z, y):\n",
    "  return np.sum(np.equal(np.argmax(z,1), np.argmax(y,1))).astype('float32')/z.shape[0]"
   ]
  },
  {
   "cell_type": "code",
   "execution_count": 176,
   "metadata": {
    "collapsed": true,
    "deletable": true,
    "editable": true
   },
   "outputs": [],
   "source": [
    "alpha_ = 1e-6"
   ]
  },
  {
   "cell_type": "code",
   "execution_count": 177,
   "metadata": {
    "collapsed": true,
    "deletable": true,
    "editable": true
   },
   "outputs": [],
   "source": [
    "# first: check if leaky relu works\n",
    "# second: check if interleaving strat works"
   ]
  },
  {
   "cell_type": "code",
   "execution_count": 178,
   "metadata": {
    "collapsed": true,
    "deletable": true,
    "editable": true
   },
   "outputs": [],
   "source": [
    "tf.reset_default_graph()"
   ]
  },
  {
   "cell_type": "code",
   "execution_count": 179,
   "metadata": {
    "collapsed": false,
    "deletable": true,
    "editable": true
   },
   "outputs": [],
   "source": [
    "ph = tf.placeholder(tf.float32, shape=[batch_size, l_dim[-1]])\n",
    "sf = tf.nn.softmax(ph)"
   ]
  },
  {
   "cell_type": "code",
   "execution_count": 200,
   "metadata": {
    "collapsed": false,
    "deletable": true,
    "editable": true
   },
   "outputs": [
    {
     "name": "stderr",
     "output_type": "stream",
     "text": [
      "100%|██████████| 1000/1000 [03:17<00:00,  5.09it/s]\n"
     ]
    }
   ],
   "source": [
    "sess = tf.Session()\n",
    "for t in tqdm(range(1000)):\n",
    "  # get data\n",
    "  x0 = data.inputs[:batch_size]\n",
    "  y = data.outputs[:batch_size].astype('float32')\n",
    "  \n",
    "  # forward pass\n",
    "  x[0][2] = x0\n",
    "  for l in range(1, layers+1):\n",
    "    x[l][0] = lin.f( x[l-1][2], W[l] )\n",
    "    x[l][1] = add.f( x[l][0], b[l] )\n",
    "    if l==layers:\n",
    "      x[l][2] = idn.f( x[l][1] )\n",
    "    else:\n",
    "      x[l][2] = act.f( x[l][1] )\n",
    "      \n",
    "  # top loss stuff\n",
    "  z = sess.run(sf, feed_dict={ph: x[-1][2]} )\n",
    "  L = cross_entropy(z, y)\n",
    "  \n",
    "  # line search\n",
    "  alpha = np.linspace(0, 10, 100)\n",
    "  L_new = np.zeros_like(alpha)\n",
    "  acc = np.zeros_like(alpha)\n",
    "  for i,a in enumerate(alpha):\n",
    "    L_new[i] = cross_entropy(sess.run(sf, feed_dict={ph: x[-1][2] - a*(z - y)} ), y)\n",
    "    acc[i] = accuracy(sess.run(sf, feed_dict={ph: x[-1][2] - a*(z - y)} ),y)\n",
    "  alpha = alpha[np.argmax(acc)]\n",
    "  \n",
    "  # loss targets\n",
    "  dx[-1][2] = z - y\n",
    "  tx[-1][2] = x[-1][2] - alpha*dx[-1][2]\n",
    "  \n",
    "  # interweaving backward pass...\n",
    "  for l in range(layers, 0, -1):\n",
    "    if l == layers:\n",
    "      tx[l][1] = idn.f_inv( tx[l][2], None )\n",
    "    else:\n",
    "      tx[l][1] = act.f_inv( tx[l][2], x[l][1] )\n",
    "    \n",
    "    # update b\n",
    "    Losses[l][1] = np.mean((x[l][1] - tx[l][1])**2.)\n",
    "    b[l] = b[l] - alpha_*np.mean(x[l][1] - tx[l][1], axis=0, keepdims=True)\n",
    "    \n",
    "    # assign target\n",
    "    tx[l][0] = add.f_inv( tx[l][1], None, b[l] )\n",
    "\n",
    "    # update W\n",
    "    Losses[l][0] = np.mean((x[l][0] - tx[l][0])**2.)\n",
    "    W[l] = W[l] - alpha_*(np.dot(x[l][0].T - tx[l][0].T, x[l-1][2])).T\n",
    "    \n",
    "    # assign target\n",
    "    tx[l-1][2] = lin.f_inv( tx[l][0], x[l-1][2], W[l] )\n",
    "  \n",
    "  L_store[t] = L\n",
    "  acc_store[t] = accuracy( x[-1][2], y )\n",
    "  "
   ]
  },
  {
   "cell_type": "code",
   "execution_count": 201,
   "metadata": {
    "collapsed": false,
    "deletable": true,
    "editable": true
   },
   "outputs": [
    {
     "data": {
      "text/plain": [
       "[<matplotlib.lines.Line2D at 0x11af32410>]"
      ]
     },
     "execution_count": 201,
     "metadata": {},
     "output_type": "execute_result"
    },
    {
     "data": {
      "image/png": "[encoded data removed]",
      "text/plain": [
       "<matplotlib.figure.Figure at 0x11b3987d0>"
      ]
     },
     "metadata": {},
     "output_type": "display_data"
    }
   ],
   "source": [
    "plt.plot(L_store)"
   ]
  },
  {
   "cell_type": "code",
   "execution_count": 202,
   "metadata": {
    "collapsed": false,
    "deletable": true,
    "editable": true,
    "scrolled": true
   },
   "outputs": [
    {
     "data": {
      "text/plain": [
       "[<matplotlib.lines.Line2D at 0x11b179510>]"
      ]
     },
     "execution_count": 202,
     "metadata": {},
     "output_type": "execute_result"
    },
    {
     "data": {
      "image/png": "[encoded data removed]",
      "text/plain": [
       "<matplotlib.figure.Figure at 0x11b4dafd0>"
      ]
     },
     "metadata": {},
     "output_type": "display_data"
    }
   ],
   "source": [
    "plt.plot(acc_store)"
   ]
  },
  {
   "cell_type": "code",
   "execution_count": null,
   "metadata": {
    "collapsed": true,
    "deletable": true,
    "editable": true
   },
   "outputs": [],
   "source": []
  },
  {
   "cell_type": "code",
   "execution_count": null,
   "metadata": {
    "collapsed": true,
    "deletable": true,
    "editable": true
   },
   "outputs": [],
   "source": []
  },
  {
   "cell_type": "code",
   "execution_count": null,
   "metadata": {
    "collapsed": true,
    "deletable": true,
    "editable": true
   },
   "outputs": [],
   "source": []
  },
  {
   "cell_type": "code",
   "execution_count": null,
   "metadata": {
    "collapsed": false,
    "deletable": true,
    "editable": true
   },
   "outputs": [],
   "source": [
    "# backward pass\n",
    "for l in range(layers, 0, -1):\n",
    "  if l == layers:\n",
    "    tx[l][1] = idn.f_inv( tx[l][2], None )\n",
    "  else:\n",
    "    tx[l][1] = act.f_inv( tx[l][2], None )\n",
    "  \n",
    "  tx[l][0]   = add.f_inv( tx[l][1], None, b[l] )\n",
    "  tx[l-1][2] = lin.f_inv( tx[l][0], x[l-1][2], W[l] )"
   ]
  },
  {
   "cell_type": "markdown",
   "metadata": {
    "deletable": true,
    "editable": true
   },
   "source": [
    "`x[0][2]\n",
    "--W[1]--> x[1][0] --b[1]--> x[1][1] --f--> x[0][2]\n",
    "--W[2]--> x[2][0] --b[2]--> x[2][1] --f--> x[1][2]\n",
    "--W[3]--> x[3][0] --b[3]--> x[3][1] --I--> x[3][2]`"
   ]
  },
  {
   "cell_type": "code",
   "execution_count": null,
   "metadata": {
    "collapsed": true,
    "deletable": true,
    "editable": true
   },
   "outputs": [],
   "source": []
  },
  {
   "cell_type": "code",
   "execution_count": null,
   "metadata": {
    "collapsed": true,
    "deletable": true,
    "editable": true
   },
   "outputs": [],
   "source": []
  },
  {
   "cell_type": "code",
   "execution_count": null,
   "metadata": {
    "collapsed": true,
    "deletable": true,
    "editable": true
   },
   "outputs": [],
   "source": []
  },
  {
   "cell_type": "code",
   "execution_count": null,
   "metadata": {
    "collapsed": true,
    "deletable": true,
    "editable": true
   },
   "outputs": [],
   "source": [
    "# check targets\n",
    "cx[0][2] = tx[0][2]\n",
    "for l in range(1, layers+1):\n",
    "  cx[l][0] = lin.f( cx[l-1][2], W[l] )\n",
    "  cx[l][1] = add.f( cx[l][0],   b[l] )\n",
    "  if l==layers:\n",
    "    cx[l][2] = idn.f( cx[l][1] )\n",
    "  else:\n",
    "    cx[l][2] = act.f( cx[l][1] )"
   ]
  },
  {
   "cell_type": "code",
   "execution_count": null,
   "metadata": {
    "collapsed": true,
    "deletable": true,
    "editable": true
   },
   "outputs": [],
   "source": []
  },
  {
   "cell_type": "code",
   "execution_count": null,
   "metadata": {
    "collapsed": true,
    "deletable": true,
    "editable": true
   },
   "outputs": [],
   "source": []
  },
  {
   "cell_type": "code",
   "execution_count": null,
   "metadata": {
    "collapsed": true,
    "deletable": true,
    "editable": true
   },
   "outputs": [],
   "source": []
  },
  {
   "cell_type": "markdown",
   "metadata": {
    "deletable": true,
    "editable": true
   },
   "source": [
    "# check inverses"
   ]
  },
  {
   "cell_type": "code",
   "execution_count": null,
   "metadata": {
    "collapsed": false,
    "deletable": true,
    "editable": true
   },
   "outputs": [],
   "source": [
    "# inverse checks\n",
    "b_test = 100*np.random.randn(1, 100)\n",
    "W_test = 10000*np.random.randn(100, 50)\n",
    "x_test = 1000000*np.random.randn(1000, 100)\n",
    "print np.sum(np.abs(x_test - add.f_inv( add.f(x_test, b_test ), [], b_test)))\n",
    "print np.sum(np.abs(x_test - lin.f_inv( lin.f(x_test, W_test ), x_test, W_test)))\n",
    "print np.sum(np.abs(x_test - act.f_inv( act.f(x_test), x_test)))"
   ]
  },
  {
   "cell_type": "markdown",
   "metadata": {
    "collapsed": true,
    "deletable": true,
    "editable": true
   },
   "source": [
    "# check affine model"
   ]
  },
  {
   "cell_type": "code",
   "execution_count": null,
   "metadata": {
    "collapsed": true,
    "deletable": true,
    "editable": true
   },
   "outputs": [],
   "source": []
  },
  {
   "cell_type": "code",
   "execution_count": null,
   "metadata": {
    "collapsed": true,
    "deletable": true,
    "editable": true
   },
   "outputs": [],
   "source": []
  },
  {
   "cell_type": "code",
   "execution_count": null,
   "metadata": {
    "collapsed": true,
    "deletable": true,
    "editable": true
   },
   "outputs": [],
   "source": []
  },
  {
   "cell_type": "markdown",
   "metadata": {
    "deletable": true,
    "editable": true
   },
   "source": [
    "# old:"
   ]
  },
  {
   "cell_type": "code",
   "execution_count": null,
   "metadata": {
    "collapsed": false,
    "deletable": true,
    "editable": true
   },
   "outputs": [],
   "source": [
    "# dimensions\n",
    "n0 = 1 # input dimension / number of input units\n",
    "n1 = 2 # hidden dimension / number of hidden layer units\n",
    "n2 = 1  # output dimension\n",
    "\n",
    "th1 = 3*np.pi/8\n",
    "W1 = np.array([[np.cos(th1)], [np.sin(th1)]]) # size 2 x 1\n",
    "th2 = -2*np.pi/8\n",
    "W2 = np.array([[np.cos(th2) , np.sin(th2)]]) # size 1 x 2\n",
    "\n",
    "# inputs\n",
    "num_examples = 21\n",
    "\n",
    "x0 = np.linspace(-2, 2, num_examples)[np.newaxis, :]"
   ]
  },
  {
   "cell_type": "markdown",
   "metadata": {
    "deletable": true,
    "editable": true
   },
   "source": [
    "## define operations"
   ]
  },
  {
   "cell_type": "code",
   "execution_count": null,
   "metadata": {
    "collapsed": false,
    "deletable": true,
    "editable": true
   },
   "outputs": [],
   "source": [
    "lin = ops.linear()\n",
    "tanh = ops.tanh()"
   ]
  },
  {
   "cell_type": "markdown",
   "metadata": {
    "deletable": true,
    "editable": true
   },
   "source": [
    "## forward pass on model"
   ]
  },
  {
   "cell_type": "code",
   "execution_count": null,
   "metadata": {
    "collapsed": true,
    "deletable": true,
    "editable": true
   },
   "outputs": [],
   "source": [
    "# forward pass on the model\n",
    "h1 = lin.f( W1, x0 )\n",
    "x1 = tanh.f( h1 )\n",
    "x2 = lin.f( W2, x1 )"
   ]
  },
  {
   "cell_type": "markdown",
   "metadata": {
    "deletable": true,
    "editable": true
   },
   "source": [
    "## train model"
   ]
  },
  {
   "cell_type": "code",
   "execution_count": null,
   "metadata": {
    "collapsed": false,
    "deletable": true,
    "editable": true
   },
   "outputs": [],
   "source": [
    "W2"
   ]
  },
  {
   "cell_type": "code",
   "execution_count": null,
   "metadata": {
    "collapsed": true,
    "deletable": true,
    "editable": true
   },
   "outputs": [],
   "source": [
    "def train(prop_method, gamma=1, num_steps=10, alpha=0.5):\n",
    "\n",
    "  W1_est = num_steps*[None]\n",
    "  W2_est = num_steps*[None]\n",
    "  \n",
    "  h1_est = num_steps*[None]\n",
    "  x1_est = num_steps*[None]\n",
    "  x2_est = num_steps*[None]\n",
    "\n",
    "  loss = num_steps*[None]\n",
    "  loss_1 = num_steps*[None]\n",
    "\n",
    "  W1_tar = num_steps*[None]\n",
    "  W1_tar = num_steps*[None]\n",
    "  \n",
    "  h1_tar = num_steps*[None]\n",
    "  x1_tar = num_steps*[None]\n",
    "\n",
    "  W1_d = num_steps*[None]\n",
    "  W2_d = num_steps*[None]\n",
    "  \n",
    "  h1_d = num_steps*[None]\n",
    "  x1_d = num_steps*[None]\n",
    "\n",
    "  th3 = 1*np.pi/8\n",
    "  W1_est[0] = np.array([[np.cos(th3)], [np.sin(th3)]])\n",
    "  W2_est[0] = np.array([[np.cos(th3), np.sin(th3)]])\n",
    "  \n",
    "  for t in range(num_steps):\n",
    "    # forward:\n",
    "    h1_est[t] = lin.f( W1_est[t], x0 )\n",
    "    x1_est[t] = tanh.f( h1_est[t] )\n",
    "    x2_est[t] = lin.f( W2_est[t], x1_est[t] )\n",
    "    loss[t] = 0.5*np.mean((x2_est[t] - x2)**2)\n",
    "    \n",
    "    # backward:\n",
    "    if prop_method == 'tp_inv':\n",
    "      x1_tar[t] = lin.f_inv( x2.T, x1_est[t].T, W2.T ).T\n",
    "      h1_tar[t] = tanh.f_inv( x1_tar[t], h1_est[t], th=1e-12 )\n",
    "      W1_tar[t] = lin.f_inv( h1_tar[t], W1_est[t], x0 )\n",
    "      W2_tar[t] = lin.f_inv( x2, W2_est[t], h1_est[t] )\n",
    "    elif prop_method == 'tp_rinv':\n",
    "      x1_tar[t] = lin.f_rinv( x2.T, x1_est[t].T, W2.T , gamma=gamma ).T\n",
    "      h1_tar[t] = tanh.f_rinv( x1_tar[t], h1_est[t], gamma=gamma, scipy_fmin=True )\n",
    "      W1_tar[t] = lin.f_rinv( h1_tar[t], W1_est[t], x0 )  \n",
    "      W2_tar[t] = lin.f_rinv( x2, W2_est[t], h1_est[t] )\n",
    "    elif prop_method == 'bp':\n",
    "      # backward derivatives\n",
    "      x1_d[t] = lin.df( x2_est[t].T - x2.T, h1_est[t].T, W2.T ).T\n",
    "      h1_d[t] = tanh.df( x1_d[t], h1_est[t] )\n",
    "      W1_d[t] = lin.df( h1_d[t], W1_est[t], x0 )\n",
    "      W2_d[t] = lin.df( x2_est[t] - x2, )\n",
    "      \n",
    "      x1_tar[t] = x1_est[t] - x1_d[t]\n",
    "      h1_tar[t] = h1_est[t] - h1_d[t]\n",
    "      W1_tar[t] = W1_est[t] - W1_d[t]\n",
    "    elif prop_method == 'tp_then_bp':\n",
    "      x1_tar[t] = lin.f_rinv( x2.T, x1_est[t].T, W2.T , gamma=gamma ).T\n",
    "      h1_tar[t] = tanh.f_rinv( x1_tar[t], h1_est[t], gamma=gamma, scipy_fmin=False )\n",
    "      W1_d[t] = lin.df( h1_est[t] - h1_tar[t], W1_est[t], x0 )\n",
    "      \n",
    "      W1_tar[t] = W1_est[t] - W1_d[t]\n",
    "    \n",
    "    loss_1[t] = 0.5*np.mean((x1_est[t] - x1_tar[t])**2)          \n",
    "    \n",
    "    if t < num_steps - 1:\n",
    "      W1_est[t+1] = W1_est[t] - alpha*(W1_est[t] - W1_tar[t])\n",
    "      \n",
    "  return { 'W1_est':W1_est, 'h1_est':h1_est, 'x1_est':x1_est, 'x2_est':x2_est,\n",
    "           'loss':loss, 'loss1':loss_1,\n",
    "           'W1_tar':W1_tar, 'h1_tar':h1_tar, 'x1_tar':x1_tar,\n",
    "           'W1_d':W1_d, 'h1_d':h1_d, 'x1_d':x1_d }"
   ]
  },
  {
   "cell_type": "code",
   "execution_count": null,
   "metadata": {
    "collapsed": false,
    "deletable": true,
    "editable": true
   },
   "outputs": [],
   "source": [
    "num_steps = 1000\n",
    "\n",
    "datasets = {}\n",
    "datasets['bp'] = train('bp', num_steps=num_steps, alpha=0.01)\n",
    "datasets['tp_inv'] = train('tp_inv', num_steps=num_steps, alpha=1)\n",
    "datasets['tp_rinv'] = train('tp_rinv', gamma=0.1, num_steps=num_steps, alpha=1)\n",
    "# for i, gamma in enumerate([1, 30, 10]):\n",
    "#   datasets['rinv_'+str(gamma)] = train('tp_rinv', num_steps=num_steps, gamma=gamma, alpha=1.0)\n",
    "#   datasets['rinv_'+str(gamma)]['idx'] = i\n",
    "  \n",
    "#datasets['tp_then_bp'] = train('tp_then_bp', num_steps=num_steps, gamma=1e0, alpha=0.01)"
   ]
  },
  {
   "cell_type": "code",
   "execution_count": null,
   "metadata": {
    "collapsed": false,
    "deletable": true,
    "editable": true
   },
   "outputs": [],
   "source": [
    "def plot_x2s(data, title=None):\n",
    "  num_steps = len(data['x2_est'])\n",
    "  sns.set_palette(sns.color_palette(\"RdBu\", num_steps+1))\n",
    "  f = plt.plot(x2.T,'ko')[0]\n",
    "  for t in range(num_steps):\n",
    "    plt.plot(data['x2_est'][t].T,'o')\n",
    "  plt.xlim([-1, num_examples+1])\n",
    "  f.axes.xaxis.set_ticks(np.arange(0, num_examples+1))\n",
    "  plt.xlabel('examples')\n",
    "  plt.ylabel('x2')\n",
    "  plt.title(title)\n",
    "  plt.show()\n"
   ]
  },
  {
   "cell_type": "code",
   "execution_count": null,
   "metadata": {
    "collapsed": false,
    "deletable": true,
    "editable": true
   },
   "outputs": [],
   "source": [
    "for key, val in datasets.items():\n",
    "  plot_x2s(val, key)\n"
   ]
  },
  {
   "cell_type": "code",
   "execution_count": null,
   "metadata": {
    "collapsed": false,
    "deletable": true,
    "editable": true
   },
   "outputs": [],
   "source": [
    "def plot_loss(data, ax, label):\n",
    "  ax.plot(np.log(data['loss']), '-', label=label)\n",
    "  ax.plot(np.log(data['loss1']), '-', label=label)"
   ]
  },
  {
   "cell_type": "code",
   "execution_count": null,
   "metadata": {
    "collapsed": false,
    "deletable": true,
    "editable": true
   },
   "outputs": [],
   "source": [
    "sns.set_palette(sns.color_palette(\"Set1\", 10))\n",
    "\n",
    "fig = plt.figure()\n",
    "ax = fig.add_subplot(111)\n",
    "\n",
    "for key, val in datasets.items():\n",
    "  plot_loss(val, ax, key)\n",
    "\n",
    "plt.legend()"
   ]
  },
  {
   "cell_type": "code",
   "execution_count": null,
   "metadata": {
    "collapsed": false,
    "deletable": true,
    "editable": true
   },
   "outputs": [],
   "source": [
    "# plot W1 loss...\n",
    "wa, wb = np.meshgrid(np.linspace(-3,3,500), np.linspace(-3,3,500))"
   ]
  },
  {
   "cell_type": "code",
   "execution_count": null,
   "metadata": {
    "collapsed": false,
    "deletable": true,
    "editable": true
   },
   "outputs": [],
   "source": [
    "l_grid = np.zeros_like(wa)\n",
    "for i in range(wa.shape[0]):\n",
    "  for j in range(wa.shape[0]):\n",
    "    l_grid[i,j] = 0.5*np.mean((np.dot( W2, np.tanh( np.dot( np.array([[wa[i,j]], [wb[i,j]]]), x0 ) ) ) - x2)**2)\n"
   ]
  },
  {
   "cell_type": "code",
   "execution_count": null,
   "metadata": {
    "collapsed": true,
    "deletable": true,
    "editable": true
   },
   "outputs": [],
   "source": [
    "def plot_traj(data, ax, c, label=None):\n",
    "  w1_scatter = np.stack(data['W1_est'])\n",
    "  ax.plot(w1_scatter[:,0,0], w1_scatter[:,1,0], '-', c=c, label=label)"
   ]
  },
  {
   "cell_type": "code",
   "execution_count": null,
   "metadata": {
    "collapsed": false,
    "deletable": true,
    "editable": true
   },
   "outputs": [],
   "source": [
    "cmap = sns.color_palette('Set1', 100)\n",
    "\n",
    "fig = plt.figure(figsize=(15,15))\n",
    "ax = fig.add_subplot(111)\n",
    "\n",
    "ax.contour(wa, wb, np.log(l_grid), 10)\n",
    "\n",
    "for i, (key, val) in enumerate(datasets.items()):\n",
    "  plot_traj(val, ax, cmap[i], key)\n",
    "\n",
    "ax.plot(W1[0], W1[1],'ko')\n",
    "\n",
    "axify(ax, [-3, 3])\n",
    "plt.xlim([-0.1, 1.5])\n",
    "plt.ylim([-0.1, 1.5])\n",
    "plt.legend()\n",
    "#plt.axis('square')"
   ]
  },
  {
   "cell_type": "markdown",
   "metadata": {
    "deletable": true,
    "editable": true
   },
   "source": [
    "### visualize learning"
   ]
  },
  {
   "cell_type": "code",
   "execution_count": null,
   "metadata": {
    "collapsed": false,
    "deletable": true,
    "editable": true
   },
   "outputs": [],
   "source": [
    "cmap = sns.color_palette(\"RdBu\", num_examples)\n",
    "sort_inds = np.argsort(x2[0])"
   ]
  },
  {
   "cell_type": "code",
   "execution_count": null,
   "metadata": {
    "collapsed": false,
    "deletable": true,
    "editable": true
   },
   "outputs": [],
   "source": [
    "cmap_sorted = [cmap[i] for i in np.argsort(sort_inds)]"
   ]
  },
  {
   "cell_type": "code",
   "execution_count": null,
   "metadata": {
    "collapsed": true,
    "deletable": true,
    "editable": true
   },
   "outputs": [],
   "source": [
    "def axify(ax, lims=None):\n",
    "  ax.axis('equal')\n",
    "  if not lims:\n",
    "    lims = ax.get_xlim() + ax.get_ylim()\n",
    "    lims = min(lims), max(lims)\n",
    "  ax.set_xlim(lims)\n",
    "  ax.set_ylim(lims)\n",
    "\n",
    "  ax.xaxis.set_ticks(np.arange(np.floor(lims[0]), np.ceil(lims[1]), 0.5))\n",
    "  ax.yaxis.set_ticks(np.arange(np.floor(lims[0]), np.ceil(lims[1]), 0.5))\n",
    "  \n",
    "  ax.hlines([0], *ax.get_xlim(), linewidth=0.75, alpha=0.5)\n",
    "  ax.vlines([0], *ax.get_ylim(), linewidth=0.75, alpha=0.5)\n"
   ]
  },
  {
   "cell_type": "code",
   "execution_count": null,
   "metadata": {
    "collapsed": true,
    "deletable": true,
    "editable": true
   },
   "outputs": [],
   "source": [
    "def add_scatterplot(fig, nrows, ncols, subplot, data, args):\n",
    "  \n",
    "  if data.shape[0]==1:\n",
    "    rng = data.max() - data.min()\n",
    "    ax = fig.add_subplot(nrows, ncols, subplot)\n",
    "    #ax.scatter(data[0,:], rng*0.0*(np.random.rand(1, data.shape[1])-0.5), **args)\n",
    "    ax.scatter(data[0,:], np.linspace(-0.05, 0.05, data.shape[1]), **args)\n",
    "    axify(ax)\n",
    "    ax.set_xlim((data.min()-rng*0.1, data.max()+rng*0.1))\n",
    "    ax.set_ylim((-rng*0.1, rng*0.1))\n",
    "    ax.yaxis.set_ticks([0])\n",
    "\n",
    "  elif data.shape[0]==2:\n",
    "    ax = fig.add_subplot(nrows, ncols, subplot)\n",
    "    ax.scatter(data[0,:], data[1,:], **args)\n",
    "    axify(ax)\n",
    "  elif data.shape[0]>2:\n",
    "    ax = fig.add_subplot(nrows, ncols, subplot, projection='3d')\n",
    "    ax.scatter(data[0,:], data[1,:], data[2,:], **args)\n",
    "\n",
    "  return ax"
   ]
  },
  {
   "cell_type": "code",
   "execution_count": null,
   "metadata": {
    "collapsed": true,
    "deletable": true,
    "editable": true
   },
   "outputs": [],
   "source": [
    "def append_scatterplot(ax, data, args):\n",
    "\n",
    "  if data.shape[0]==1:\n",
    "    ax.scatter(data[0,:], np.zeros_like(data), **args)\n",
    "  elif data.shape[0]==2:\n",
    "    ax.scatter(data[0,:], data[1,:], **args)\n",
    "  elif data.shape[0]>2:\n",
    "    ax.scatter(data[0,:], data[1,:], data[2,:], **args)\n",
    "\n",
    "  return ax"
   ]
  },
  {
   "cell_type": "code",
   "execution_count": null,
   "metadata": {
    "collapsed": true,
    "deletable": true,
    "editable": true
   },
   "outputs": [],
   "source": [
    "def get_subspaces(A, r):\n",
    "  u,s,v = np.linalg.svd(A, full_matrices=True)\n",
    "  ss = {'im': u[:,:r], 'ker': v[r:].T, 'coim': v[:r].T, 'coker': u[:,r:]}\n",
    "  return ss"
   ]
  },
  {
   "cell_type": "code",
   "execution_count": null,
   "metadata": {
    "collapsed": true,
    "deletable": true,
    "editable": true
   },
   "outputs": [],
   "source": [
    "W2_ss = get_subspaces(W2, 1)\n",
    "ker_line = np.dot(W2_ss['ker'], np.linspace(-5, 5, 201)[np.newaxis, :])\n",
    "ker_lines = ker_line[:,:,np.newaxis] + np.dot(np.linalg.pinv(W2), x2)[:,np.newaxis,:]"
   ]
  },
  {
   "cell_type": "code",
   "execution_count": null,
   "metadata": {
    "collapsed": false,
    "deletable": true,
    "editable": true
   },
   "outputs": [],
   "source": [
    "h1_lines = tanh.f_inv(ker_lines, 0, 1e-15)"
   ]
  },
  {
   "cell_type": "code",
   "execution_count": null,
   "metadata": {
    "collapsed": false,
    "deletable": true,
    "editable": true
   },
   "outputs": [],
   "source": [
    "sns.palplot(cmap)\n",
    "\n",
    "rows = min(num_steps+1, 6)\n",
    "cols = 5\n",
    "mult = 5\n",
    "\n",
    "fig = plt.figure(figsize=(mult*cols, mult*rows))\n",
    "\n",
    "args = {}\n",
    "args['c'] = cmap_sorted\n",
    "args['s'] = 70\n",
    "args['linewidth'] = 0.5\n",
    "\n",
    "args2 = {}\n",
    "args2['c'] = cmap_sorted\n",
    "args2['s'] = 30\n",
    "args2['linewidth'] = 2\n",
    "args2['marker'] = 'x'\n",
    "\n",
    "args3 = {}\n",
    "args3['c'] = cmap_sorted\n",
    "args3['s'] = 30\n",
    "args3['linewidth'] = 1\n",
    "args3['marker'] = 'v'\n",
    "\n",
    "ax = []\n",
    "\n",
    "# plot inputs\n",
    "i = 0\n",
    "ax.append(add_scatterplot(fig, rows, cols, i+1, x0, args))\n",
    "\n",
    "i=1\n",
    "ax.append(add_scatterplot(fig, rows, cols, i+1, h1, args))\n",
    "#ax.append(fig.add_subplot(rows, cols, i+1))\n",
    "for j in np.arange(0, num_examples, 1):\n",
    "  ax[-1].plot(h1_lines[0,:,j], h1_lines[1,:,j], c=cmap_sorted[j], linewidth=2, alpha=0.75, zorder=0)\n",
    "axify(ax[-1], [-3,3])\n",
    "#ax.append(add_scatterplot(fig, rows, cols, i+1, h1, args))\n",
    "#ax[-1].contour\n",
    "#append_scatterplot(ax[-1], h1_target, args3)\n",
    "\n",
    "# plot ker_lines\n",
    "i=2\n",
    "ax.append(add_scatterplot(fig, rows, cols, i+1, x1, args))\n",
    "#ax.append(fig.add_subplot(rows, cols, i+1))\n",
    "for j in np.arange(0, num_examples, 1):\n",
    "  ax[-1].plot(ker_lines[0,:,j], ker_lines[1,:,j], c=cmap_sorted[j], linewidth=2, alpha=0.75, zorder=0)\n",
    "axify(ax[-1], [-1,1])\n",
    "  \n",
    "#ax.append(add_scatterplot(fig, rows, cols, i+1, x1, args))\n",
    "#append_scatterplot(ax[-1], x1_target, args3)\n",
    "\n",
    "# plot outputs\n",
    "i=3\n",
    "ax.append(add_scatterplot(fig, rows, cols, i+1, x2, args))\n",
    "\n",
    "# for t in range(rows-1):\n",
    "#   i = (t+1)*cols+0\n",
    "#   ax.append(add_scatterplot(fig, rows, cols, i+1, x0, args))\n",
    "\n",
    "#   i=(t+1)*cols+1\n",
    "#   ax.append(add_scatterplot(fig, rows, cols, i+1, h1_est[t], args))\n",
    "#   append_scatterplot(ax[-1], h1_tar[t], args2)\n",
    "#   append_scatterplot(ax[-1], h1_est[t] + h1_d[t], args3)\n",
    "\n",
    "#   i=(t+1)*cols+2\n",
    "#   ax.append(add_scatterplot(fig, rows, cols, i+1, x1_est[t], args))\n",
    "#   append_scatterplot(ax[-1], x1_tar[t], args2)\n",
    "#   append_scatterplot(ax[-1], x1_est[t] + x1_d[t], args3)\n",
    "  \n",
    "#   i=(t+1)*cols+3\n",
    "#   ax.append(add_scatterplot(fig, rows, cols, i+1, x2_est[t], args))\n",
    "\n",
    "#   i=(t+1)*cols+4\n",
    "#   ax.append(add_scatterplot(fig, rows, cols, i+1, x2_est[t] - x2, args))\n",
    "  \n",
    "# # print \"W1=\\n\", W1\n",
    "# # print \"\\nW2=\\n\", W2\n",
    "# # print \"\\nW1 initial guess = \\n\", W1_est[-1]\n"
   ]
  },
  {
   "cell_type": "code",
   "execution_count": null,
   "metadata": {
    "collapsed": false,
    "deletable": true,
    "editable": true,
    "scrolled": false
   },
   "outputs": [],
   "source": [
    "sns.palplot(cmap)\n",
    "\n",
    "rows = min(num_steps+1, 6)\n",
    "cols = 5\n",
    "mult = 5\n",
    "\n",
    "fig = plt.figure(figsize=(mult*cols, mult*rows))\n",
    "\n",
    "args = {}\n",
    "args['c'] = cmap_sorted\n",
    "args['s'] = 70\n",
    "args['linewidth'] = 0.5\n",
    "\n",
    "args2 = {}\n",
    "args2['c'] = cmap_sorted\n",
    "args2['s'] = 30\n",
    "args2['linewidth'] = 2\n",
    "args2['marker'] = 'x'\n",
    "\n",
    "args3 = {}\n",
    "args3['c'] = cmap_sorted\n",
    "args3['s'] = 30\n",
    "args3['linewidth'] = 1\n",
    "args3['marker'] = 'v'\n",
    "\n",
    "ax = []\n",
    "\n",
    "i = 0\n",
    "ax.append(add_scatterplot(fig, rows, cols, i+1, x0, args))\n",
    "\n",
    "i=1\n",
    "ax.append(add_scatterplot(fig, rows, cols, i+1, h1, args))\n",
    "#ax[-1].contour\n",
    "#append_scatterplot(ax[-1], h1_target, args3)\n",
    "\n",
    "i=2\n",
    "ax.append(add_scatterplot(fig, rows, cols, i+1, x1, args))\n",
    "#append_scatterplot(ax[-1], x1_target, args3)\n",
    "\n",
    "i=3\n",
    "ax.append(add_scatterplot(fig, rows, cols, i+1, x2, args))\n",
    "\n",
    "for t in range(rows-1):\n",
    "  i = (t+1)*cols+0\n",
    "  ax.append(add_scatterplot(fig, rows, cols, i+1, x0, args))\n",
    "\n",
    "  i=(t+1)*cols+1\n",
    "  ax.append(add_scatterplot(fig, rows, cols, i+1, h1_est[t], args))\n",
    "  append_scatterplot(ax[-1], h1_tar[t], args2)\n",
    "  append_scatterplot(ax[-1], h1_est[t] + h1_d[t], args3)\n",
    "\n",
    "  i=(t+1)*cols+2\n",
    "  ax.append(add_scatterplot(fig, rows, cols, i+1, x1_est[t], args))\n",
    "  append_scatterplot(ax[-1], x1_tar[t], args2)\n",
    "  append_scatterplot(ax[-1], x1_est[t] + x1_d[t], args3)\n",
    "  \n",
    "  i=(t+1)*cols+3\n",
    "  ax.append(add_scatterplot(fig, rows, cols, i+1, x2_est[t], args))\n",
    "  axify(ax[-1], [-.5, .5])\n",
    "\n",
    "  i=(t+1)*cols+4\n",
    "  ax.append(add_scatterplot(fig, rows, cols, i+1, x2_est[t] - x2, args))\n",
    "  \n",
    "# print \"W1=\\n\", W1\n",
    "# print \"\\nW2=\\n\", W2\n",
    "# print \"\\nW1 initial guess = \\n\", W1_est[-1]\n"
   ]
  },
  {
   "cell_type": "code",
   "execution_count": null,
   "metadata": {
    "collapsed": true,
    "deletable": true,
    "editable": true
   },
   "outputs": [],
   "source": []
  },
  {
   "cell_type": "code",
   "execution_count": null,
   "metadata": {
    "collapsed": true,
    "deletable": true,
    "editable": true
   },
   "outputs": [],
   "source": [
    "def plot3d_lines(ax):\n",
    "  args = {'linewidth':0.5, 'alpha':0.5}\n",
    "  xlim = ax.get_xlim()\n",
    "  ylim = ax.get_ylim()\n",
    "  zlim = ax.get_zlim()\n",
    "  for i in range(3):\n",
    "    ax.plot([0,0], [0,0], [-zlim, zlim], 'k', **args)\n",
    "    ax.plot([0,0], [-ylim, ylim], [0,0], 'k', **args)\n",
    "    ax.plot([-xlim, xlim], [0,0], [0,0], 'k', **args)\n"
   ]
  },
  {
   "cell_type": "code",
   "execution_count": null,
   "metadata": {
    "collapsed": true,
    "deletable": true,
    "editable": true
   },
   "outputs": [],
   "source": [
    "def get_subspaces(A_, r):\n",
    "    ''' return: a dict containing the four fundamental subspaces of a matrix A '''\n",
    "    u,s,v = np.linalg.svd(A_, full_matrices=True)\n",
    "    ss = {'im': u[:,:r], 'ker': v[r:].T, 'coim': v[:r].T, 'coker': u[:,r:]}\n",
    "    return ss\n",
    "\n",
    "def plot_vecline(V, i=0, color=0):\n",
    "    ''' plots the 1d subspace (line) spanned by one vector V '''\n",
    "    VV = np.concatenate((-10*V, 10*V), axis=1)\n",
    "    ax[i].plot(VV[0], VV[1], color=sns.color_palette(\"RdBu_r\",7)[color], linewidth=2.0)\n",
    "    \n",
    "def plot_quotient(V, W, i=0, color=5):\n",
    "    ''' plots elements (lines) of the quotient space V/W \n",
    "        todo: replace n with sv or 1/sv\n",
    "    '''\n",
    "    for n in np.arange(-3,3.1,0.5):\n",
    "        VV = np.concatenate((-10*V, 10*V), axis=1)\n",
    "        VV = VV + n*W\n",
    "        ax[i].plot(VV[0], VV[1], color=sns.color_palette(\"RdBu_r\",7)[color], linewidth=0.5)\n",
    "\n",
    "def square_axes(i=0):\n",
    "    ''' make axis look nice '''\n",
    "    fig.axes[i].axhline(0, color='w', linewidth=3.5)\n",
    "    fig.axes[i].axvline(0, color='w', linewidth=3.5)\n",
    "    fig.axes[i].set_xlim(-3.5,3.5)\n",
    "    fig.axes[i].set_ylim(-3.5,3.5)\n",
    "    fig.axes[i].set_aspect(1)\n",
    "    fig.axes[i].get_xaxis().set_ticklabels([])\n",
    "    fig.axes[i].get_yaxis().set_ticklabels([])"
   ]
  }
 ],
 "metadata": {
  "kernelspec": {
   "display_name": "Python 2",
   "language": "python",
   "name": "python2"
  },
  "language_info": {
   "codemirror_mode": {
    "name": "ipython",
    "version": 2
   },
   "file_extension": ".py",
   "mimetype": "text/x-python",
   "name": "python",
   "nbconvert_exporter": "python",
   "pygments_lexer": "ipython2",
   "version": "2.7.13"
  }
 },
 "nbformat": 4,
 "nbformat_minor": 0
}
