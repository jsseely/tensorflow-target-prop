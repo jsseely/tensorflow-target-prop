{
 "cells": [
  {
   "cell_type": "code",
   "execution_count": 1,
   "metadata": {
    "collapsed": false
   },
   "outputs": [],
   "source": [
    "%reset -f\n",
    "%matplotlib inline\n",
    "%load_ext autoreload\n",
    "%autoreload 2"
   ]
  },
  {
   "cell_type": "code",
   "execution_count": 2,
   "metadata": {
    "collapsed": true
   },
   "outputs": [],
   "source": [
    "import sys\n",
    "sys.path.append('../')"
   ]
  },
  {
   "cell_type": "code",
   "execution_count": 3,
   "metadata": {
    "collapsed": true
   },
   "outputs": [],
   "source": [
    "import os\n",
    "import sys\n",
    "import pickle\n",
    "import numpy as np\n",
    "\n",
    "import matplotlib.pyplot as plt\n",
    "import seaborn as sns\n",
    "\n",
    "import targprop.datasets as ds\n",
    "import targprop.operations as ops\n",
    "import targprop.tprop_train as tprop\n",
    "\n",
    "import tensorflow as tf"
   ]
  },
  {
   "cell_type": "code",
   "execution_count": 14,
   "metadata": {
    "collapsed": true
   },
   "outputs": [],
   "source": [
    "# Params\n",
    "cur_params = {}\n",
    "cur_params['batch_size']         = 20\n",
    "cur_params['t_steps']            = 10000 # 10k for now. maybe final sims will be 20k+\n",
    "\n",
    "cur_params['gamma']              = 1e-3\n",
    "cur_params['alpha_t']            = 1.0\n",
    "cur_params['noise_str']          = 1e-2\n",
    "\n",
    "cur_params['learning_rate']      = 1e2\n",
    "cur_params['learning_rate_inv']  = 1e-4\n",
    "cur_params['learning_rate_rinv'] = 1e-4\n",
    "cur_params['num_steps_rinv']     = 1\n",
    "\n",
    "cur_params['SGD']                = False\n",
    "\n",
    "cur_params['mode'] = 'classification'\n",
    "cur_params['dataset'] = 'mnist'\n",
    "\n",
    "cur_params['activation'] = 'relu'\n",
    "cur_params['top_loss'] = 'softmax_ce'\n",
    "cur_params['l_dim'] = 3*[240]\n",
    "\n",
    "cur_params['preprocess'] = False"
   ]
  },
  {
   "cell_type": "code",
   "execution_count": 15,
   "metadata": {
    "collapsed": true
   },
   "outputs": [],
   "source": [
    "err_alg = 2"
   ]
  },
  {
   "cell_type": "code",
   "execution_count": null,
   "metadata": {
    "collapsed": false
   },
   "outputs": [
    {
     "name": "stdout",
     "output_type": "stream",
     "text": [
      "Extracting MNIST_data/train-images-idx3-ubyte.gz\n",
      "Extracting MNIST_data/train-labels-idx1-ubyte.gz\n",
      "Extracting MNIST_data/t10k-images-idx3-ubyte.gz\n",
      "Extracting MNIST_data/t10k-labels-idx1-ubyte.gz\n",
      "Extracting MNIST_data/train-images-idx3-ubyte.gz\n",
      "Extracting MNIST_data/train-labels-idx1-ubyte.gz\n",
      "Extracting MNIST_data/t10k-images-idx3-ubyte.gz\n",
      "Extracting MNIST_data/t10k-labels-idx1-ubyte.gz\n",
      "Iter:  0 Loss, accuracy:  [2.3055782, 0.1]\n"
     ]
    }
   ],
   "source": [
    "tb_path = './stability/'\n",
    "path, dirs, files = os.walk(tb_path).next()\n",
    "cur_run = len(dirs)+1\n",
    "out_dict = tprop.train_net(err_alg=err_alg, tb_path='./stability/'+str(cur_run), **cur_params)"
   ]
  },
  {
   "cell_type": "code",
   "execution_count": null,
   "metadata": {
    "collapsed": true
   },
   "outputs": [],
   "source": []
  }
 ],
 "metadata": {
  "kernelspec": {
   "display_name": "Python 2",
   "language": "python",
   "name": "python2"
  },
  "language_info": {
   "codemirror_mode": {
    "name": "ipython",
    "version": 2
   },
   "file_extension": ".py",
   "mimetype": "text/x-python",
   "name": "python",
   "nbconvert_exporter": "python",
   "pygments_lexer": "ipython2",
   "version": "2.7.12"
  }
 },
 "nbformat": 4,
 "nbformat_minor": 0
}
