{
 "cells": [
  {
   "cell_type": "code",
   "execution_count": 1,
   "metadata": {
    "collapsed": false
   },
   "outputs": [],
   "source": [
    "%matplotlib inline\n",
    "import numpy as np\n",
    "import matplotlib.pyplot as plt\n",
    "import matplotlib.cm as cm\n",
    "from mpl_toolkits.mplot3d import Axes3D\n",
    "import seaborn as sns\n",
    "sns.set_context('notebook')"
   ]
  },
  {
   "cell_type": "code",
   "execution_count": 2,
   "metadata": {
    "collapsed": true
   },
   "outputs": [],
   "source": [
    "import sys\n",
    "sys.path.append('../')"
   ]
  },
  {
   "cell_type": "markdown",
   "metadata": {},
   "source": [
    "## define the model \n",
    "\n",
    "*(using model notation)*\n",
    "\n",
    "-----------\n",
    "\n",
    "$$ h_1 = W_1 x_0\\quad\\quad x_1 = \\operatorname{tanh}(h_1)\\quad\\quad x_2 = W_2x_1$$\n",
    "\n",
    "where\n",
    "$$x_0\\in\\mathbb{R}^{n_0}, h_1\\in\\mathbb{R}^{n_1}, x_1\\in\\mathbb{R}^{n_1}, x_2\\in\\mathbb{R}^{n_2}$$"
   ]
  },
  {
   "cell_type": "code",
   "execution_count": 3,
   "metadata": {
    "collapsed": true
   },
   "outputs": [],
   "source": [
    "# dimensions\n",
    "n0 = 1 # input dimension / number of input units\n",
    "n1 = 2 # hidden dimension / number of hidden layer units\n",
    "n2 = 1  # output dimension\n",
    "\n",
    "# weights\n",
    "#W1 = 1/np.sqrt(n1)*np.random.randn(n1, n0) # input to hidden. n1 x n0 iid Guassian\n",
    "#W2 = 1/np.sqrt(n1)*np.random.randn(n2, n1) # hidden to output. n2 x n1 iid Gaussian\n",
    "\n",
    "W1 = np.array([[2], [4]])\n",
    "W2 = np.array([[1 , 0]])\n",
    "\n",
    "# inputs\n",
    "num_examples = 9\n",
    "x0 = np.linspace(-1, 1, num_examples)[np.newaxis, :]\n",
    "\n",
    "#x0 = np.random.randn(n0, num_examples) # n0 x num_examples matrix\n",
    "\n",
    "#x0 = np.meshgrid(np.linspace(-1, 1, num_examples), np.linspace(-1, 1, num_examples))\n",
    "#x0 = np.stack((x0[0].flatten(), x0[1].flatten()), axis=0)\n",
    "#num_examples = num_examples**2"
   ]
  },
  {
   "cell_type": "code",
   "execution_count": 4,
   "metadata": {
    "collapsed": false
   },
   "outputs": [],
   "source": [
    "import targprop.operations as ops"
   ]
  },
  {
   "cell_type": "code",
   "execution_count": 5,
   "metadata": {
    "collapsed": false
   },
   "outputs": [],
   "source": [
    "# forward pass on the model\n",
    "h1 = np.dot( W1, x0 )\n",
    "x1 = np.tanh( h1 )\n",
    "x2 = np.dot( W2, x1 )"
   ]
  },
  {
   "cell_type": "markdown",
   "metadata": {},
   "source": [
    "## define inverse functions\n",
    "\n",
    "*(using generic notation)*\n",
    "\n",
    "------------\n",
    "\n",
    "`x = linear_inv(y, x_0, A)` implements\n",
    "\n",
    "$$x = x_0 - A^\\dagger A x_0 + A^\\dagger y$$"
   ]
  },
  {
   "cell_type": "code",
   "execution_count": 6,
   "metadata": {
    "collapsed": true
   },
   "outputs": [],
   "source": [
    "def linear_inv(y, x_0, A):\n",
    "  Apinv = np.linalg.pinv(A)\n",
    "  return x_0 - np.dot(Apinv, np.dot(A, x_0)) + np.dot(Apinv, y)"
   ]
  },
  {
   "cell_type": "markdown",
   "metadata": {},
   "source": [
    "---------------\n",
    "`x = linear_rinv(y, x_0, A, gamma)` implements\n",
    "\n",
    "$$ x = (A^\\top A + \\gamma I)^{-1}(A^\\top y + \\gamma x_0) $$"
   ]
  },
  {
   "cell_type": "code",
   "execution_count": 7,
   "metadata": {
    "collapsed": true
   },
   "outputs": [],
   "source": [
    "def linear_rinv(y, x_0, A, gamma=1e-2):\n",
    "  return np.dot( np.linalg.inv(np.dot(A.T, A) + gamma*np.eye(x_0.shape[0])), np.dot(A.T, y) + gamma*x_0 )"
   ]
  },
  {
   "cell_type": "markdown",
   "metadata": {},
   "source": [
    "--------------\n",
    "`x = tanh_inv(y, x_0, th)` implements (note, `x_0` is not used)\n",
    "\n",
    "$$ x = tanh^{-1}(y) = \\frac 1 2 \\log (\\frac{1+y}{1-y})$$\n",
    "\n",
    "for $y\\in[-1+\\epsilon, 1-\\epsilon]$. Here, `th`=$\\epsilon$. \n",
    "\n",
    "For $y<-1+\\epsilon$, the function returns $x = tanh^{-1}(-1+\\epsilon)$\n",
    "\n",
    "For $y>1-\\epsilon$, the function returns $x = tanh^{-1}(1-\\epsilon)$"
   ]
  },
  {
   "cell_type": "code",
   "execution_count": 21,
   "metadata": {
    "collapsed": true
   },
   "outputs": [],
   "source": [
    "def tanh_inv(y, x_0=None, th=1e-2):\n",
    "  y = np.piecewise(y, [y <= (-1+th), y > (-1+th), y >= (1-th)], [-1+th, lambda y_: y_, 1-th])\n",
    "  return 0.5*np.log((1. + y)/(1. - y))"
   ]
  },
  {
   "cell_type": "markdown",
   "metadata": {},
   "source": [
    "---------------\n",
    "`x = tanh_rinv(y, x_0, gamma)` implements the solution to\n",
    "\n",
    "$$\n",
    "\\begin{align}\n",
    "  x & = \\underset{\\tilde{x}}{argmin} \\| tanh(\\tilde{x}) - y \\|_2^2 + \\gamma \\| \\tilde{x} - x_0 \\|_2^2\n",
    "\\end{align}\n",
    "$$\n",
    "\n",
    "using scipy's `fmin` function. "
   ]
  },
  {
   "cell_type": "code",
   "execution_count": 9,
   "metadata": {
    "collapsed": true
   },
   "outputs": [],
   "source": [
    "def tanh_rinv(y, x_0, gamma=1e-2):\n",
    "  from scipy.optimize import fmin\n",
    "  def cost(x_tilde, y, x_0):\n",
    "    return np.sum((np.tanh(x_tilde) - y)**2 + gamma*(x_tilde - x_0)**2, axis=0)\n",
    "  x = tanh_inv(y, x_0, th=1e-10)\n",
    "  for i in range(y.shape[1]):\n",
    "    x[:, i] = fmin(cost, x[:, i], args=(y[:, i], x_0[:, 1]), xtol=1e-5, ftol=1e-5, maxiter=50, disp=0)\n",
    "  return x"
   ]
  },
  {
   "cell_type": "markdown",
   "metadata": {},
   "source": [
    "## train model\n",
    "------------"
   ]
  },
  {
   "cell_type": "code",
   "execution_count": 10,
   "metadata": {
    "collapsed": true
   },
   "outputs": [],
   "source": [
    "#W1_est = 1/np.sqrt(n1)*np.random.randn(n1, n0) # initialization of W1\n",
    "W1_est = np.array([[-3], [1]])"
   ]
  },
  {
   "cell_type": "code",
   "execution_count": 11,
   "metadata": {
    "collapsed": false
   },
   "outputs": [
    {
     "name": "stdout",
     "output_type": "stream",
     "text": [
      "loss_old 1.26293027417\n"
     ]
    }
   ],
   "source": [
    "# forward pass\n",
    "h1_est = np.dot( W1_est, x0 )\n",
    "x1_est = np.tanh( h1_est )\n",
    "x2_est = np.dot( W2, x1_est )\n",
    "loss_old = 0.5*np.mean((x2_est - x2)**2)\n",
    "print \"loss_old\", loss_old"
   ]
  },
  {
   "cell_type": "code",
   "execution_count": 12,
   "metadata": {
    "collapsed": false
   },
   "outputs": [
    {
     "data": {
      "image/png": "[encoded data removed]",
      "text/plain": [
       "<matplotlib.figure.Figure at 0x117e612d0>"
      ]
     },
     "metadata": {},
     "output_type": "display_data"
    },
    {
     "name": "stdout",
     "output_type": "stream",
     "text": [
      "data=blue, estimates=green\n"
     ]
    }
   ],
   "source": [
    "f = plt.plot(x2.T,'o')[0]\n",
    "plt.plot(x2_est.T,'o')\n",
    "plt.xlim([-1, num_examples+1])\n",
    "f.axes.xaxis.set_ticks(np.arange(0, num_examples+1))\n",
    "plt.xlabel('examples')\n",
    "plt.ylabel('x2')\n",
    "plt.show()\n",
    "print \"data=blue, estimates=green\""
   ]
  },
  {
   "cell_type": "code",
   "execution_count": 13,
   "metadata": {
    "collapsed": false
   },
   "outputs": [],
   "source": [
    "# backward pass.\n",
    "x1_target = linear_inv( x2, x1_est, W2 )\n",
    "h1_target = tanh_inv( x1_target, h1_est, 1e-12 )\n",
    "W1_est = linear_rinv( h1_target.T, W1_est.T, x0.T, 0.1 ).T # note, we have to transpose all the inputs, then transpose the output of linear_inv()"
   ]
  },
  {
   "cell_type": "code",
   "execution_count": 14,
   "metadata": {
    "collapsed": false
   },
   "outputs": [],
   "source": [
    "# new forward pass\n",
    "h1_est_new = np.dot( W1_est, x0 )\n",
    "x1_est_new = np.tanh( h1_est_new )\n",
    "x2_est_new = np.dot( W2, x1_est_new )\n",
    "loss_new = 0.5*np.mean((x2_est_new - x2)**2)"
   ]
  },
  {
   "cell_type": "code",
   "execution_count": 15,
   "metadata": {
    "collapsed": false
   },
   "outputs": [
    {
     "data": {
      "image/png": "[encoded data removed]",
      "text/plain": [
       "<matplotlib.figure.Figure at 0x117e4ac50>"
      ]
     },
     "metadata": {},
     "output_type": "display_data"
    },
    {
     "name": "stdout",
     "output_type": "stream",
     "text": [
      "data=blue, estimates=green\n"
     ]
    }
   ],
   "source": [
    "f = plt.plot(x2.T,'o')[0]\n",
    "plt.plot(x2_est_new.T,'o')\n",
    "plt.xlim([-1, num_examples+1])\n",
    "f.axes.xaxis.set_ticks(np.arange(0, num_examples+1))\n",
    "plt.xlabel('examples')\n",
    "plt.ylabel('x2')\n",
    "plt.show()\n",
    "print \"data=blue, estimates=green\""
   ]
  },
  {
   "cell_type": "code",
   "execution_count": 16,
   "metadata": {
    "collapsed": false
   },
   "outputs": [
    {
     "name": "stdout",
     "output_type": "stream",
     "text": [
      "loss_old 1.26293027417\n",
      "loss_new 0.000218983958335\n"
     ]
    }
   ],
   "source": [
    "print \"loss_old\", loss_old\n",
    "print \"loss_new\", loss_new"
   ]
  },
  {
   "cell_type": "markdown",
   "metadata": {},
   "source": [
    "### visualize learning"
   ]
  },
  {
   "cell_type": "code",
   "execution_count": 17,
   "metadata": {
    "collapsed": false
   },
   "outputs": [],
   "source": [
    "cmap = sns.color_palette(\"RdBu\", num_examples)\n",
    "sort_inds = np.argsort(x2[0])"
   ]
  },
  {
   "cell_type": "code",
   "execution_count": 18,
   "metadata": {
    "collapsed": false
   },
   "outputs": [],
   "source": [
    "cmap_sorted = [cmap[i] for i in np.argsort(sort_inds)]"
   ]
  },
  {
   "cell_type": "code",
   "execution_count": 19,
   "metadata": {
    "collapsed": true
   },
   "outputs": [],
   "source": [
    "def axify(ax, lims=None):\n",
    "  ax.axis('square')\n",
    "  if not lims:\n",
    "    lims = ax.get_xlim() + ax.get_ylim()\n",
    "    lims = min(lims), max(lims)\n",
    "  ax.set_xlim(lims)\n",
    "  ax.set_ylim(lims)\n",
    "\n",
    "  ax.xaxis.set_ticks(np.arange(np.floor(lims[0]), np.ceil(lims[1]), 1))\n",
    "  ax.yaxis.set_ticks(np.arange(np.floor(lims[0]), np.ceil(lims[1]), 1))\n",
    "  \n",
    "  ax.hlines([0], *ax.get_xlim(), linewidth=0.75, alpha=0.5)\n",
    "  ax.vlines([0], *ax.get_ylim(), linewidth=0.75, alpha=0.5)\n"
   ]
  },
  {
   "cell_type": "code",
   "execution_count": 20,
   "metadata": {
    "collapsed": false
   },
   "outputs": [
    {
     "data": {
      "image/png": "[encoded data removed]",
      "text/plain": [
       "<matplotlib.figure.Figure at 0x1181af350>"
      ]
     },
     "metadata": {},
     "output_type": "display_data"
    }
   ],
   "source": [
    "rows = 3\n",
    "cols = 4\n",
    "mult = 5\n",
    "\n",
    "fig = plt.figure(figsize=(mult*cols, mult*rows))\n",
    "\n",
    "args = {}\n",
    "args['c'] = cmap_sorted\n",
    "args['s'] = 70\n",
    "args['linewidth'] = 1\n",
    "\n",
    "args2 = {}\n",
    "args2['c'] = cmap_sorted\n",
    "args2['s'] = 30\n",
    "args2['linewidth'] = 2\n",
    "\n",
    "args3 = {}\n",
    "args3['c'] = cmap_sorted\n",
    "args3['s'] = 30\n",
    "args3['linewidth'] = 1\n",
    "args3['marker'] = 'v'\n",
    "\n",
    "\n",
    "ax = []\n",
    "\n",
    "i = 0\n",
    "ax.append(fig.add_subplot(rows, cols, i+1))\n",
    "ax[i].scatter(np.zeros_like(x0), x0[0,:], **args)\n",
    "axify(ax[i], (-1.35, 1.5))\n",
    "\n",
    "i=1\n",
    "ax.append(fig.add_subplot(rows, cols, i+1))\n",
    "ax[i].scatter(h1[0,:], h1[1,:], **args)\n",
    "axify(ax[i])\n",
    "\n",
    "i=2\n",
    "ax.append(fig.add_subplot(rows, cols, i+1))\n",
    "ax[i].scatter(x1[0,:], x1[1,:], **args)\n",
    "axify(ax[i])\n",
    "          \n",
    "i=3\n",
    "ax.append(fig.add_subplot(rows, cols, i+1))\n",
    "ax[i].scatter(x2[0,:], np.zeros_like(x2),  **args)\n",
    "axify(ax[i])\n",
    "\n",
    "###\n",
    "i=4\n",
    "ax.append(fig.add_subplot(rows, cols, i+1))\n",
    "ax[i].scatter(np.zeros_like(x0), x0[0,:], **args)\n",
    "axify(ax[i])\n",
    "\n",
    "i=5\n",
    "ax.append(fig.add_subplot(rows, cols, i+1))\n",
    "ax[i].scatter(h1_est[0,:], h1_est[1,:], **args)\n",
    "ax[i].scatter(h1_target[0,:], h1_target[1,:], **args3)\n",
    "axify(ax[i])\n",
    "\n",
    "i=6\n",
    "ax.append(fig.add_subplot(rows, cols, i+1))\n",
    "ax[i].scatter(x1_est[0,:], x1_est[1,:], **args)\n",
    "ax[i].scatter(x1_target[0,:], x1_target[1,:], **args3)\n",
    "axify(ax[i])\n",
    "\n",
    "i=7\n",
    "ax.append(fig.add_subplot(rows, cols, i+1))\n",
    "ax[i].scatter(x2_est[0,:], np.zeros_like(x2_est),**args)\n",
    "axify(ax[i])\n",
    "\n",
    "###\n",
    "i = 8\n",
    "ax.append(fig.add_subplot(rows, cols, i+1))\n",
    "ax[i].scatter(np.zeros_like(x0), x0[0,:], **args)\n",
    "axify(ax[i])\n",
    "\n",
    "i=9\n",
    "ax.append(fig.add_subplot(rows, cols, i+1))\n",
    "ax[i].scatter(h1_est_new[0,:], h1_est_new[1,:], **args)\n",
    "axify(ax[i])\n",
    "\n",
    "i=10\n",
    "ax.append(fig.add_subplot(rows, cols, i+1))\n",
    "ax[i].scatter(x1_est_new[0,:], x1_est_new[1,:], **args)\n",
    "axify(ax[i])\n",
    "          \n",
    "i=11\n",
    "ax.append(fig.add_subplot(rows, cols, i+1))\n",
    "ax[i].scatter(x2_est_new[0,:], np.zeros_like(x2_est_new),  **args)\n",
    "axify(ax[i])\n",
    "\n"
   ]
  },
  {
   "cell_type": "markdown",
   "metadata": {},
   "source": [
    "Toy example.\n",
    "\n",
    "Input dimension: 1. One-dimensional inputs shown in column 1 plotted vertically.\n",
    "\n",
    "Hidden dimension: 2. $h_1$ and $x_1$ plotted in column 2 and 3.\n",
    "\n",
    "Output dimension: 1. One-dimensional outputs shown in column 4 plotted horizontally.\n",
    "\n",
    "First row. Model that generates $x_2$ outputs, where $W_1=[2\\;\\; 4]^\\top$ and $W_2=[1\\;\\; 0]$:\n",
    "\n",
    "$$x_0 \\quad\\rightarrow\\quad h_1 = W_1x_0 \\quad\\rightarrow\\quad x_1=tanh(h_1) \\quad\\rightarrow\\quad x_2=W_2x_1$$\n",
    "\n",
    "Second row (circles). Everything is known except $W_1$. We start with an initial random estimate of $W_1$, which we specify as, say, $\\tilde{W}_1 = [-3\\;\\; 1]$\n",
    "\n",
    "$$x_0 \\quad\\rightarrow\\quad \\tilde{h}_1 = \\tilde{W}_1x_0 \\quad\\rightarrow\\quad \\tilde{x}_1=tanh(\\tilde{h}_1) \\quad\\rightarrow\\quad \\tilde{x}_2=W_2\\tilde{x}_1$$\n",
    "\n",
    "Note that the final output $\\tilde{x}_2\\neq x_2$. In particular, the color of the dots are in the wrong orientation.\n",
    "\n",
    "Second row (triangles). We then invert the true output $x_2$ backward to create targets. E.g. if we look at row 2, column 3. The red target is in the preimage of the red $x_2$ (row 1, column 4) through the $W_2=[1\\;\\;0]$ linear function. We choose the red target $\\hat{x}_2$ that is in the preimage, and is closest to the current $\\tilde{x}_2$. We then invert the targets through $\\operatorname{tanh}^{-1}$ again to get the triangles in row 2 column 2. We use these targets to get a new $W_1$. \n",
    "\n",
    "Third row (circles). Using the newly trained $W_1$, we propagate forward and find that the new $x_2$ matches the real $x_2$.\n",
    "\n",
    "-----------\n",
    "\n",
    "Note: This example is a bit trivial. What is a good minimally nontrivial toy example? One triviality of the above example: The target propagation scheme of choosing an element in the preimage closest to the current activation *does not* help in training. We could have assigned $x_1$ targets (row 2, col 3) by $\\hat{x}_1 = W_2^\\dagger x_2$ instead of offsetting each point. What is a good example where our target assignment approach is necessary for training?"
   ]
  },
  {
   "cell_type": "code",
   "execution_count": null,
   "metadata": {
    "collapsed": true
   },
   "outputs": [],
   "source": []
  },
  {
   "cell_type": "code",
   "execution_count": null,
   "metadata": {
    "collapsed": true
   },
   "outputs": [],
   "source": []
  },
  {
   "cell_type": "code",
   "execution_count": null,
   "metadata": {
    "collapsed": true
   },
   "outputs": [],
   "source": []
  },
  {
   "cell_type": "code",
   "execution_count": null,
   "metadata": {
    "collapsed": true
   },
   "outputs": [],
   "source": []
  },
  {
   "cell_type": "code",
   "execution_count": null,
   "metadata": {
    "collapsed": false
   },
   "outputs": [],
   "source": [
    "# ## 3d version\n",
    "# rows = 3\n",
    "# cols = 4\n",
    "# mult = 5\n",
    "\n",
    "# fig = plt.figure(figsize=(mult*cols, mult*rows))\n",
    "\n",
    "# args = {}\n",
    "# args['c'] = cmap_sorted\n",
    "# args['s'] = 70\n",
    "# args['linewidth'] = 1\n",
    "\n",
    "# args2 = {}\n",
    "# args2['c'] = cmap_sorted\n",
    "# args2['s'] = 30\n",
    "# args2['linewidth'] = 2\n",
    "\n",
    "# args3 = {}\n",
    "# args3['c'] = cmap_sorted\n",
    "# args3['s'] = 30\n",
    "# args3['linewidth'] = 1\n",
    "# args3['marker'] = 'v'\n",
    "\n",
    "\n",
    "# ax = []\n",
    "\n",
    "# i = 0\n",
    "# ax.append(fig.add_subplot(rows, cols, i+1))\n",
    "# ax[i].scatter(x0[0,:], x0[1,:], **args)\n",
    "# axify(ax[i])\n",
    "\n",
    "# i=1\n",
    "# ax.append(fig.add_subplot(rows, cols, i+1, projection='3d'))\n",
    "# ax[i].scatter(h1[0,:], h1[1,:], h1[2,:], **args)\n",
    "# #axify(ax[i])\n",
    "\n",
    "# i=2\n",
    "# ax.append(fig.add_subplot(rows, cols, i+1, projection='3d'))\n",
    "# ax[i].scatter(x1[0,:], x1[1,:], x1[2,:], **args)\n",
    "# #axify(ax[i])\n",
    "          \n",
    "# i=3\n",
    "# ax.append(fig.add_subplot(rows, cols, i+1))\n",
    "# ax[i].scatter(x2[0,:], np.zeros_like(x2),  **args)\n",
    "# axify(ax[i])\n",
    "\n",
    "# ###\n",
    "# i=4\n",
    "# ax.append(fig.add_subplot(rows, cols, i+1))\n",
    "# ax[i].scatter(x0[0,:], x0[1,:], **args)\n",
    "# axify(ax[i])\n",
    "\n",
    "# i=5\n",
    "# ax.append(fig.add_subplot(rows, cols, i+1, projection='3d'))\n",
    "# ax[i].scatter(h1_est[0,:], h1_est[1,:], h1_est[2,:], **args)\n",
    "# ax[i].scatter(h1_target[0,:], h1_target[1,:],  h1_target[2,:], **args3)\n",
    "# #axify(ax[i])\n",
    "\n",
    "# i=6\n",
    "# ax.append(fig.add_subplot(rows, cols, i+1, projection='3d'))\n",
    "# ax[i].scatter(x1_est[0,:], x1_est[1,:],  x1_est[2,:], **args)\n",
    "# ax[i].scatter(x1_target[0,:], x1_target[1,:],x1_target[2,:], **args3)\n",
    "# #axify(ax[i])\n",
    "\n",
    "# i=7\n",
    "# ax.append(fig.add_subplot(rows, cols, i+1))\n",
    "# ax[i].scatter(x2_est[0,:], np.zeros_like(x2_est),**args)\n",
    "# axify(ax[i])\n",
    "\n",
    "# ###\n",
    "# i = 8\n",
    "# ax.append(fig.add_subplot(rows, cols, i+1))\n",
    "# ax[i].scatter(x0[0,:], x0[1,:], **args)\n",
    "# axify(ax[i])\n",
    "\n",
    "# i=9\n",
    "# ax.append(fig.add_subplot(rows, cols, i+1, projection='3d'))\n",
    "# ax[i].scatter(h1_est_new[0,:], h1_est_new[1,:], h1_est_new[2,:], **args)\n",
    "# #axify(ax[i])\n",
    "\n",
    "# i=10\n",
    "# ax.append(fig.add_subplot(rows, cols, i+1, projection='3d'))\n",
    "# ax[i].scatter(x1_est_new[0,:], x1_est_new[1,:], x1_est_new[2,:], **args)\n",
    "# #axify(ax[i])\n",
    "          \n",
    "# i=11\n",
    "# ax.append(fig.add_subplot(rows, cols, i+1))\n",
    "# ax[i].scatter(x2_est_new[0,:], np.zeros_like(x2_est_new),  **args)\n",
    "# axify(ax[i])\n"
   ]
  },
  {
   "cell_type": "code",
   "execution_count": null,
   "metadata": {
    "collapsed": true
   },
   "outputs": [],
   "source": [
    "# def plot3d_lines(ax):\n",
    "#   args = {'linewidth':0.5, 'alpha':0.5}\n",
    "#   xlim = ax.get_xlim()\n",
    "#   ylim = ax.get_ylim()\n",
    "#   zlim = ax.get_zlim()\n",
    "#   for i in range(3):\n",
    "#     ax.plot([0,0], [0,0], [-zlim, zlim], 'k', **args)\n",
    "#     ax.plot([0,0], [-ylim, ylim], [0,0], 'k', **args)\n",
    "#     ax.plot([-xlim, xlim], [0,0], [0,0], 'k', **args)\n"
   ]
  }
 ],
 "metadata": {
  "kernelspec": {
   "display_name": "Python 2",
   "language": "python",
   "name": "python2"
  },
  "language_info": {
   "codemirror_mode": {
    "name": "ipython",
    "version": 2
   },
   "file_extension": ".py",
   "mimetype": "text/x-python",
   "name": "python",
   "nbconvert_exporter": "python",
   "pygments_lexer": "ipython2",
   "version": "2.7.12"
  }
 },
 "nbformat": 4,
 "nbformat_minor": 0
}
