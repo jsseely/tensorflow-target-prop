{
 "cells": [
  {
   "cell_type": "code",
   "execution_count": 1,
   "metadata": {
    "collapsed": false
   },
   "outputs": [],
   "source": [
    "%matplotlib inline\n",
    "import numpy as np\n",
    "import matplotlib.pyplot as plt\n",
    "import matplotlib.cm as cm\n",
    "from mpl_toolkits.mplot3d import Axes3D\n",
    "import seaborn as sns\n",
    "sns.set_context('notebook')"
   ]
  },
  {
   "cell_type": "markdown",
   "metadata": {},
   "source": [
    "### define model \n",
    "\n",
    "*using model notation*\n",
    "\n",
    "-----------\n",
    "\n",
    "$$ h_1 = W_1 x_0 \\\\\n",
    "x_1 = \\operatorname{tanh}(h_1) \\\\ \n",
    "x_2 = W_2x_2$$\n",
    "\n",
    "where\n",
    "$$x_0\\in\\mathbb{R}^{n_0} \\\\\n",
    "h_1\\in\\mathbb{R}^{n_1} \\\\\n",
    "x_1\\in\\mathbb{R}^{n_1} \\\\\n",
    "x_2\\in\\mathbb{R}^{n_2}$$"
   ]
  },
  {
   "cell_type": "code",
   "execution_count": 2,
   "metadata": {
    "collapsed": true
   },
   "outputs": [],
   "source": [
    "# model parameters\n",
    "n0 = 5 # input dimension / number of input units\n",
    "n1 = 10 # hidden dimension / number of hidden layer units\n",
    "n2 = 1  # output dimension\n",
    "W1 = 1/np.sqrt(n1)*np.random.randn(n1, n0) # input to hidden. n1 x n0 iid Guassian\n",
    "W2 = 1/np.sqrt(n1)*np.random.randn(n2, n1) # hidden to output. n2 x n1 iid Gaussian\n",
    "\n",
    "# inputs\n",
    "num_examples = 20\n",
    "x0 = np.random.randn(n0, num_examples) # n0 x num_examples matrix"
   ]
  },
  {
   "cell_type": "code",
   "execution_count": 3,
   "metadata": {
    "collapsed": false
   },
   "outputs": [],
   "source": [
    "# forward pass on the model\n",
    "h1 = np.dot( W1, x0 )\n",
    "x1 = np.tanh( h1 )\n",
    "x2 = np.dot( W2, x1 )"
   ]
  },
  {
   "cell_type": "markdown",
   "metadata": {},
   "source": [
    "### define inverse functions\n",
    "\n",
    "*using generic notation*\n",
    "\n",
    "------------\n",
    "\n",
    "`x = linear_inv(y, x_0, A)` implements\n",
    "\n",
    "$$x = x_0 - A^\\dagger A x_0 + A^\\dagger y$$"
   ]
  },
  {
   "cell_type": "code",
   "execution_count": 4,
   "metadata": {
    "collapsed": true
   },
   "outputs": [],
   "source": [
    "def linear_inv(y, x_0, A):\n",
    "  Apinv = np.linalg.pinv(A)\n",
    "  return x_0 - np.dot(Apinv, np.dot(A, x_0)) + np.dot(Apinv, y)"
   ]
  },
  {
   "cell_type": "markdown",
   "metadata": {},
   "source": [
    "---------------\n",
    "`x = linear_rinv(y, x_0, A, gamma)` implements\n",
    "\n",
    "$$ x = (A^\\top A + \\gamma I)^{-1}(A^\\top y + \\gamma x_0) $$"
   ]
  },
  {
   "cell_type": "code",
   "execution_count": 5,
   "metadata": {
    "collapsed": true
   },
   "outputs": [],
   "source": [
    "def linear_rinv(y, x_0, A, gamma=1e-2):\n",
    "  return np.dot( np.linalg.inv(np.dot(A.T, A) + gamma*np.eye(x_0.shape[0])), np.dot(A.T, y) + gamma*x_0 )"
   ]
  },
  {
   "cell_type": "markdown",
   "metadata": {},
   "source": [
    "--------------\n",
    "`x = tanh_inv(y, x_0, th)` implements (note, `x_0` is note used)\n",
    "\n",
    "$$ x = \\operatorname{tanh}^{-1}(y) = \\frac 1 2 \\log (\\frac{1+y}{1-y})$$\n",
    "for $y\\in[-1+\\epsilon, 1-\\epsilon]$. Here, `th`=$\\epsilon$. \n",
    "\n",
    "For $y<-1+\\epsilon$, the function returns $x = \\operatorname{tanh}^{-1}(-1+\\epsilon)$\n",
    "\n",
    "For $y>1-\\epsilon$, the function returns $x = \\operatorname{tanh}^{-1}(1-\\epsilon)$"
   ]
  },
  {
   "cell_type": "code",
   "execution_count": 6,
   "metadata": {
    "collapsed": true
   },
   "outputs": [],
   "source": [
    "def tanh_inv(y, x_0=None, th=1e-2):\n",
    "  y = np.piecewise(y, [y <= (-1+th), y > (-1+th), y >= (1-th)], [-1+th, lambda y_: y_, 1-th])\n",
    "  return 0.5*np.log((1. + y)/(1. - y))"
   ]
  },
  {
   "cell_type": "markdown",
   "metadata": {},
   "source": [
    "---------------\n",
    "`x = tanh_rinv(y, x_0, gamma)` implements the solution to\n",
    "\n",
    "\\begin{align}\n",
    "  x & = \\underset{\\tilde{x}}{\\operatorname{argmin}} \\| \\operatorname{tanh}(\\tilde{x}) - y \\|_2^2 + \\gamma \\| \\tilde{x} - x_0 \\|_2^2\n",
    "\\end{align}\n",
    "\n",
    "using a scipy's `fmin` function. "
   ]
  },
  {
   "cell_type": "code",
   "execution_count": 7,
   "metadata": {
    "collapsed": true
   },
   "outputs": [],
   "source": [
    "def tanh_rinv(y, x_0, gamma=1e-2):\n",
    "  from scipy.optimize import fmin\n",
    "  def cost(x_tilde, y, x_0):\n",
    "    return np.sum((np.tanh(x_tilde) - y)**2 + gamma*(x_tilde - x_0)**2, axis=0)\n",
    "  x = tanh_inv(y, x_0, th=1e-2)\n",
    "  for i in range(y.shape[1]):\n",
    "    x[:, i] = fmin(cost, x[:, i], args=(y[:, i], x_0[:, 1]), xtol=1e-5, ftol=1e-5, maxiter=50, disp=0)\n",
    "  return x"
   ]
  },
  {
   "cell_type": "markdown",
   "metadata": {},
   "source": [
    "### train model\n",
    "------------"
   ]
  },
  {
   "cell_type": "code",
   "execution_count": 8,
   "metadata": {
    "collapsed": true
   },
   "outputs": [],
   "source": [
    "W1_est = 1/np.sqrt(n1)*np.random.randn(n1, n0) # initialization of W1"
   ]
  },
  {
   "cell_type": "code",
   "execution_count": 9,
   "metadata": {
    "collapsed": false
   },
   "outputs": [
    {
     "name": "stdout",
     "output_type": "stream",
     "text": [
      "loss_old 0.300266583913\n"
     ]
    }
   ],
   "source": [
    "# forward pass\n",
    "h1_est = np.dot( W1_est, x0 )\n",
    "x1_est = np.tanh( h1_est )\n",
    "x2_est = np.dot( W2, x1_est )\n",
    "loss_old = 0.5*np.mean((x2_est - x2)**2)\n",
    "print \"loss_old\", loss_old"
   ]
  },
  {
   "cell_type": "code",
   "execution_count": 10,
   "metadata": {
    "collapsed": false
   },
   "outputs": [
    {
     "data": {
      "image/png": "[encoded data removed]",
      "text/plain": [
       "<matplotlib.figure.Figure at 0x1104a0e90>"
      ]
     },
     "metadata": {},
     "output_type": "display_data"
    },
    {
     "name": "stdout",
     "output_type": "stream",
     "text": [
      "data=blue, estimates=green\n"
     ]
    }
   ],
   "source": [
    "f = plt.plot(x2.T,'o')[0]\n",
    "plt.plot(x2_est.T,'o')\n",
    "plt.xlim([-1, num_examples+1])\n",
    "f.axes.xaxis.set_ticks(np.arange(0, num_examples+1))\n",
    "plt.xlabel('examples')\n",
    "plt.ylabel('x2')\n",
    "plt.show()\n",
    "print \"data=blue, estimates=green\""
   ]
  },
  {
   "cell_type": "code",
   "execution_count": 11,
   "metadata": {
    "collapsed": false
   },
   "outputs": [],
   "source": [
    "# backward pass.\n",
    "x1_target = linear_inv( x2, x1_est, W2 )\n",
    "h1_target = tanh_inv( x1_target, h1_est, 1e-3 )\n",
    "W1_est = linear_inv( h1_target.T, W1_est.T, x0.T ).T # note, we have to transpose all the inputs, then transpose the output of linear_inv()"
   ]
  },
  {
   "cell_type": "code",
   "execution_count": 12,
   "metadata": {
    "collapsed": false
   },
   "outputs": [],
   "source": [
    "# forward pass\n",
    "h1_est = np.dot( W1_est, x0 )\n",
    "x1_est = np.tanh( h1_est )\n",
    "x2_est = np.dot( W2, x1_est )\n",
    "loss_new = 0.5*np.mean((x2_est - x2)**2)"
   ]
  },
  {
   "cell_type": "code",
   "execution_count": 13,
   "metadata": {
    "collapsed": false
   },
   "outputs": [
    {
     "data": {
      "image/png": "[encoded data removed]",
      "text/plain": [
       "<matplotlib.figure.Figure at 0x1104b9c90>"
      ]
     },
     "metadata": {},
     "output_type": "display_data"
    },
    {
     "name": "stdout",
     "output_type": "stream",
     "text": [
      "data=blue, estimates=green\n"
     ]
    }
   ],
   "source": [
    "f = plt.plot(x2.T,'o')[0]\n",
    "plt.plot(x2_est.T,'o')\n",
    "plt.xlim([-1, num_examples+1])\n",
    "f.axes.xaxis.set_ticks(np.arange(0, num_examples+1))\n",
    "plt.xlabel('examples')\n",
    "plt.ylabel('x2')\n",
    "plt.show()\n",
    "print \"data=blue, estimates=green\""
   ]
  },
  {
   "cell_type": "code",
   "execution_count": 14,
   "metadata": {
    "collapsed": false
   },
   "outputs": [
    {
     "name": "stdout",
     "output_type": "stream",
     "text": [
      "loss_old 0.300266583913\n",
      "loss_new 0.00412842521769\n"
     ]
    }
   ],
   "source": [
    "print \"loss_old\", loss_old\n",
    "print \"loss_new\", loss_new"
   ]
  },
  {
   "cell_type": "code",
   "execution_count": null,
   "metadata": {
    "collapsed": true
   },
   "outputs": [],
   "source": []
  },
  {
   "cell_type": "code",
   "execution_count": null,
   "metadata": {
    "collapsed": true
   },
   "outputs": [],
   "source": []
  },
  {
   "cell_type": "code",
   "execution_count": null,
   "metadata": {
    "collapsed": true
   },
   "outputs": [],
   "source": []
  },
  {
   "cell_type": "code",
   "execution_count": null,
   "metadata": {
    "collapsed": true
   },
   "outputs": [],
   "source": []
  },
  {
   "cell_type": "code",
   "execution_count": null,
   "metadata": {
    "collapsed": true
   },
   "outputs": [],
   "source": []
  },
  {
   "cell_type": "code",
   "execution_count": 15,
   "metadata": {
    "collapsed": false
   },
   "outputs": [],
   "source": [
    "# # use for later...\n",
    "# fig = plt.figure(figsize=(20,5))\n",
    "\n",
    "# ax = []\n",
    "# ax.append(fig.add_subplot(1,4,1))\n",
    "# ax[0].scatter(x0[0,:], x0[1,:], c=range(num_examples)), ax[0].axis('square')\n",
    "\n",
    "# ax.append(fig.add_subplot(1,4,2, projection='3d'))\n",
    "# ax[1].scatter(h1[0,:], h1[1,:], h1[2,:], c=range(num_examples)), ax[1].axis('square')\n",
    "\n",
    "# ax.append(fig.add_subplot(1,4,3, projection='3d'))\n",
    "# ax[2].scatter(x1[0,:], x1[1,:], x1[2,:], c=range(num_examples)), ax[2].axis('square')\n",
    "\n",
    "# ax.append(fig.add_subplot(1,4,4))\n",
    "# ax[3].scatter(range(num_examples), x2.T, c=range(num_examples)), ax[2].axis('square')\n",
    "\n",
    "# plt.show()"
   ]
  }
 ],
 "metadata": {
  "kernelspec": {
   "display_name": "Python 2",
   "language": "python",
   "name": "python2"
  },
  "language_info": {
   "codemirror_mode": {
    "name": "ipython",
    "version": 2
   },
   "file_extension": ".py",
   "mimetype": "text/x-python",
   "name": "python",
   "nbconvert_exporter": "python",
   "pygments_lexer": "ipython2",
   "version": "2.7.12"
  }
 },
 "nbformat": 4,
 "nbformat_minor": 0
}
