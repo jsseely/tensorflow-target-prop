{
 "cells": [
  {
   "cell_type": "markdown",
   "metadata": {},
   "source": [
    "visualize as much as possible using toy data. for gaining intuition on target prop. modeled loosely after http://playground.tensorflow.org/\n",
    "\n",
    "Visualize...\n",
    "- preimages\n",
    "    - of level sets\n",
    "    - of decision boundaries\n",
    "    - etc\n",
    "- images/kernels and their interactions"
   ]
  },
  {
   "cell_type": "code",
   "execution_count": 1,
   "metadata": {
    "collapsed": false
   },
   "outputs": [],
   "source": [
    "%reset -f\n",
    "%matplotlib inline\n",
    "%load_ext autoreload\n",
    "%autoreload 2"
   ]
  },
  {
   "cell_type": "code",
   "execution_count": 2,
   "metadata": {
    "collapsed": true
   },
   "outputs": [],
   "source": [
    "import sys\n",
    "sys.path.append('../')"
   ]
  },
  {
   "cell_type": "code",
   "execution_count": 3,
   "metadata": {
    "collapsed": false
   },
   "outputs": [],
   "source": [
    "import numpy as np\n",
    "import tensorflow as tf\n",
    "import matplotlib.pyplot as plt\n",
    "#import seaborn as sns\n",
    "from toy_data import *\n",
    "from act_functions import *\n",
    "\n",
    "import matplotlib.cm as cm\n",
    "import matplotlib"
   ]
  },
  {
   "cell_type": "code",
   "execution_count": 5,
   "metadata": {
    "collapsed": false
   },
   "outputs": [
    {
     "name": "stdout",
     "output_type": "stream",
     "text": [
      "Extracting MNIST_data/train-images-idx3-ubyte.gz\n",
      "Extracting MNIST_data/train-labels-idx1-ubyte.gz\n",
      "Extracting MNIST_data/t10k-images-idx3-ubyte.gz\n",
      "Extracting MNIST_data/t10k-labels-idx1-ubyte.gz\n"
     ]
    }
   ],
   "source": [
    "mnist = mnist_data()"
   ]
  },
  {
   "cell_type": "code",
   "execution_count": 13,
   "metadata": {
    "collapsed": true
   },
   "outputs": [],
   "source": [
    "tf.reset_default_graph()"
   ]
  },
  {
   "cell_type": "code",
   "execution_count": 16,
   "metadata": {
    "collapsed": false
   },
   "outputs": [],
   "source": [
    "with tf.variable_scope('blahblah', reuse=True) as scope:\n",
    "  hi = tf.get_variable('hi', shape=[1])"
   ]
  },
  {
   "cell_type": "markdown",
   "metadata": {},
   "source": [
    "## toy datasets"
   ]
  },
  {
   "cell_type": "code",
   "execution_count": null,
   "metadata": {
    "collapsed": true
   },
   "outputs": [],
   "source": [
    "n = 1000"
   ]
  },
  {
   "cell_type": "code",
   "execution_count": null,
   "metadata": {
    "collapsed": false
   },
   "outputs": [],
   "source": [
    "Xspiral = spiral(n, r=1, s=2.5)"
   ]
  },
  {
   "cell_type": "code",
   "execution_count": null,
   "metadata": {
    "collapsed": false
   },
   "outputs": [],
   "source": [
    "Xcircs = combine_data((annulus(n/4, d=2, r1=0.1, r2=0.2),\n",
    "                       annulus(n/4, d=2, r1=0.3, r2=0.4),\n",
    "                       annulus(n/4, d=2, r1=0.5, r2=0.6),\n",
    "                       annulus(n/4, d=2, r1=0.7, r2=0.8)))\n",
    "Xcircs.outputs = np.zeros_like(Xcircs.inputs)\n",
    "Xcircs.outputs[:n/4,0] = 1\n",
    "Xcircs.outputs[n/4:2*n/4,1] = 1\n",
    "Xcircs.outputs[2*n/4:3*n/4,0] = 1\n",
    "Xcircs.outputs[3*n/4:4*n/4,1] = 1"
   ]
  },
  {
   "cell_type": "code",
   "execution_count": null,
   "metadata": {
    "collapsed": false
   },
   "outputs": [],
   "source": [
    "Xor = xor_full(n)"
   ]
  },
  {
   "cell_type": "code",
   "execution_count": null,
   "metadata": {
    "collapsed": false
   },
   "outputs": [],
   "source": [
    "X = Xor\n",
    "plt.scatter(X.inputs[:,0], X.inputs[:,1], c=un_hotify(X.outputs))\n",
    "plt.axis('square')\n",
    "plt.show()"
   ]
  },
  {
   "cell_type": "markdown",
   "metadata": {},
   "source": [
    "## functions and their inverses"
   ]
  },
  {
   "cell_type": "code",
   "execution_count": null,
   "metadata": {
    "collapsed": true
   },
   "outputs": [],
   "source": [
    "F = relu()"
   ]
  },
  {
   "cell_type": "code",
   "execution_count": null,
   "metadata": {
    "collapsed": false
   },
   "outputs": [],
   "source": [
    "x1 = X.inputs\n",
    "x2 = F.f(x1)\n",
    "x1_ = F.f_inv(x2, x1, th=0.1)\n",
    "x1__= F.f_rinv(x2, x1, gamma=1e2)\n",
    "\n",
    "l = un_hotify(X.outputs)"
   ]
  },
  {
   "cell_type": "code",
   "execution_count": null,
   "metadata": {
    "collapsed": false
   },
   "outputs": [],
   "source": [
    "plt.scatter(x1[:,0], x1[:,1], c=l)\n",
    "plt.axis('square')\n",
    "plt.show()"
   ]
  },
  {
   "cell_type": "code",
   "execution_count": null,
   "metadata": {
    "collapsed": false
   },
   "outputs": [],
   "source": [
    "plt.scatter(x2[:,0], x2[:,1], c=l)\n",
    "plt.axis('square')\n",
    "plt.show()"
   ]
  },
  {
   "cell_type": "code",
   "execution_count": null,
   "metadata": {
    "collapsed": false
   },
   "outputs": [],
   "source": [
    "plt.scatter(x1_[:,0], x1_[:,1], c=l)\n",
    "plt.axis('square')\n",
    "plt.show()"
   ]
  },
  {
   "cell_type": "code",
   "execution_count": null,
   "metadata": {
    "collapsed": false
   },
   "outputs": [],
   "source": [
    "plt.scatter(x1__[:,0], x1__[:,1], c=l)\n",
    "plt.axis('square')\n",
    "plt.show()"
   ]
  },
  {
   "cell_type": "code",
   "execution_count": null,
   "metadata": {
    "collapsed": true
   },
   "outputs": [],
   "source": []
  },
  {
   "cell_type": "code",
   "execution_count": null,
   "metadata": {
    "collapsed": true
   },
   "outputs": [],
   "source": [
    "S = sigmoid()"
   ]
  },
  {
   "cell_type": "code",
   "execution_count": null,
   "metadata": {
    "collapsed": false
   },
   "outputs": [],
   "source": [
    "S.__dict__"
   ]
  },
  {
   "cell_type": "code",
   "execution_count": null,
   "metadata": {
    "collapsed": false
   },
   "outputs": [],
   "source": [
    "dir(S)"
   ]
  },
  {
   "cell_type": "markdown",
   "metadata": {},
   "source": [
    "## model"
   ]
  },
  {
   "cell_type": "code",
   "execution_count": null,
   "metadata": {
    "collapsed": true
   },
   "outputs": [],
   "source": [
    "tf.reset_default_graph()"
   ]
  },
  {
   "cell_type": "code",
   "execution_count": null,
   "metadata": {
    "collapsed": true
   },
   "outputs": [],
   "source": [
    "### Data\n",
    "data = Xor\n",
    "m_dim = data.inputs.shape[1]\n",
    "p_dim = data.outputs.shape[1]\n",
    "l_dim = [m_dim] + [3, 2, 3] + [p_dim]\n",
    "layers = len(l_dim)-1\n",
    "tf.set_random_seed(1234)\n",
    "np.random.seed(1234)\n",
    "b_init = 0\n",
    "x_in = tf.placeholder(tf.float32, shape=[None, m_dim], name='x_in')\n",
    "y = tf.placeholder(tf.float32, shape=[None, p_dim], name='y')"
   ]
  },
  {
   "cell_type": "code",
   "execution_count": null,
   "metadata": {
    "collapsed": false
   },
   "outputs": [],
   "source": [
    "b = (layers+1)*[None]\n",
    "W = (layers+1)*[None]\n",
    "L = (layers+1)*[None]\n",
    "L_inv = (layers+1)*[None]\n",
    "x1  = (layers+1)*[None]\n",
    "x2  = (layers+1)*[None]\n",
    "x3  = (layers+1)*[None]\n",
    "x1_ = (layers+1)*[None]\n",
    "x2_ = (layers+1)*[None]\n",
    "x3_ = (layers+1)*[None]"
   ]
  },
  {
   "cell_type": "code",
   "execution_count": null,
   "metadata": {
    "collapsed": true
   },
   "outputs": [],
   "source": [
    "V = (layers+1)*[None] # feedback matrix\n",
    "c = (layers+1)*[None] # feedback bias"
   ]
  },
  {
   "cell_type": "code",
   "execution_count": null,
   "metadata": {
    "collapsed": false
   },
   "outputs": [],
   "source": [
    "for l in range(1, layers+1):\n",
    "  with tf.variable_scope('Layer'+str(l)):\n",
    "    b[l] = tf.get_variable( 'b', shape=[1, l_dim[l]], initializer=tf.constant_initializer(b_init))\n",
    "    W[l] = tf.get_variable( 'W', shape=[l_dim[l-1], l_dim[l]], initializer=W[l])\n",
    "    #W[l] = tf.get_variable( 'W', initializer=W[l])\n",
    "# Feedback graph\n",
    "for l in range(layers, 1, -1):\n",
    "  with tf.variable_scope('Layer'+str(l)):\n",
    "    c[l] = tf.get_variable( 'c', shape=[1, l_dim[l-1]], initializer=tf.constant_initializer(b_init))\n",
    "    V[l] = tf.get_variable( 'V', shape=[l_dim[l], l_dim[l-1]], initializer=V[l])\n",
    "    #V[l] = tf.get_variable( 'V', initializer=V[l])"
   ]
  },
  {
   "cell_type": "code",
   "execution_count": null,
   "metadata": {
    "collapsed": false
   },
   "outputs": [],
   "source": [
    "# forward propagation\n",
    "nln = tf.tanh\n",
    "x3[0] = x_in\n",
    "for l in range(1, layers+1):\n",
    "  x1[l] = tf.matmul(x3[l-1], W[l], name='x1'+str(l))\n",
    "  x2[l] = tf.add(x1[l], b[l], name='x2'+str(l))\n",
    "  if l == layers+1:\n",
    "    x3[l] = tf.nn.softmax(x2[l], name='x3'+str(l))\n",
    "  else:\n",
    "    x3[l] = nln(x2[l], name='x3'+str(l))"
   ]
  },
  {
   "cell_type": "code",
   "execution_count": null,
   "metadata": {
    "collapsed": true
   },
   "outputs": [],
   "source": [
    "# top layer stuff\n",
    "L[-1] = tf.reduce_mean(-tf.reduce_sum(y*tf.log(x3[-1]), reduction_indices=[1]), name='global_loss')\n",
    "x3_[-1] = x3[-1] - alpha*(x3[-1] - y)"
   ]
  },
  {
   "cell_type": "code",
   "execution_count": null,
   "metadata": {
    "collapsed": true
   },
   "outputs": [],
   "source": [
    "lin = linear()\n",
    "nln = relu()\n",
    "add = addition()"
   ]
  },
  {
   "cell_type": "code",
   "execution_count": null,
   "metadata": {
    "collapsed": true
   },
   "outputs": [],
   "source": [
    "# backward propagation\n",
    "for l in range(layers, 1, -1):\n",
    "  if dtp_method==0:\n",
    "    \"\"\"vanilla\"\"\"\n",
    "    x2_[l] = tf.matmul(x3_[l], V[l], name='x2_'+str(l))\n",
    "    x1_[l] = tf.add(x2_[l], c[l], name='x1_'+str(l))\n",
    "    x3_[l] = nln(x1_[l], name='x3_'+str(l))\n",
    "  if dtp_method==1:\n",
    "    \"\"\"dtp\"\"\"\n",
    "    x3_[l] = tf.sub(x3[l], tf.add(nln(tf.add(tf.matmul(x3[l],  V[l]), c[l])), nln(tf.add(tf.matmul(x3_[l], V[l]), c[l]))), name='x3_'+str(l))\n",
    "  if dtp_method==2:\n",
    "    \"\"\"TODO: np vs tf...\"\"\"\n",
    "    x2_[l]   = nln.f_rinv( x3_[l], x2_[l],         gamma )\n",
    "    x1_[l]   = add.f_rinv( x2_[l], x1_[l],   b[l], gamma )\n",
    "    x3_[l-1] = lin.f_rinv( x1_[l], x3_[l-1], W[l], gamma )\n",
    "    \n",
    "  "
   ]
  },
  {
   "cell_type": "markdown",
   "metadata": {},
   "source": [
    "## misc"
   ]
  },
  {
   "cell_type": "code",
   "execution_count": null,
   "metadata": {
    "collapsed": true
   },
   "outputs": [],
   "source": []
  },
  {
   "cell_type": "code",
   "execution_count": null,
   "metadata": {
    "collapsed": true
   },
   "outputs": [],
   "source": [
    "n1 = 101\n",
    "ext = 2\n",
    "c = np.linspace(-ext, ext, n1)\n",
    "x0, y = np.meshgrid(c, c)\n",
    "x0 = x0.flatten()\n",
    "y = y.flatten()\n",
    "\n",
    "gamma = 0.001"
   ]
  },
  {
   "cell_type": "code",
   "execution_count": null,
   "metadata": {
    "collapsed": true
   },
   "outputs": [],
   "source": [
    "F = tanh()"
   ]
  },
  {
   "cell_type": "code",
   "execution_count": null,
   "metadata": {
    "collapsed": false
   },
   "outputs": [],
   "source": [
    "x = F.f_inv(y[:, np.newaxis], x0[:, np.newaxis])"
   ]
  },
  {
   "cell_type": "code",
   "execution_count": null,
   "metadata": {
    "collapsed": true
   },
   "outputs": [],
   "source": [
    "x = F.f_rinv(y[:, np.newaxis], x0[:, np.newaxis], gamma=gamma)"
   ]
  },
  {
   "cell_type": "code",
   "execution_count": null,
   "metadata": {
    "collapsed": false
   },
   "outputs": [],
   "source": [
    "x = x.reshape((x.size))"
   ]
  },
  {
   "cell_type": "code",
   "execution_count": null,
   "metadata": {
    "collapsed": false
   },
   "outputs": [],
   "source": [
    "C = x.reshape((n1,n1))"
   ]
  },
  {
   "cell_type": "code",
   "execution_count": null,
   "metadata": {
    "collapsed": false
   },
   "outputs": [],
   "source": [
    "fig, ax = plt.subplots(1, 1, figsize=(15,5))\n",
    "ct = ax.contour(x0.reshape((n1,n1)), y.reshape((n1,n1)),C,15,colors='k')\n",
    "im = ax.imshow(np.flipud(C), cmap=cm.RdBu, interpolation='nearest', vmin=-3, vmax=3, extent=(-ext, ext, -ext, ext))\n",
    "ax.set_title('gamma='+str(gamma))\n",
    "plt.colorbar(im,ax=ax, shrink=0.9)\n",
    "ax.set_xlabel('x0')\n",
    "ax.set_ylabel('y')\n",
    "plt.show()"
   ]
  },
  {
   "cell_type": "code",
   "execution_count": null,
   "metadata": {
    "collapsed": false
   },
   "outputs": [],
   "source": [
    "matplotlib.rcParams['xtick.direction'] = 'out'\n",
    "matplotlib.rcParams['ytick.direction'] = 'out'"
   ]
  },
  {
   "cell_type": "code",
   "execution_count": null,
   "metadata": {
    "collapsed": true
   },
   "outputs": [],
   "source": [
    "gamma = 0.1"
   ]
  },
  {
   "cell_type": "code",
   "execution_count": null,
   "metadata": {
    "collapsed": false
   },
   "outputs": [],
   "source": [
    "(F.f(0) - y)**2 + gamma"
   ]
  },
  {
   "cell_type": "code",
   "execution_count": null,
   "metadata": {
    "collapsed": false
   },
   "outputs": [],
   "source": [
    "fmin(, )"
   ]
  },
  {
   "cell_type": "code",
   "execution_count": null,
   "metadata": {
    "collapsed": true
   },
   "outputs": [],
   "source": []
  },
  {
   "cell_type": "code",
   "execution_count": null,
   "metadata": {
    "collapsed": true
   },
   "outputs": [],
   "source": []
  },
  {
   "cell_type": "code",
   "execution_count": null,
   "metadata": {
    "collapsed": true
   },
   "outputs": [],
   "source": []
  }
 ],
 "metadata": {
  "kernelspec": {
   "display_name": "Python 2",
   "language": "python",
   "name": "python2"
  },
  "language_info": {
   "codemirror_mode": {
    "name": "ipython",
    "version": 2
   },
   "file_extension": ".py",
   "mimetype": "text/x-python",
   "name": "python",
   "nbconvert_exporter": "python",
   "pygments_lexer": "ipython2",
   "version": "2.7.12"
  }
 },
 "nbformat": 4,
 "nbformat_minor": 0
}
