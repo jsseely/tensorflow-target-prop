{
 "cells": [
  {
   "cell_type": "markdown",
   "metadata": {},
   "source": [
    "### target prop in scalar network"
   ]
  },
  {
   "cell_type": "code",
   "execution_count": 1,
   "metadata": {
    "collapsed": true
   },
   "outputs": [],
   "source": [
    "%reset -ff\n",
    "%matplotlib inline"
   ]
  },
  {
   "cell_type": "code",
   "execution_count": 2,
   "metadata": {
    "collapsed": true
   },
   "outputs": [],
   "source": [
    "import numpy as np\n",
    "import matplotlib.pyplot as plt\n",
    "import seaborn as sns\n",
    "import copy"
   ]
  },
  {
   "cell_type": "code",
   "execution_count": null,
   "metadata": {
    "collapsed": false
   },
   "outputs": [],
   "source": [
    "# add biases?\n",
    "\n",
    "# parameters...\n",
    "batches = 9\n",
    "t_steps = 40\n",
    "algs = 4\n",
    "layers = 2\n",
    "\n",
    "alpha = 0.1\n",
    "\n",
    "# target function\n",
    "T = 2\n",
    "\n",
    "#forward weights\n",
    "w = np.zeros((algs, t_steps, layers, batches))\n",
    "dw = np.zeros((algs, t_steps, layers, batches))\n",
    "\n",
    "#feedback weights\n",
    "b = np.zeros((algs, t_steps, layers, batches))\n",
    "\n",
    "#activations\n",
    "x = np.zeros((algs, t_steps, layers+1, batches))\n",
    "dx = np.zeros((algs, t_steps, layers+1, batches))\n",
    "\n",
    "# Notes:\n",
    "# x[-1] = yhat\n",
    "# dx[-1] = e = yhat - y\n",
    "\n",
    "# target output\n",
    "y = np.zeros((algs, batches))\n",
    "\n",
    "# Initialize...\n",
    "for k in range(algs):\n",
    "    w[k, 0, 0, :] = -0.5*np.ones(batches)\n",
    "    w[k, 0, 1, :] = 0.2*np.ones(batches)\n",
    "#     b[k, 0, 0, :] = 0*np.ones(batches)\n",
    "#     b[k, 0, 1, :] = 0*np.ones(batches)\n",
    "    for t in range(t_steps):\n",
    "        x[k, t, 0, :] = np.linspace(-2, 2, batches)\n",
    "        y[k, :] = T*x[k, t, 0, :]\n",
    "\n",
    "# Training\n",
    "for t in range(t_steps):\n",
    "    for k in range(algs):\n",
    "        # forward pass\n",
    "        x[k, t, 1, :] = w[k, t, 0, :]*x[k, t, 0, :]\n",
    "        x[k, t, 2, :] = w[k, t, 1, :]*x[k, t, 1, :]\n",
    "        \n",
    "        dx[k, t, 2, :] = x[k, t, 2, :] - y[k, :]\n",
    "        \n",
    "        if k == 0:\n",
    "            dx[k, t, 1, :] = w[k, t, 1, :]*dx[k, t, 2, :]\n",
    "            \n",
    "        elif k == 1:\n",
    "            dx[k, t, 1, :] = .1*dx[k, t, 2, :]\n",
    "        elif k == 2:\n",
    "            dx[k, t, 1, :] = x[k, t, 1, :] + 1/w[k, t, 1, :]*dx[k, t, 2, :] - 1/w[k, t, 1, :]*x[k, t, 2, :]\n",
    "        elif k == 3:\n",
    "            dx[k, t, 1, :] = 1/w[k, t, 1, :]*dx[k, t, 2, :]\n",
    "                \n",
    "        dw[k, t, 1, :] = -alpha*dx[k, t, 2, :]*x[k, t, 1, :]\n",
    "        dw[k, t, 0, :] = -alpha*dx[k, t, 1, :]*x[k, t, 0, :]\n",
    "\n",
    "        if t != t_steps-1:\n",
    "            w[k, t+1, 0, :] = w[k, t, 0, :] + dw[k, t, 0, :]\n",
    "            w[k, t+1, 1, :] = w[k, t, 1, :] + dw[k, t, 1, :]"
   ]
  },
  {
   "cell_type": "code",
   "execution_count": null,
   "metadata": {
    "collapsed": false,
    "scrolled": false
   },
   "outputs": [],
   "source": [
    "batch = 2\n",
    "k = 0\n",
    "plt.figure(figsize=(12,6))\n",
    "\n",
    "# lines\n",
    "plt.plot([0, 2], [0, 0], 'k', linewidth=1, alpha=0.3)\n",
    "plt.plot([0, 0], [-3, 3], 'k', linewidth=1, alpha=0.3)\n",
    "plt.plot([1, 1], [-3, 3], 'k', linewidth=1, alpha=0.3)\n",
    "plt.plot([2, 2], [-3, 3], 'k', linewidth=1, alpha=0.3)\n",
    "\n",
    "# activations\n",
    "plt.plot([0, 1, 2], x[k, 0, :, batch],'-o', color=sns.color_palette()[0], linewidth=0.5, markersize=10, alpha=1)\n",
    "for t in range(1,t_steps):\n",
    "    plt.plot([0, 1, 2], x[k, t, :, batch],'-o', color=sns.color_palette()[0], linewidth=0.5, markersize=10, alpha=0.3)\n",
    "\n",
    "# target\n",
    "plt.plot([2], y[k, batch],'o', color=sns.color_palette()[1], markersize=10)\n",
    "\n",
    "# Errors\n",
    "plt.plot([1, 2], dx[k, 0, 1:3, batch], '-o', color=sns.color_palette()[2], linewidth=0.5, markersize=10)\n",
    "for t in range(1,t_steps):\n",
    "    plt.plot([1, 2], dx[k, t, 1:3, batch], '-o', color=sns.color_palette()[2], linewidth=0.5, markersize=10, alpha=0.3)\n",
    "\n",
    "plt.xlim(-0.5, 2.5)\n",
    "plt.ylim(-3.5, 3.5)\n",
    "plt.show()\n",
    "\n",
    "plt.figure(figsize=(3,3))\n",
    "plt.plot(np.linspace(-2.5,0,50), T/np.linspace(-2.5,0,50), 'k', linewidth=1, alpha=0.5)\n",
    "plt.plot(np.linspace(0,2.5,50), T/np.linspace(0,2.5,50), 'k', linewidth=1, alpha=0.5)\n",
    "\n",
    "plt.plot(w[k, 0, 0, batch], w[k, 0, 1, batch], 'o', color=sns.color_palette()[0])\n",
    "for t in range(1,t_steps):\n",
    "    plt.plot(w[k, t, 0, batch], w[k, t, 1, batch], 'o', color=sns.color_palette()[0], alpha=0.1)\n",
    "plt.xlim(-2.5, 2.5)\n",
    "plt.ylim(-2.5, 2.5)\n",
    "plt.show()"
   ]
  },
  {
   "cell_type": "markdown",
   "metadata": {},
   "source": [
    "### Target prop in a deep linear network"
   ]
  },
  {
   "cell_type": "code",
   "execution_count": null,
   "metadata": {
    "collapsed": true
   },
   "outputs": [],
   "source": [
    "%reset -f\n",
    "%matplotlib inline"
   ]
  },
  {
   "cell_type": "code",
   "execution_count": null,
   "metadata": {
    "collapsed": true
   },
   "outputs": [],
   "source": [
    "import tensorflow as tf\n",
    "import numpy as np\n",
    "import matplotlib.pyplot as plt\n",
    "import seaborn as sns"
   ]
  },
  {
   "cell_type": "code",
   "execution_count": null,
   "metadata": {
    "collapsed": true
   },
   "outputs": [],
   "source": [
    "### 1d visualizations..."
   ]
  },
  {
   "cell_type": "code",
   "execution_count": null,
   "metadata": {
    "collapsed": false
   },
   "outputs": [],
   "source": [
    "def rank_one_matrix():\n",
    "    ''' return: random 2x2 rank one matrix'''\n",
    "    W_ = np.random.randn(2,2)\n",
    "    u,s,v = np.linalg.svd(W_)\n",
    "    return np.outer(u[:,0],v[0])\n",
    "\n",
    "def simple_matrix():\n",
    "    ''' return: a specific 2x2 rank one matrix '''\n",
    "    return np.outer(np.array([1,0]), np.array([1,2])/np.linalg.norm([1,2]))\n",
    "\n",
    "def get_subspaces(A_, r):\n",
    "    ''' return: a dict containing the four fundamental subspaces of a matrix A '''\n",
    "    u,s,v = np.linalg.svd(A_, full_matrices=True)\n",
    "    ss = {'im': u[:,:r], 'ker': v[r:].T, 'coim': v[:r].T, 'coker': u[:,r:]}\n",
    "    return ss\n",
    "\n",
    "def plot_vecline(V, i=0, color=0):\n",
    "    ''' plots the 1d subspace (line) spanned by one vector V '''\n",
    "    VV = np.concatenate((-10*V, 10*V), axis=1)\n",
    "    ax[i].plot(VV[0], VV[1], color=sns.color_palette(\"RdBu_r\",7)[color], linewidth=2.0)\n",
    "    \n",
    "def plot_quotient(V, W, i=0, color=5):\n",
    "    ''' plots elements (lines) of the quotient space V/W \n",
    "        todo: replace n with sv or 1/sv\n",
    "    '''\n",
    "    for n in np.arange(-3,3.1,0.5):\n",
    "        VV = np.concatenate((-10*V, 10*V), axis=1)\n",
    "        VV = VV + n*W\n",
    "        ax[i].plot(VV[0], VV[1], color=sns.color_palette(\"RdBu_r\",7)[color], linewidth=0.5)\n",
    "\n",
    "def square_axes(i=0):\n",
    "    ''' make axis look nice '''\n",
    "    fig.axes[i].axhline(0, color='w', linewidth=3.5)\n",
    "    fig.axes[i].axvline(0, color='w', linewidth=3.5)\n",
    "    fig.axes[i].set_xlim(-3.5,3.5)\n",
    "    fig.axes[i].set_ylim(-3.5,3.5)\n",
    "    fig.axes[i].set_aspect(1)\n",
    "    fig.axes[i].get_xaxis().set_ticklabels([])\n",
    "    fig.axes[i].get_yaxis().set_ticklabels([])"
   ]
  },
  {
   "cell_type": "code",
   "execution_count": null,
   "metadata": {
    "collapsed": true
   },
   "outputs": [],
   "source": [
    "# Forward activation\n",
    "def forward(x_init, W_in):\n",
    "    ''' get activations for all neurons '''\n",
    "    # TODO: show two+ vectors / batch learning.\n",
    "    # batch learning: first then second vs second then first vs batch -- commutivity? \n",
    "    x_ = []\n",
    "    x_.append(x_init)\n",
    "    for l in range(layers):\n",
    "        x_.append(np.dot(W_in[l], x_[-1]))\n",
    "    return x_"
   ]
  },
  {
   "cell_type": "code",
   "execution_count": null,
   "metadata": {
    "collapsed": false
   },
   "outputs": [],
   "source": [
    "# Backprop\n",
    "def backward(x_end, W_in):\n",
    "    ''' get dL/dx[l] for all x '''\n",
    "    dL_ = (layers+1)*[None]\n",
    "    dL_[-1] = (x_end-y) # negative gradient of MSE\n",
    "    for l in range(layers-1,-1,-1):\n",
    "        dL_[l] = np.dot(W_in[l].T, dL_[l+1])\n",
    "    return dL_\n",
    "\n",
    "def train_weights(W_in, dL_in, x_in, alpha=.1):\n",
    "    ''' get dL/dW[l] for all l '''\n",
    "    W_ = np.copy(W_in)\n",
    "    for l in range(layers):\n",
    "        W_[l] = W_[l] - alpha*np.outer(dL_in[l+1], x_in[l])\n",
    "    return W_\n",
    "\n",
    "def get_W_update(dL_t_in, x_t_in):\n",
    "    ''' get np.outer(dL[l+1], x[l]), the rank-one update for the weights in backprop. '''\n",
    "    W_up = train_steps*[layers*[None]]\n",
    "    W_up_ss = train_steps*[layers*[None]]\n",
    "    for i in range(train_steps):\n",
    "        for l in range(layers):\n",
    "            W_up[i][l] = np.outer(dL_t_in[i][l+1], x_t_in[i][l])\n",
    "            W_up_ss[i][l] = get_subspaces(W_up[i][l], 1)\n",
    "    return W_up, W_up_ss"
   ]
  },
  {
   "cell_type": "code",
   "execution_count": null,
   "metadata": {
    "collapsed": false
   },
   "outputs": [],
   "source": [
    "# Target prop\n",
    "def get_pinv(W_in):\n",
    "    ''' get pinv '''\n",
    "    W_pinv_ = layers*[None]\n",
    "    for l in range(layers):\n",
    "        W_pinv_[l] = np.linalg.pinv(W_in[l])\n",
    "    return W_pinv_\n",
    "\n",
    "def get_targets(x_in, W_in, dL_in):\n",
    "    '''  '''\n",
    "    x_tar_ = (layers+1)*[None]\n",
    "    W_pinv_ = get_pinv(W_in)\n",
    "    x_tar_[-1] = x_in[-1] - alpha*dL_in[-1]\n",
    "    for l in range(layers-1,-1,-1):\n",
    "        x_tar_[l] = x_in[l] - np.dot(W_pinv_[l], x_in[l+1]) + np.dot(W_pinv_[l],x_tar_[l+1])\n",
    "    return x_tar_\n",
    "\n",
    "def train_weights_targ(W_in, x_targ_in, x_in, alpha=.1):\n",
    "    ''' train weights, targ prop version '''\n",
    "    dL_local = [x_in[l] - x_targ_in[l] for l in range(len(x_in))]\n",
    "    W_ = train_weights(W_in, dL_local, x_in, alpha=alpha)\n",
    "    return W_\n",
    "\n",
    "# Try pseudo-inverse to learn weights. Write a train_weights function\n",
    "# for both backprop and target prop."
   ]
  },
  {
   "cell_type": "code",
   "execution_count": null,
   "metadata": {
    "collapsed": false
   },
   "outputs": [],
   "source": [
    "# parameters...\n",
    "batches = 121\n",
    "t_steps = 100\n",
    "algs = 4\n",
    "layers = 2\n",
    "\n",
    "alpha = 0.01\n",
    "\n",
    "# target function\n",
    "T = np.random.randn(2,2)/np.sqrt(2)\n",
    "\n",
    "#forward weights\n",
    "W = np.zeros((algs, t_steps, layers+1, batches), dtype=object)\n",
    "dW = np.zeros((algs, t_steps, layers+1, batches), dtype=object)\n",
    "\n",
    "#feedback weights\n",
    "B = np.zeros((layers+1), dtype=object)\n",
    "\n",
    "#activations\n",
    "x = np.zeros((algs, t_steps, layers+1, batches), dtype=object)\n",
    "dx = np.zeros((algs, t_steps, layers+1, batches), dtype=object)\n",
    "\n",
    "# target output\n",
    "y = np.zeros((batches), dtype=object)\n",
    "\n",
    "# Initialize...\n",
    "vv, hh = np.mgrid[-2:2:11j, -2:2:11j]\n",
    "x_in = np.stack((vv.ravel(), hh.ravel()), axis=0)\n",
    "B[2] = np.random.randn(2, 2)\n",
    "for b in range(batches):\n",
    "    for k in range(algs):\n",
    "        W[k, 0, 1, b] = -0.1*np.ones((2,2))\n",
    "        W[k, 0, 2, b] = 0.1*np.ones((2,2))\n",
    "        for t in range(t_steps):        \n",
    "            x[k, t, 0, b] = x_in[:,b]\n",
    "    y[b] = np.dot(T, x_in[:,b])\n",
    "\n",
    "# Training\n",
    "\n",
    "for b in range(batches):\n",
    "    for t in range(t_steps):\n",
    "        for k in range(algs):\n",
    "            # forward pass\n",
    "            x[k, t, 1, b] = np.dot(W[k, t, 1, b], x[k, t, 0, b])\n",
    "            x[k, t, 2, b] = np.dot(W[k, t, 2, b], x[k, t, 1, b])\n",
    "\n",
    "            dx[k, t, 2, b] = x[k, t, 2, b] - y[b]\n",
    "\n",
    "            if k == 0:\n",
    "                dx[k, t, 1, b] = np.dot(W[k, t, 2, b].T, dx[k, t, 2, b])\n",
    "            elif k == 1:\n",
    "                dx[k, t, 1, b] = np.dot(B[2], dx[k, t, 2, b])\n",
    "            elif k == 2:\n",
    "                dx[k, t, 1, b] = x[k, t, 1, b] + np.dot(np.linalg.pinv(W[k, t, 2, b]), dx[k, t, 2, b]) - np.dot(np.linalg.pinv(W[k, t, 2, b]), x[k, t, 2, b])\n",
    "            elif k == 3:\n",
    "                dx[k, t, 1, b] = np.dot(np.linalg.pinv(W[k, t, 2, b]), dx[k, t, 2, b])\n",
    "\n",
    "            dW[k, t, 2, b] = -alpha*np.outer(dx[k, t, 2, b], x[k, t, 1, b])\n",
    "            dW[k, t, 1, b] = -alpha*np.outer(dx[k, t, 1, b], x[k, t, 0, b])\n",
    "\n",
    "            if t != t_steps-1:\n",
    "                W[k, t+1, 1, b] = W[k, t, 1, b] + dW[k, t, 1, b]\n",
    "                W[k, t+1, 2, b] = W[k, t, 2, b] + dW[k, t, 2, b]"
   ]
  },
  {
   "cell_type": "code",
   "execution_count": null,
   "metadata": {
    "collapsed": false
   },
   "outputs": [],
   "source": [
    "## ROW 1\n",
    "fig, ax = plt.subplots(1, layers+1, figsize=(20,20))\n",
    "for l in range(layers+1):\n",
    "    square_axes(l)\n",
    "\n",
    "b = 35\n",
    "k = 1\n",
    "for k in range(algs):\n",
    "    for l in range(layers+1):\n",
    "        ax[l].plot(x[k, 0, l, b][0], x[k, 0, l, b][1], 'o', markersize=12, color=sns.color_palette()[k])\n",
    "        if l != 0:\n",
    "            ax[l].plot(dx[k, 0, l ,b][0], dx[k, 0, l, b][1], '^', markersize=12, color=sns.color_palette()[k])\n",
    "        for t in range(1, t_steps):\n",
    "            ax[l].plot(x[k, t, l, b][0], x[k, t, l, b][1], 'o', markersize=8, alpha=0.1, color=sns.color_palette()[k])\n",
    "            if l != 0:\n",
    "                ax[l].plot(dx[k, t, l ,b][0], dx[k, t, l, b][1], '^', markersize=12, color=sns.color_palette()[k], alpha=0.1)\n",
    "    \n",
    "ax[-1].plot(y[b][0],y[b][1], 'o', markersize=15, color='k')\n",
    "            \n",
    "            \n",
    "#plot_dots(ax)\n",
    "#ax[-1].contour(hh, vv, L, 10)\n",
    "plt.show()\n"
   ]
  },
  {
   "cell_type": "code",
   "execution_count": null,
   "metadata": {
    "collapsed": true
   },
   "outputs": [],
   "source": []
  },
  {
   "cell_type": "code",
   "execution_count": null,
   "metadata": {
    "collapsed": true
   },
   "outputs": [],
   "source": [
    "def plot_dots(ax_):\n",
    "    for l in range(layers+1):\n",
    "        for t in [c+1 for c in range(train_steps-2,-1,-1)]:\n",
    "            ax_[l].plot(x_bp_t[t+1][l][0], x_bp_t[t+1][l][1], 'o', color=sns.color_palette()[0], ms=10, alpha=0.2)\n",
    "            ax_[l].plot(dL_t[t+1][l][0], dL_t[t+1][l][1], 'o', color=sns.color_palette()[1], ms=10, alpha=0.2)\n",
    "            ax_[l].plot(x_tp_t[t+1][l][0], x_tp_t[t+1][l][1], '*', color=sns.color_palette()[0], ms=10, alpha=0.5)\n",
    "            ax_[l].plot(x_tar_t[t+1][l][0], x_tar_t[t+1][l][1], '*', color=sns.color_palette()[1], ms=10, alpha=0.5)\n",
    "\n",
    "        ax_[l].plot(x_bp_t[0][l][0], x_bp_t[0][l][1], 'o', color=sns.color_palette()[0], ms=10)\n",
    "        ax_[l].plot(dL_t[0][l][0], dL_t[0][l][1], 'o', color=sns.color_palette()[1], ms=10)\n",
    "        ax_[l].plot(x_tp_t[0][l][0], x_tp_t[0][l][1], '*', color=sns.color_palette()[0], ms=10)\n",
    "        ax_[l].plot(x_tar_t[0][l][0], x_tar_t[0][l][1], '*', color=sns.color_palette()[1], ms=10)\n",
    "    ax_[-1].plot(y[0],y[1], '^', color=sns.color_palette()[4], ms=10)\n"
   ]
  },
  {
   "cell_type": "code",
   "execution_count": null,
   "metadata": {
    "collapsed": true
   },
   "outputs": [],
   "source": []
  },
  {
   "cell_type": "code",
   "execution_count": null,
   "metadata": {
    "collapsed": false
   },
   "outputs": [],
   "source": [
    "# construct model:\n",
    "layers = 2\n",
    "W = []\n",
    "W_ss = []\n",
    "\n",
    "train_steps = 50\n",
    "alpha = .05\n",
    "\n",
    "for l in range(layers):\n",
    "    W.append(simple_matrix())\n",
    "    W_ss.append(get_subspaces(W[l], 1))\n",
    "\n",
    "# Data\n",
    "x_0 = np.array([-1.5,-1.15])\n",
    "y = np.array([1,0.5])\n",
    "    \n",
    "# Cost function visualization\n",
    "vv, hh = np.mgrid[-2:2:20j, -2:2:20j]\n",
    "L = 0.5*((hh-y[0])**2 + (vv-y[1])**2)\n",
    "\n",
    "# First pass\n",
    "x = forward(x_0, W)\n",
    "dL = backward(x[-1], W)\n",
    "x_tar = get_targets(x, W, dL)\n",
    "\n",
    "# Training steps\n",
    "x_bp_t = [x]\n",
    "W_bp_t = [W]\n",
    "dL_t = [dL]\n",
    "\n",
    "x_tp_t = [x]\n",
    "x_tar_t = [x_tar]\n",
    "W_tp_t = [W]\n",
    "\n",
    "# Training\n",
    "for i in range(train_steps):\n",
    "    # backprop\n",
    "    W_bp_t.append(train_weights(W_bp_t[-1], dL_t[-1], x_bp_t[-1], alpha=alpha))\n",
    "    x_bp_t.append(forward(x_0, W_bp_t[i]))\n",
    "    dL_t.append(backward(x_bp_t[-1][-1], W_bp_t[-1]))\n",
    "    \n",
    "    # target prop\n",
    "    W_tp_t.append(train_weights_targ(W_tp_t[-1], x_tar_t[-1], x_tp_t[-1], alpha=10*alpha))\n",
    "    x_tp_t.append(forward(x_0, W_tp_t[i]))\n",
    "    x_tar_t.append(get_targets(x_tp_t[-1], W_tp_t[-1], dL_t[-1]))\n",
    "\n",
    "# pseudoinv\n",
    "W_pi = []\n",
    "W_ps = []\n",
    "for i in range(train_steps+1):\n",
    "    W_pi.append(get_pinv(W_tp_t[i]))\n",
    "for l in range(layers):\n",
    "    W_ps.append(get_subspaces(W_pi[0][l], 1))"
   ]
  },
  {
   "cell_type": "code",
   "execution_count": null,
   "metadata": {
    "collapsed": false
   },
   "outputs": [],
   "source": [
    "def plot_dots(ax_):\n",
    "    for l in range(layers+1):\n",
    "        for t in [c+1 for c in range(train_steps-2,-1,-1)]:\n",
    "            ax_[l].plot(x_bp_t[t+1][l][0], x_bp_t[t+1][l][1], 'o', color=sns.color_palette()[0], ms=10, alpha=0.2)\n",
    "            ax_[l].plot(dL_t[t+1][l][0], dL_t[t+1][l][1], 'o', color=sns.color_palette()[1], ms=10, alpha=0.2)\n",
    "            ax_[l].plot(x_tp_t[t+1][l][0], x_tp_t[t+1][l][1], '*', color=sns.color_palette()[0], ms=10, alpha=0.5)\n",
    "            ax_[l].plot(x_tar_t[t+1][l][0], x_tar_t[t+1][l][1], '*', color=sns.color_palette()[1], ms=10, alpha=0.5)\n",
    "\n",
    "        ax_[l].plot(x_bp_t[0][l][0], x_bp_t[0][l][1], 'o', color=sns.color_palette()[0], ms=10)\n",
    "        ax_[l].plot(dL_t[0][l][0], dL_t[0][l][1], 'o', color=sns.color_palette()[1], ms=10)\n",
    "        ax_[l].plot(x_tp_t[0][l][0], x_tp_t[0][l][1], '*', color=sns.color_palette()[0], ms=10)\n",
    "        ax_[l].plot(x_tar_t[0][l][0], x_tar_t[0][l][1], '*', color=sns.color_palette()[1], ms=10)\n",
    "    ax_[-1].plot(y[0],y[1], '^', color=sns.color_palette()[4], ms=10)\n"
   ]
  },
  {
   "cell_type": "code",
   "execution_count": null,
   "metadata": {
    "collapsed": false,
    "scrolled": false
   },
   "outputs": [],
   "source": [
    "## ROW 1\n",
    "fig, ax = plt.subplots(1, layers+1, figsize=(20,20))\n",
    "for l in range(layers+1):\n",
    "    square_axes(l)\n",
    "\n",
    "for l in range(layers):\n",
    "    plot_quotient(W_ss[l]['ker'], W_ss[l]['coim'], l)\n",
    "    plot_vecline(W_ss[l]['ker'], l, -1)\n",
    "    plot_vecline(W_ss[l]['coim'],l, 1)\n",
    "\n",
    "plot_dots(ax)\n",
    "ax[-1].contour(hh, vv, L, 10)\n",
    "plt.show()\n",
    "\n",
    "## ROW 2\n",
    "fig, ax = plt.subplots(1, layers+1, figsize=(20,20))\n",
    "for l in range(layers+1):\n",
    "    square_axes(l)\n",
    "\n",
    "for l in range(layers):\n",
    "    plot_quotient(W_ss[l]['coker'], W_ss[l]['im'], l+1)\n",
    "    plot_vecline(W_ss[l]['coker'], l+1, -1)\n",
    "    plot_vecline(W_ss[l]['im'],l+1, 1)\n",
    "\n",
    "plot_dots(ax)\n",
    "plt.show()"
   ]
  },
  {
   "cell_type": "markdown",
   "metadata": {},
   "source": [
    "- W[l] moves in the direction to minimize error.\n",
    "- Does this imply that x[l] also moves in the direction to minimize error?\n",
    "\n",
    "\n",
    "- Specify the space of possible solutions -- global sections of x[l], but also space of W[l]?\n",
    "\n",
    "\n",
    "- visualize the gradient functionals \n",
    "\n",
    "\n",
    "- Understand why for backprop:\n",
    "    - dL/dW does not change over training steps (uh, maybe a bug?)\n",
    "    - dL/dW is specifically rank-one. What is gained by higher-rank updates. Relation to FORCE / RLS / Full-FORCE. Newton's method -> higher thank rank-one?\n",
    "    \n",
    "\n",
    "- should be able to prove why W_update is constant for deep linear networks. Implications?\n",
    "\n",
    "\n",
    "- confirm: does x[t] + alpha*dL/dx[t] = x[t] + alpha*(x_prevlayer[t])\n",
    "\n",
    "dL/dx[l] says: move in this direction to reduce error. And dL/dW[l] says: \n",
    "\n",
    "\n",
    "- idea: plot loss contours at each layer -- i.e. backprop the entire error function... (?)\n",
    "\n",
    "\n",
    "- more generally: play with visualizations for images, kernel, preimage, etc."
   ]
  },
  {
   "cell_type": "code",
   "execution_count": null,
   "metadata": {
    "collapsed": false
   },
   "outputs": [],
   "source": [
    "x_array = np.array(x_tp_t)\n",
    "dL_array = np.array(dL_t)\n",
    "W_array = np.array(W_tp_t)\n",
    "#W_update_array = np.array(W_update)"
   ]
  },
  {
   "cell_type": "code",
   "execution_count": null,
   "metadata": {
    "collapsed": false
   },
   "outputs": [],
   "source": [
    "fig, ax = plt.subplots(1, layers+1, figsize=(20,4))\n",
    "for l in range(layers+1):\n",
    "    ax[l].plot(x_array[:,l,:])\n",
    "    ax[l].plot(dL_array[:,l,:],'--')\n",
    "plt.show()"
   ]
  },
  {
   "cell_type": "code",
   "execution_count": null,
   "metadata": {
    "collapsed": false
   },
   "outputs": [],
   "source": [
    "fig, ax = plt.subplots(1, layers, figsize=(20,4))\n",
    "for l in range(layers):\n",
    "    ax[l].plot(W_array[:,l,:,0])\n",
    "    ax[l].plot(W_array[:,l,:,1])\n",
    "    #ax[l].plot(W_update_array[:,l,:,0],'--')\n",
    "    #ax[l].plot(W_update_array[:,l,:,1],'--')\n",
    "plt.show()"
   ]
  },
  {
   "cell_type": "code",
   "execution_count": null,
   "metadata": {
    "collapsed": true
   },
   "outputs": [],
   "source": []
  },
  {
   "cell_type": "code",
   "execution_count": null,
   "metadata": {
    "collapsed": true
   },
   "outputs": [],
   "source": []
  },
  {
   "cell_type": "code",
   "execution_count": null,
   "metadata": {
    "collapsed": true
   },
   "outputs": [],
   "source": []
  },
  {
   "cell_type": "code",
   "execution_count": null,
   "metadata": {
    "collapsed": true
   },
   "outputs": [],
   "source": []
  },
  {
   "cell_type": "code",
   "execution_count": null,
   "metadata": {
    "collapsed": true
   },
   "outputs": [],
   "source": []
  },
  {
   "cell_type": "code",
   "execution_count": null,
   "metadata": {
    "collapsed": true
   },
   "outputs": [],
   "source": []
  },
  {
   "cell_type": "code",
   "execution_count": null,
   "metadata": {
    "collapsed": true
   },
   "outputs": [],
   "source": []
  },
  {
   "cell_type": "code",
   "execution_count": null,
   "metadata": {
    "collapsed": true
   },
   "outputs": [],
   "source": []
  },
  {
   "cell_type": "code",
   "execution_count": null,
   "metadata": {
    "collapsed": true
   },
   "outputs": [],
   "source": []
  },
  {
   "cell_type": "code",
   "execution_count": 3,
   "metadata": {
    "collapsed": true
   },
   "outputs": [],
   "source": [
    "# sigmoid...\n",
    "%reset -f\n",
    "%matplotlib inline\n",
    "import numpy as np  \n",
    "import matplotlib.pyplot as plt\n",
    "import scipy as sp\n",
    "import seaborn as sns"
   ]
  },
  {
   "cell_type": "code",
   "execution_count": 4,
   "metadata": {
    "collapsed": true
   },
   "outputs": [],
   "source": [
    "def square_axes(i=0):\n",
    "    ''' make axis look nice '''\n",
    "    fig.axes[i].axhline(0, color='w', linewidth=3.5, alpha=0.25)\n",
    "    fig.axes[i].axvline(0, color='w', linewidth=3.5, alpha=0.25)\n",
    "    fig.axes[i].set_xlim(-1.5,1.5)\n",
    "    fig.axes[i].set_ylim(-1.5,1.5)\n",
    "    fig.axes[i].set_aspect(1)\n",
    "    fig.axes[i].get_xaxis().set_ticklabels([])\n",
    "    fig.axes[i].get_yaxis().set_ticklabels([])\n",
    "\n",
    "def get_matrix(layer=1):\n",
    "    if layer == 1:\n",
    "        A = np.array([[0.1, 0],[0.9, 1]])\n",
    "    else:\n",
    "        A = np.array([[1, 0.9],[0, 1]])\n",
    "    return A\n",
    "def get_bias(layer=1):\n",
    "    if layer == 1:\n",
    "        b = np.array([[0],[0]])\n",
    "    else:\n",
    "        b = np.array([[0],[0]])\n",
    "    return b\n",
    "def f1(x,layer):\n",
    "    return np.dot(get_matrix(layer), x) + get_bias(layer)\n",
    "def f1_inv(x,layer):\n",
    "    A = get_matrix(layer)\n",
    "    return np.dot(np.linalg.inv(A), x - get_bias(layer))\n",
    "def f2(x):\n",
    "    return 2./(1 + np.exp(-x))-1\n",
    "def f2_inv(x):\n",
    "    return -np.log(2./(1+x) - 1)\n",
    "\n",
    "def df2(x):\n",
    "    return (1 - f2(x)**2)*x\n",
    "def df1(x, layer):\n",
    "    return np.dot(get_matrix(layer).T, x)\n",
    "\n",
    "def relu(x):\n",
    "    return x*(x>0)\n",
    "\n",
    "def get_preimg(img, func, eps=0.1):\n",
    "    \"\"\" computes the preimage a of set img through func, i.e.\n",
    "        img=func(a)\"\"\"\n",
    "    c1 = np.linspace(-2, 2, 201)\n",
    "    c2 = np.linspace(-2, 2, 201)\n",
    "    x1, y1 = np.meshgrid(c1, c2)\n",
    "    a = np.stack((x1.flatten(), y1.flatten()))\n",
    "    d = np.zeros(a.shape[1])\n",
    "    b = func(a)\n",
    "    for i in range(a.shape[1]):\n",
    "        d[i] = np.min(np.linalg.norm(b[:,i] - img))\n",
    "    inds = d < eps\n",
    "    return a[:,inds], b[:,inds]\n",
    "\n",
    "def get_circle(center, radius, points=100):\n",
    "    x = radius*np.cos(np.linspace(0, 2*np.pi, num=points)) + center[0]\n",
    "    y = radius*np.sin(np.linspace(0, 2*np.pi, num=points)) + center[1]\n",
    "    return np.stack((x,y))\n",
    "\n",
    "def prop(init, L=1):\n",
    "    x = []\n",
    "    x.append(init)\n",
    "    for l in range(1, L+1):\n",
    "        x.append(f1(x[-1], l))\n",
    "        x.append(f2(x[-1]))\n",
    "    return x\n",
    "def back(init, L=1):\n",
    "    y = []\n",
    "    y.append(init)\n",
    "    for l in range(L, 0, -1):\n",
    "        y.append(f2_inv(y[-1]))\n",
    "        y.append(f1_inv(y[-1], l))\n",
    "    y.reverse()\n",
    "    return y\n",
    "def bprop(init, L=1):\n",
    "    d = []\n",
    "    d.append(init)\n",
    "    for l in range(L, 0, -1):\n",
    "        d.append(df2(d[-1]))\n",
    "        d.append(df1(d[-1], l))\n",
    "    d.reverse()\n",
    "    return d"
   ]
  },
  {
   "cell_type": "code",
   "execution_count": 5,
   "metadata": {
    "collapsed": true
   },
   "outputs": [],
   "source": [
    "L=2"
   ]
  },
  {
   "cell_type": "code",
   "execution_count": 6,
   "metadata": {
    "collapsed": false
   },
   "outputs": [],
   "source": [
    "# Grid lines\n",
    "c1 = np.linspace(-5, 5, 101)\n",
    "c2 = np.linspace(-5, 5, 11)\n",
    "x1, y1 = np.meshgrid(np.append(c1, 999), c2)\n",
    "x2, y2 = np.meshgrid(np.append(c1, 999), c2)\n",
    "x1[x1==999] = None\n",
    "y1[y1==999] = None\n",
    "x2[x2==999] = None\n",
    "y2[y2==999] = None\n",
    "\n",
    "# just grid lines\n",
    "a1 = prop(np.stack((x1.flatten(), y1.flatten())), L=L)\n",
    "a2 = prop(np.stack((y2.flatten(), x2.flatten())), L=L)"
   ]
  },
  {
   "cell_type": "code",
   "execution_count": 7,
   "metadata": {
    "collapsed": false
   },
   "outputs": [
    {
     "name": "stderr",
     "output_type": "stream",
     "text": [
      "/Users/jeff/anaconda/lib/python2.7/site-packages/ipykernel/__main__.py:31: RuntimeWarning: invalid value encountered in log\n"
     ]
    }
   ],
   "source": [
    "# Vectors:\n",
    "x = prop(np.array([[1],[1]]), L=L)\n",
    "y = back(np.array([[-0.9],[-0]]), L=L)\n",
    "xt= back(x[-1] - 0.5*(x[-1]-y[-1]), L=L)\n",
    "dl = bprop(x[-1]-y[-1], L=L)"
   ]
  },
  {
   "cell_type": "code",
   "execution_count": 8,
   "metadata": {
    "collapsed": false
   },
   "outputs": [
    {
     "name": "stderr",
     "output_type": "stream",
     "text": [
      "/Users/jeff/anaconda/lib/python2.7/site-packages/ipykernel/__main__.py:31: RuntimeWarning: invalid value encountered in log\n"
     ]
    }
   ],
   "source": [
    "# Shapes:\n",
    "circ = back(get_circle(y[-1], np.linalg.norm(x[-1] - y[-1])), L=L)\n",
    "circ2 = back(get_circle(y[-1], 0.5*np.linalg.norm(x[-1] - y[-1])), L=L)\n",
    "circ3 = back(get_circle(y[-1], 0.25*np.linalg.norm(x[-1] - y[-1])), L=L)\n",
    "circ4 = back(get_circle(y[-1], 0.75*np.linalg.norm(x[-1] - y[-1])), L=L)\n",
    "\n",
    "line = back(np.stack((np.linspace(x[-1][0], y[-1][0]), np.linspace(x[-1][1], y[-1][1]))), L=L)"
   ]
  },
  {
   "cell_type": "code",
   "execution_count": 9,
   "metadata": {
    "collapsed": false
   },
   "outputs": [
    {
     "data": {
      "image/png": "[encoded data removed]",
      "text/plain": [
       "<matplotlib.figure.Figure at 0x1103a3850>"
      ]
     },
     "metadata": {},
     "output_type": "display_data"
    }
   ],
   "source": [
    "fig, ax = plt.subplots(1, 2*L+1, figsize=(20,20))\n",
    "for i in range(2*L+1):\n",
    "    square_axes(i)\n",
    "    if i % 2 or i == 0:\n",
    "        fig.axes[i].set_xlim(-5,5)\n",
    "        fig.axes[i].set_ylim(-5,5)\n",
    "    \n",
    "for i in range(2*L+1):\n",
    "    ax[i].plot(a1[i][0], a1[i][1], '-', alpha=0.25)\n",
    "    ax[i].plot(a2[i][0], a2[i][1], '-', alpha=0.25)\n",
    "    ax[i].plot(circ[i][0], circ[i][1])\n",
    "    ax[i].plot(circ2[i][0], circ2[i][1])\n",
    "    ax[i].plot(circ3[i][0], circ3[i][1])\n",
    "    ax[i].plot(circ4[i][0], circ4[i][1])\n",
    "    ax[i].plot(line[i][0], line[i][1])\n",
    "    ax[i].plot(x[i][0], x[i][1], 'bo')\n",
    "    ax[i].plot(y[i][0], y[i][1], 'ro')\n",
    "    ax[i].plot(xt[i][0], xt[i][1], 'o')\n",
    "    ax[i].plot([x[i][0], x[i][0] - dl[i][0]], [x[i][1], x[i][1] - dl[i][1]])\n",
    "plt.show()"
   ]
  },
  {
   "cell_type": "code",
   "execution_count": 123,
   "metadata": {
    "collapsed": true
   },
   "outputs": [],
   "source": [
    "def ff(x):\n",
    "    return f2(f1(x, 1))"
   ]
  },
  {
   "cell_type": "code",
   "execution_count": 143,
   "metadata": {
    "collapsed": false
   },
   "outputs": [],
   "source": [
    "aa, bb = get_preimg(np.array([-0.8, 0]), ff, 0.5)"
   ]
  },
  {
   "cell_type": "code",
   "execution_count": 147,
   "metadata": {
    "collapsed": false
   },
   "outputs": [
    {
     "data": {
      "image/png": "[encoded data removed]",
      "text/plain": [
       "<matplotlib.figure.Figure at 0x11a580f90>"
      ]
     },
     "metadata": {},
     "output_type": "display_data"
    }
   ],
   "source": [
    "plt.figure()\n",
    "plt.plot(aa[0,:], aa[1,:], '.', alpha=0.05)\n",
    "plt.plot(bb[0,:], bb[1,:], '.', alpha=0.05)\n",
    "plt.axis('square')\n",
    "plt.xlim([-2,2])\n",
    "plt.ylim([-2,2])\n",
    "plt.show()"
   ]
  },
  {
   "cell_type": "code",
   "execution_count": null,
   "metadata": {
    "collapsed": true
   },
   "outputs": [],
   "source": []
  },
  {
   "cell_type": "code",
   "execution_count": null,
   "metadata": {
    "collapsed": true
   },
   "outputs": [],
   "source": []
  },
  {
   "cell_type": "code",
   "execution_count": null,
   "metadata": {
    "collapsed": true
   },
   "outputs": [],
   "source": []
  },
  {
   "cell_type": "code",
   "execution_count": null,
   "metadata": {
    "collapsed": true
   },
   "outputs": [],
   "source": []
  }
 ],
 "metadata": {
  "kernelspec": {
   "display_name": "Python 2",
   "language": "python",
   "name": "python2"
  },
  "language_info": {
   "codemirror_mode": {
    "name": "ipython",
    "version": 2
   },
   "file_extension": ".py",
   "mimetype": "text/x-python",
   "name": "python",
   "nbconvert_exporter": "python",
   "pygments_lexer": "ipython2",
   "version": "2.7.12"
  }
 },
 "nbformat": 4,
 "nbformat_minor": 0
}
