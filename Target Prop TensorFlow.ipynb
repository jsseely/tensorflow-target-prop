{
 "cells": [
  {
   "cell_type": "code",
   "execution_count": 1,
   "metadata": {
    "collapsed": true
   },
   "outputs": [],
   "source": [
    "%reset -f\n",
    "%matplotlib inline"
   ]
  },
  {
   "cell_type": "code",
   "execution_count": 2,
   "metadata": {
    "collapsed": true
   },
   "outputs": [],
   "source": [
    "import tensorflow as tf\n",
    "import numpy as np\n",
    "import matplotlib.pyplot as plt\n",
    "from scipy import signal\n",
    "import seaborn as sns"
   ]
  },
  {
   "cell_type": "code",
   "execution_count": 3,
   "metadata": {
    "collapsed": false
   },
   "outputs": [
    {
     "name": "stdout",
     "output_type": "stream",
     "text": [
      "Extracting MNIST_data/train-images-idx3-ubyte.gz\n",
      "Extracting MNIST_data/train-labels-idx1-ubyte.gz\n",
      "Extracting MNIST_data/t10k-images-idx3-ubyte.gz\n",
      "Extracting MNIST_data/t10k-labels-idx1-ubyte.gz\n"
     ]
    }
   ],
   "source": [
    "### Mnist data\n",
    "from tensorflow.examples.tutorials.mnist import input_data\n",
    "from tensorflow.examples.tutorials.mnist import mnist\n",
    "\n",
    "mnist_data = input_data.read_data_sets(\"MNIST_data/\", one_hot=True)\n",
    "num_samples = mnist_data.train.num_examples\n",
    "m_dim = mnist.IMAGE_PIXELS\n",
    "p_dim = mnist.NUM_CLASSES\n",
    "batch_size = 100"
   ]
  },
  {
   "cell_type": "code",
   "execution_count": 4,
   "metadata": {
    "collapsed": true
   },
   "outputs": [],
   "source": [
    "def get_rand_batch(data):\n",
    "    inds = np.random.choice(num_samples, batch_size)\n",
    "    for i in range(len(data)):\n",
    "        data[i] = data[i][inds]\n",
    "    return inds, data"
   ]
  },
  {
   "cell_type": "code",
   "execution_count": 5,
   "metadata": {
    "collapsed": true
   },
   "outputs": [],
   "source": [
    "x_data = mnist_data.train.images\n",
    "y_data = mnist_data.train.labels"
   ]
  },
  {
   "cell_type": "code",
   "execution_count": 6,
   "metadata": {
    "collapsed": false
   },
   "outputs": [],
   "source": [
    "### Model\n",
    "tf.reset_default_graph()\n",
    "\n",
    "layers = 5\n",
    "l_dim = [m_dim] + (layers-1)*[50] + [p_dim]\n",
    "stddev = 0.05\n",
    "b_init = 0.1\n",
    "\n",
    "# Placeholders\n",
    "x_in = tf.placeholder(tf.float32, shape=[batch_size, m_dim], name='x_in')\n",
    "y = tf.placeholder(tf.float32, shape=[batch_size, p_dim], name='y')\n",
    "\n",
    "# hyperparameters\n",
    "keep_prob = tf.placeholder(tf.float32)\n",
    "\n",
    "# Variables\n",
    "# what is best way to create arbitrary layer network?\n",
    "# dicts or lists?\n",
    "b = []\n",
    "W = []\n",
    "h = []\n",
    "x = []\n",
    "\n",
    "for i in range(layers):\n",
    "    with tf.name_scope('layer'+str(i)) as scope:\n",
    "        b.append(tf.Variable(tf.constant(b_init, shape=[1, l_dim[i+1]]), name='b'+str(i)))\n",
    "        W.append(tf.Variable(tf.truncated_normal([l_dim[i], l_dim[i+1]], stddev=stddev), name='W'+str(i)))\n",
    "        if i == 0:\n",
    "            h.append(tf.add(tf.matmul(x_in, W[i]), b[i], name='h'+str(i)))\n",
    "        else:\n",
    "            h.append(tf.add(tf.matmul(x[i-1], W[i]), b[i], name='h'+str(i)))\n",
    "        x.append(tf.nn.dropout(tf.nn.relu(h[i]), keep_prob, name='x'+str(i)))\n",
    "\n",
    "y_hat = tf.nn.softmax(x[-1])\n",
    "\n",
    "# Possible loss functions\n",
    "loss = tf.reduce_mean(-tf.reduce_sum(y * tf.log(y_hat), reduction_indices=[1]))\n",
    "#loss = tf.reduce_mean(0.5*(x[-1] - y)**2, name=\"loss\")\n",
    "\n",
    "## Evaluation ops\n",
    "# categorical output\n",
    "correct_prediction = tf.equal(tf.argmax(y_hat, 1), tf.argmax(y,1))\n",
    "accuracy = tf.reduce_mean(tf.cast(correct_prediction, tf.float32))\n",
    "\n",
    "train_op = tf.train.AdamOptimizer(1e-3)\n",
    "#train_op = tf.train.GradientDescentOptimizer(0.1)\n",
    "train = train_op.minimize(loss)"
   ]
  },
  {
   "cell_type": "code",
   "execution_count": 7,
   "metadata": {
    "collapsed": true
   },
   "outputs": [],
   "source": [
    "tf.scalar_summary('loss', loss)\n",
    "tf.scalar_summary('learning rate', train_op._lr_t)\n",
    "tf.scalar_summary('learning rate2', train_op._lr)\n",
    "tf.scalar_summary('accuracy', accuracy)\n",
    "\n",
    "merged_summary_op = tf.merge_all_summaries()"
   ]
  },
  {
   "cell_type": "code",
   "execution_count": 8,
   "metadata": {
    "collapsed": false
   },
   "outputs": [
    {
     "name": "stdout",
     "output_type": "stream",
     "text": [
      "iter: 0000 loss: 2.3064 accuracy: 0.11\n",
      "iter: 0100 loss: 0.8941 accuracy: 0.72\n",
      "iter: 0200 loss: 0.4749 accuracy: 0.87\n",
      "iter: 0300 loss: 0.5679 accuracy: 0.84\n",
      "iter: 0400 loss: 0.5538 accuracy: 0.83\n",
      "iter: 0500 loss: 0.4855 accuracy: 0.85\n",
      "iter: 0600 loss: 0.3419 accuracy: 0.89\n",
      "iter: 0700 loss: 0.4018 accuracy: 0.87\n",
      "iter: 0800 loss: 0.2735 accuracy: 0.92\n",
      "iter: 0900 loss: 0.3400 accuracy: 0.89\n",
      "iter: 1000 loss: 0.5550 accuracy: 0.82\n",
      "iter: 1100 loss: 0.3862 accuracy: 0.90\n",
      "iter: 1200 loss: 0.3346 accuracy: 0.91\n",
      "iter: 1300 loss: 0.4275 accuracy: 0.84\n",
      "iter: 1400 loss: 0.3577 accuracy: 0.89\n",
      "iter: 1500 loss: 0.5757 accuracy: 0.84\n",
      "iter: 1600 loss: 0.2898 accuracy: 0.93\n",
      "iter: 1700 loss: 0.2017 accuracy: 0.94\n",
      "iter: 1800 loss: 0.3919 accuracy: 0.88\n",
      "iter: 1900 loss: 0.2928 accuracy: 0.89\n",
      "iter: 2000 loss: 0.3479 accuracy: 0.88\n",
      "iter: 2100 loss: 0.2744 accuracy: 0.93\n",
      "iter: 2200 loss: 0.2221 accuracy: 0.93\n",
      "iter: 2300 loss: 0.2697 accuracy: 0.89\n",
      "iter: 2400 loss: 0.2195 accuracy: 0.92\n",
      "iter: 2500 loss: 0.3708 accuracy: 0.91\n",
      "iter: 2600 loss: 0.2378 accuracy: 0.93\n",
      "iter: 2700 loss: 0.4430 accuracy: 0.85\n",
      "iter: 2800 loss: 0.0816 accuracy: 0.97\n",
      "iter: 2900 loss: 0.1889 accuracy: 0.94\n",
      "iter: 3000 loss: 0.2236 accuracy: 0.92\n",
      "iter: 3100 loss: 0.3015 accuracy: 0.90\n",
      "iter: 3200 loss: 0.3063 accuracy: 0.91\n",
      "iter: 3300 loss: 0.1491 accuracy: 0.94\n",
      "iter: 3400 loss: 0.3403 accuracy: 0.89\n",
      "iter: 3500 loss: 0.2647 accuracy: 0.93\n",
      "iter: 3600 loss: 0.3105 accuracy: 0.90\n",
      "iter: 3700 loss: 0.2857 accuracy: 0.89\n",
      "iter: 3800 loss: 0.3691 accuracy: 0.86\n",
      "iter: 3900 loss: 0.2196 accuracy: 0.92\n",
      "iter: 4000 loss: 0.1761 accuracy: 0.94\n",
      "iter: 4100 loss: 0.2815 accuracy: 0.92\n",
      "iter: 4200 loss: 0.1400 accuracy: 0.94\n",
      "iter: 4300 loss: 0.2775 accuracy: 0.91\n",
      "iter: 4400 loss: 0.2461 accuracy: 0.94\n",
      "iter: 4500 loss: 0.1650 accuracy: 0.95\n",
      "iter: 4600 loss: 0.1483 accuracy: 0.95\n",
      "iter: 4700 loss: 0.1852 accuracy: 0.94\n",
      "iter: 4800 loss: 0.1785 accuracy: 0.93\n",
      "iter: 4900 loss: 0.2614 accuracy: 0.94\n",
      "iter: 5000 loss: 0.3171 accuracy: 0.91\n",
      "iter: 5100 loss: 0.1763 accuracy: 0.94\n",
      "iter: 5200 loss: 0.2224 accuracy: 0.92\n",
      "iter: 5300 loss: 0.0983 accuracy: 0.97\n",
      "iter: 5400 loss: 0.1817 accuracy: 0.96\n",
      "iter: 5500 loss: 0.0989 accuracy: 0.99\n",
      "iter: 5600 loss: 0.1866 accuracy: 0.97\n",
      "iter: 5700 loss: 0.1001 accuracy: 0.96\n",
      "iter: 5800 loss: 0.2604 accuracy: 0.91\n",
      "iter: 5900 loss: 0.2661 accuracy: 0.90\n",
      "iter: 6000 loss: 0.2800 accuracy: 0.91\n",
      "iter: 6100 loss: 0.1956 accuracy: 0.92\n",
      "iter: 6200 loss: 0.2205 accuracy: 0.93\n",
      "iter: 6300 loss: 0.2268 accuracy: 0.93\n",
      "iter: 6400 loss: 0.2044 accuracy: 0.93\n",
      "iter: 6500 loss: 0.2091 accuracy: 0.94\n",
      "iter: 6600 loss: 0.1624 accuracy: 0.94\n",
      "iter: 6700 loss: 0.1359 accuracy: 0.96\n",
      "iter: 6800 loss: 0.1635 accuracy: 0.94\n",
      "iter: 6900 loss: 0.2701 accuracy: 0.92\n",
      "iter: 7000 loss: 0.2187 accuracy: 0.93\n",
      "iter: 7100 loss: 0.1751 accuracy: 0.94\n",
      "iter: 7200 loss: 0.1504 accuracy: 0.94\n",
      "iter: 7300 loss: 0.2086 accuracy: 0.92\n",
      "iter: 7400 loss: 0.3108 accuracy: 0.87\n",
      "iter: 7500 loss: 0.2048 accuracy: 0.91\n",
      "iter: 7600 loss: 0.2304 accuracy: 0.93\n",
      "iter: 7700 loss: 0.1390 accuracy: 0.95\n",
      "iter: 7800 loss: 0.2519 accuracy: 0.90\n",
      "iter: 7900 loss: 0.2098 accuracy: 0.93\n",
      "iter: 8000 loss: 0.2066 accuracy: 0.92\n",
      "iter: 8100 loss: 0.1763 accuracy: 0.94\n",
      "iter: 8200 loss: 0.2822 accuracy: 0.91\n",
      "iter: 8300 loss: 0.2231 accuracy: 0.94\n",
      "iter: 8400 loss: 0.0903 accuracy: 0.97\n",
      "iter: 8500 loss: 0.1075 accuracy: 0.96\n",
      "iter: 8600 loss: 0.2157 accuracy: 0.93\n",
      "iter: 8700 loss: 0.1486 accuracy: 0.95\n",
      "iter: 8800 loss: 0.1540 accuracy: 0.95\n",
      "iter: 8900 loss: 0.1783 accuracy: 0.96\n",
      "iter: 9000 loss: 0.1791 accuracy: 0.95\n",
      "iter: 9100 loss: 0.1780 accuracy: 0.94\n",
      "iter: 9200 loss: 0.1860 accuracy: 0.94\n",
      "iter: 9300 loss: 0.2010 accuracy: 0.95\n",
      "iter: 9400 loss: 0.2094 accuracy: 0.93\n",
      "iter: 9500 loss: 0.2274 accuracy: 0.90\n",
      "iter: 9600 loss: 0.1579 accuracy: 0.94\n",
      "iter: 9700 loss: 0.2843 accuracy: 0.89\n",
      "iter: 9800 loss: 0.1252 accuracy: 0.97\n",
      "iter: 9900 loss: 0.3236 accuracy: 0.92\n",
      "finished\n"
     ]
    }
   ],
   "source": [
    "sess = tf.Session()\n",
    "sess.run(tf.initialize_all_variables())\n",
    "\n",
    "summary_writer = tf.train.SummaryWriter('/tmp/tensorflow_logs', sess.graph)\n",
    "\n",
    "for i in range(10000):\n",
    "    inds_batch, [x_batch, y_batch] = get_rand_batch([x_data, y_data])\n",
    "    _, loss_val, summary_str, accuracy_val = sess.run([train, loss, merged_summary_op, accuracy],\n",
    "                                                      feed_dict={x_in: x_batch, y: y_batch, keep_prob: 0.95})\n",
    "    summary_writer.add_summary(summary_str, i)\n",
    "    \n",
    "    if i % 100 == 0:\n",
    "        print \"iter:\", \"%04d\" % (i), \\\n",
    "              \"loss:\", \"{:.4f}\".format(loss_val), \\\n",
    "              \"accuracy:\", \"{:.2f}\".format(accuracy_val)\n",
    "\n",
    "print \"finished\""
   ]
  },
  {
   "cell_type": "code",
   "execution_count": 9,
   "metadata": {
    "collapsed": false
   },
   "outputs": [
    {
     "data": {
      "image/png": "[encoded data removed]",
      "text/plain": [
       "<matplotlib.figure.Figure at 0x11b811d90>"
      ]
     },
     "metadata": {},
     "output_type": "display_data"
    }
   ],
   "source": [
    "plt.plot(sess.run(x[-4][0,:], feed_dict={x_in: x_batch, y: y_batch, keep_prob: 1}))\n",
    "\n",
    "plt.show()"
   ]
  }
 ],
 "metadata": {
  "kernelspec": {
   "display_name": "Python 2",
   "language": "python",
   "name": "python2"
  },
  "language_info": {
   "codemirror_mode": {
    "name": "ipython",
    "version": 2
   },
   "file_extension": ".py",
   "mimetype": "text/x-python",
   "name": "python",
   "nbconvert_exporter": "python",
   "pygments_lexer": "ipython2",
   "version": "2.7.11"
  }
 },
 "nbformat": 4,
 "nbformat_minor": 0
}
