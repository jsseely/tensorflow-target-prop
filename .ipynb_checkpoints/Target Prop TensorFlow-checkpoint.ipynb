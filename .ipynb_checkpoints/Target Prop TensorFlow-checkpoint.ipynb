{
 "cells": [
  {
   "cell_type": "markdown",
   "metadata": {},
   "source": [
    "### Target prop in a deep linear network"
   ]
  },
  {
   "cell_type": "code",
   "execution_count": 16,
   "metadata": {
    "collapsed": true
   },
   "outputs": [],
   "source": [
    "%reset -f\n",
    "%matplotlib inline"
   ]
  },
  {
   "cell_type": "code",
   "execution_count": 17,
   "metadata": {
    "collapsed": true
   },
   "outputs": [],
   "source": [
    "import tensorflow as tf\n",
    "import numpy as np\n",
    "import matplotlib.pyplot as plt\n",
    "import seaborn as sns"
   ]
  },
  {
   "cell_type": "code",
   "execution_count": 18,
   "metadata": {
    "collapsed": false
   },
   "outputs": [],
   "source": [
    "def rank_one_matrix():\n",
    "    ''' return: random 2x2 rank one matrix'''\n",
    "    W_ = np.random.randn(2,2)\n",
    "    u,s,v = np.linalg.svd(W_)\n",
    "    return np.outer(u[:,0],v[0])\n",
    "\n",
    "def simple_matrix():\n",
    "    ''' return: a specific 2x2 rank one matrix '''\n",
    "    return np.outer(np.array([1,0]), np.array([1,2])/np.linalg.norm([1,2]))\n",
    "\n",
    "def get_subspaces(A_, r):\n",
    "    ''' return: a dictionary containing the four fundamental subspaces of a matrix A '''\n",
    "    u,s,v = np.linalg.svd(A_, full_matrices=True)\n",
    "    ss = {'im': u[:,:r], 'ker': v[r:].T, 'coim': v[:r].T, 'coker': u[:,r:]}\n",
    "    return ss\n",
    "\n",
    "def plot_vecline(V, i=0, color=0):\n",
    "    ''' plots the 1d subspace (line) spanned by one vector V '''\n",
    "    VV = np.concatenate((-10*V, 10*V), axis=1)\n",
    "    ax[i].plot(VV[0], VV[1], color=sns.color_palette(\"RdBu_r\",7)[color], linewidth=2.0)\n",
    "    \n",
    "def plot_quotient(V, W, i=0, color=5):\n",
    "    ''' plots elements (lines) of the quotient space V/W \n",
    "        todo: replace n with sv or 1/sv\n",
    "    '''\n",
    "    for n in np.arange(-3,3.1,0.5):\n",
    "        VV = np.concatenate((-10*V, 10*V), axis=1)\n",
    "        VV = VV + n*W\n",
    "        ax[i].plot(VV[0], VV[1], color=sns.color_palette(\"RdBu_r\",7)[color], linewidth=0.5)\n",
    "\n",
    "def square_axes(i=0):\n",
    "    ''' make axis look nice '''\n",
    "    fig.axes[i].axhline(0, color='w', linewidth=3.5)\n",
    "    fig.axes[i].axvline(0, color='w', linewidth=3.5)\n",
    "    fig.axes[i].set_xlim(-2,2)\n",
    "    fig.axes[i].set_ylim(-2,2)\n",
    "    fig.axes[i].set_aspect(1)\n",
    "    fig.axes[i].get_xaxis().set_ticklabels([])\n",
    "    fig.axes[i].get_yaxis().set_ticklabels([])"
   ]
  },
  {
   "cell_type": "code",
   "execution_count": 19,
   "metadata": {
    "collapsed": false
   },
   "outputs": [],
   "source": [
    "# construct model:\n",
    "layers = 3\n",
    "W = []\n",
    "W_ss = []\n",
    "\n",
    "for l in range(layers):\n",
    "    W.append(simple_matrix())\n",
    "    W_ss.append(get_subspaces(W[l], 1))\n",
    "    \n",
    "x = []\n",
    "x.append(np.array([2,1]))\n",
    "# TODO: show two+ vectors / batch learning.\n",
    "# batch learning: first then second vs second then first vs batch -- commutivity? \n",
    "for l in range(layers):\n",
    "    x.append(np.dot(W[l], x[-1]))\n",
    "    \n",
    "y = np.array([1,0])\n",
    "\n",
    "# backprop\n",
    "vv, hh = np.mgrid[-2:2:20j, -2:2:20j]\n",
    "L = 0.5*((hh-y[0])**2 + (vv-y[1])**2)\n",
    "\n",
    "dL = (layers+1)*[None]\n",
    "dL[-1] = -(x[-1]-y)\n",
    "for l in range(layers-1,-1,-1):\n",
    "    dL[l] = np.dot(W[l].T, dL[l+1])"
   ]
  },
  {
   "cell_type": "code",
   "execution_count": 20,
   "metadata": {
    "collapsed": false
   },
   "outputs": [],
   "source": [
    "alpha = 0.1\n",
    "\n",
    "# forward\n",
    "def forward(x_init, W_in):\n",
    "    x_ = []\n",
    "    x_.append(x_init)\n",
    "    for l in range(layers):\n",
    "        x_.append(np.dot(W_in[l], x_[-1]))\n",
    "    return x_\n",
    "\n",
    "# backprop\n",
    "def backward(x_end, W_in):\n",
    "    dL_ = (layers+1)*[None]\n",
    "    dL_[-1] = -(x_end-y)\n",
    "    for l in range(layers-1,-1,-1):\n",
    "        dL_[l] = np.dot(W_in[l].T, dL_[l+1])\n",
    "    return dL_\n",
    "\n",
    "# train\n",
    "def train_weights(W_in, dL_in):\n",
    "    W_ = np.copy(W_in)\n",
    "    for l in range(layers):\n",
    "        W_[l] = W_[l] + alpha*np.array([[dL_in[l+1][0]*x[l][0], dL_in[l+1][0]*x[l][1]],\n",
    "                                        [dL_in[l+1][1]*x[l][0], dL_in[l+1][1]*x[l][1]]])\n",
    "    return W_"
   ]
  },
  {
   "cell_type": "code",
   "execution_count": 21,
   "metadata": {
    "collapsed": false
   },
   "outputs": [
    {
     "data": {
      "text/plain": [
       "array([[2, 1],\n",
       "       [2, 1]])"
      ]
     },
     "execution_count": 21,
     "metadata": {},
     "output_type": "execute_result"
    }
   ],
   "source": [
    "np.array([x[0],x[0]])"
   ]
  },
  {
   "cell_type": "code",
   "execution_count": 22,
   "metadata": {
    "collapsed": false
   },
   "outputs": [],
   "source": [
    "# training...\n",
    "x_in = np.array([2,1])\n",
    "\n",
    "x_0 = forward(x_in, W)\n",
    "dL_0 = backward(x_0[-1],W)\n",
    "W_0 = train_weights(W, backward(x_0[-1],W))\n",
    "\n",
    "x_1 = forward(x_in, W_0)\n",
    "dL_1 = backward(x_1[-1],W_0)\n",
    "W_1 = train_weights(W_0, backward(x_1[-1],W_0))\n",
    "\n",
    "x_2 = forward(x_in, W_1)\n",
    "dL_2 = backward(x_2[-1],W_1)\n",
    "W_2 = train_weights(W_1, backward(x_2[-1],W_1))\n",
    "\n",
    "x_3 = forward(x_in, W_2)\n",
    "dL_3 = backward(x_3[-1],W_2)\n",
    "W_3 = train_weights(W_2, backward(x_3[-1],W_2))"
   ]
  },
  {
   "cell_type": "code",
   "execution_count": 23,
   "metadata": {
    "collapsed": false,
    "scrolled": true
   },
   "outputs": [
    {
     "data": {
      "image/png": "[encoded data removed]",
      "text/plain": [
       "<matplotlib.figure.Figure at 0x10c6d6bd0>"
      ]
     },
     "metadata": {},
     "output_type": "display_data"
    },
    {
     "data": {
      "image/png": "[encoded data removed]",
      "text/plain": [
       "<matplotlib.figure.Figure at 0x11f520c10>"
      ]
     },
     "metadata": {},
     "output_type": "display_data"
    }
   ],
   "source": [
    "## ROW 1\n",
    "fig, ax = plt.subplots(1, layers+1, figsize=(15,20))\n",
    "for l in range(layers+1):\n",
    "    square_axes(l)\n",
    "\n",
    "for l in range(layers):\n",
    "    plot_quotient(W_ss[l]['ker'], W_ss[l]['coim'], l)\n",
    "    plot_vecline(W_ss[l]['ker'], l, -1)\n",
    "    plot_vecline(W_ss[l]['coim'],l, 1)\n",
    "\n",
    "# plot x and dL\n",
    "for l in range(layers+1):    \n",
    "    ax[l].plot(x_1[l][0], x_1[l][1],'o', color=[.5,.5,.5])\n",
    "    ax[l].plot(x_2[l][0], x_2[l][1],'o', color=[.5,.5,.5])\n",
    "    ax[l].plot(x_3[l][0], x_3[l][1],'o', color=[.5,.5,.5])\n",
    "\n",
    "    ax[l].plot(dL_1[l][0], dL_1[l][1], 'o', color=[.5,.8,.5])\n",
    "    ax[l].plot(dL_2[l][0], dL_2[l][1], 'o', color=[.5,.8,.5])\n",
    "    ax[l].plot(dL_3[l][0], dL_3[l][1], 'o', color=[.5,.8,.5])\n",
    "    \n",
    "    ax[l].plot(x[l][0], x[l][1],'ko')\n",
    "    ax[l].plot(dL[l][0], dL[l][1],'go')\n",
    "\n",
    "    \n",
    "# plot y\n",
    "ax[-1].plot(y[0],y[1],'ro')\n",
    "ax[-1].contour(hh,vv, L,10)\n",
    "\n",
    "plt.show()\n",
    "\n",
    "## ROW 2\n",
    "fig, ax = plt.subplots(1, layers+1, figsize=(15,20))\n",
    "for l in range(layers+1):\n",
    "    square_axes(l)\n",
    "\n",
    "for l in range(layers):\n",
    "    square_axes(l+1)\n",
    "    plot_quotient(W_ss[l]['coker'], W_ss[l]['im'], l+1)\n",
    "    plot_vecline(W_ss[l]['coker'], l+1, -1)\n",
    "    plot_vecline(W_ss[l]['im'],l+1, 1)\n",
    "\n",
    "# plot x\n",
    "for l in range(layers+1):\n",
    "    ax[l].plot(x_1[l][0], x_1[l][1],'o', color=[.5,.5,.5])\n",
    "    ax[l].plot(x_2[l][0], x_2[l][1],'o', color=[.5,.5,.5])\n",
    "    ax[l].plot(x_3[l][0], x_3[l][1],'o', color=[.5,.5,.5])\n",
    "\n",
    "    ax[l].plot(dL_1[l][0], dL_1[l][1], 'o', color=[.5,.8,.5])\n",
    "    ax[l].plot(dL_2[l][0], dL_2[l][1], 'o', color=[.5,.8,.5])\n",
    "    ax[l].plot(dL_3[l][0], dL_3[l][1], 'o', color=[.5,.8,.5])\n",
    "\n",
    "    ax[l].plot(x[l][0], x[l][1],'ko')    \n",
    "    ax[l].plot(dL[l][0], dL[l][1],'go')\n",
    "    \n",
    "# plot y\n",
    "ax[-1].plot(y[0],y[1],'ro')\n",
    "    \n",
    "plt.show()\n",
    "\n",
    "## ROW 3\n"
   ]
  },
  {
   "cell_type": "markdown",
   "metadata": {},
   "source": [
    "- W[l] moves in the direction to minimize error.\n",
    "- Does this imply that x[l] also moves in the direction to minimize error?\n",
    "\n",
    "- Specify the space of possible solutions -- global sections of x[l], but also space of W[l]?"
   ]
  },
  {
   "cell_type": "code",
   "execution_count": null,
   "metadata": {
    "collapsed": true
   },
   "outputs": [],
   "source": []
  },
  {
   "cell_type": "code",
   "execution_count": null,
   "metadata": {
    "collapsed": true
   },
   "outputs": [],
   "source": []
  },
  {
   "cell_type": "code",
   "execution_count": null,
   "metadata": {
    "collapsed": true
   },
   "outputs": [],
   "source": []
  },
  {
   "cell_type": "code",
   "execution_count": null,
   "metadata": {
    "collapsed": true
   },
   "outputs": [],
   "source": []
  },
  {
   "cell_type": "code",
   "execution_count": null,
   "metadata": {
    "collapsed": true
   },
   "outputs": [],
   "source": [
    "\n"
   ]
  },
  {
   "cell_type": "code",
   "execution_count": null,
   "metadata": {
    "collapsed": false
   },
   "outputs": [],
   "source": [
    "W[1]"
   ]
  },
  {
   "cell_type": "markdown",
   "metadata": {},
   "source": [
    "### Target prop in tensorflow"
   ]
  },
  {
   "cell_type": "code",
   "execution_count": null,
   "metadata": {
    "collapsed": true
   },
   "outputs": [],
   "source": [
    "%reset -f\n",
    "%matplotlib inline"
   ]
  },
  {
   "cell_type": "code",
   "execution_count": null,
   "metadata": {
    "collapsed": true
   },
   "outputs": [],
   "source": [
    "import tensorflow as tf\n",
    "import numpy as np\n",
    "import matplotlib.pyplot as plt\n",
    "from scipy import signal\n",
    "import seaborn as sns"
   ]
  },
  {
   "cell_type": "code",
   "execution_count": null,
   "metadata": {
    "collapsed": false
   },
   "outputs": [],
   "source": [
    "### Mnist data\n",
    "from tensorflow.examples.tutorials.mnist import input_data\n",
    "from tensorflow.examples.tutorials.mnist import mnist\n",
    "\n",
    "mnist_data = input_data.read_data_sets(\"MNIST_data/\", one_hot=True)\n",
    "num_samples = mnist_data.train.num_examples\n",
    "m_dim = mnist.IMAGE_PIXELS\n",
    "p_dim = mnist.NUM_CLASSES\n",
    "batch_size = 100"
   ]
  },
  {
   "cell_type": "code",
   "execution_count": null,
   "metadata": {
    "collapsed": true
   },
   "outputs": [],
   "source": [
    "def get_rand_batch(data):\n",
    "    inds = np.random.choice(num_samples, batch_size)\n",
    "    for i in range(len(data)):\n",
    "        data[i] = data[i][inds]\n",
    "    return inds, data"
   ]
  },
  {
   "cell_type": "code",
   "execution_count": null,
   "metadata": {
    "collapsed": true
   },
   "outputs": [],
   "source": [
    "x_data = mnist_data.train.images\n",
    "y_data = mnist_data.train.labels"
   ]
  },
  {
   "cell_type": "code",
   "execution_count": null,
   "metadata": {
    "collapsed": false
   },
   "outputs": [],
   "source": [
    "### Model\n",
    "tf.reset_default_graph()\n",
    "\n",
    "layers = 5\n",
    "l_dim = [m_dim] + (layers-1)*[50] + [p_dim]\n",
    "stddev = 0.05\n",
    "b_init = 0.1\n",
    "\n",
    "# Placeholders\n",
    "x_in = tf.placeholder(tf.float32, shape=[batch_size, m_dim], name='x_in')\n",
    "y = tf.placeholder(tf.float32, shape=[batch_size, p_dim], name='y')\n",
    "\n",
    "# hyperparameters\n",
    "keep_prob = tf.placeholder(tf.float32)\n",
    "\n",
    "# Variables\n",
    "# what is best way to create arbitrary layer network?\n",
    "# dicts or lists?\n",
    "b = []\n",
    "W = []\n",
    "h = []\n",
    "x = []\n",
    "\n",
    "for i in range(layers):\n",
    "    with tf.name_scope('layer'+str(i)) as scope:\n",
    "        b.append(tf.Variable(tf.constant(b_init, shape=[1, l_dim[i+1]]), name='b'+str(i)))\n",
    "        W.append(tf.Variable(tf.truncated_normal([l_dim[i], l_dim[i+1]], stddev=stddev), name='W'+str(i)))\n",
    "        if i == 0:\n",
    "            h.append(tf.add(tf.matmul(x_in, W[i]), b[i], name='h'+str(i)))\n",
    "        else:\n",
    "            h.append(tf.add(tf.matmul(x[i-1], W[i]), b[i], name='h'+str(i)))\n",
    "        x.append(tf.nn.dropout(tf.nn.relu(h[i]), keep_prob, name='x'+str(i)))\n",
    "\n",
    "y_hat = tf.nn.softmax(x[-1])\n",
    "\n",
    "# Possible loss functions\n",
    "loss = tf.reduce_mean(-tf.reduce_sum(y * tf.log(y_hat), reduction_indices=[1]))\n",
    "#loss = tf.reduce_mean(0.5*(x[-1] - y)**2, name=\"loss\")\n",
    "\n",
    "## Evaluation ops\n",
    "# categorical output\n",
    "correct_prediction = tf.equal(tf.argmax(y_hat, 1), tf.argmax(y,1))\n",
    "accuracy = tf.reduce_mean(tf.cast(correct_prediction, tf.float32))\n",
    "\n",
    "train_op = tf.train.AdamOptimizer(1e-3)\n",
    "#train_op = tf.train.GradientDescentOptimizer(0.1)\n",
    "train = train_op.minimize(loss)"
   ]
  },
  {
   "cell_type": "code",
   "execution_count": null,
   "metadata": {
    "collapsed": true
   },
   "outputs": [],
   "source": [
    "tf.scalar_summary('loss', loss)\n",
    "tf.scalar_summary('learning rate', train_op._lr_t)\n",
    "tf.scalar_summary('learning rate2', train_op._lr)\n",
    "tf.scalar_summary('accuracy', accuracy)\n",
    "\n",
    "merged_summary_op = tf.merge_all_summaries()"
   ]
  },
  {
   "cell_type": "code",
   "execution_count": null,
   "metadata": {
    "collapsed": false
   },
   "outputs": [],
   "source": [
    "sess = tf.Session()\n",
    "sess.run(tf.initialize_all_variables())\n",
    "\n",
    "summary_writer = tf.train.SummaryWriter('/tmp/tensorflow_logs', sess.graph)\n",
    "\n",
    "for i in range(10000):\n",
    "    inds_batch, [x_batch, y_batch] = get_rand_batch([x_data, y_data])\n",
    "    _, loss_val, summary_str, accuracy_val = sess.run([train, loss, merged_summary_op, accuracy],\n",
    "                                                      feed_dict={x_in: x_batch, y: y_batch, keep_prob: 0.95})\n",
    "    summary_writer.add_summary(summary_str, i)\n",
    "    \n",
    "    if i % 100 == 0:\n",
    "        print \"iter:\", \"%04d\" % (i), \\\n",
    "              \"loss:\", \"{:.4f}\".format(loss_val), \\\n",
    "              \"accuracy:\", \"{:.2f}\".format(accuracy_val)\n",
    "\n",
    "print \"finished\""
   ]
  },
  {
   "cell_type": "code",
   "execution_count": null,
   "metadata": {
    "collapsed": false
   },
   "outputs": [],
   "source": [
    "plt.plot(sess.run(x[-4][0,:], feed_dict={x_in: x_batch, y: y_batch, keep_prob: 1}))\n",
    "\n",
    "plt.show()"
   ]
  }
 ],
 "metadata": {
  "kernelspec": {
   "display_name": "Python 2",
   "language": "python",
   "name": "python2"
  },
  "language_info": {
   "codemirror_mode": {
    "name": "ipython",
    "version": 2
   },
   "file_extension": ".py",
   "mimetype": "text/x-python",
   "name": "python",
   "nbconvert_exporter": "python",
   "pygments_lexer": "ipython2",
   "version": "2.7.11"
  }
 },
 "nbformat": 4,
 "nbformat_minor": 0
}
