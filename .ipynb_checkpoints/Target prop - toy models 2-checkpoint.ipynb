{
 "cells": [
  {
   "cell_type": "code",
   "execution_count": 1,
   "metadata": {
    "collapsed": true
   },
   "outputs": [],
   "source": [
    "%reset -f\n",
    "%matplotlib inline"
   ]
  },
  {
   "cell_type": "code",
   "execution_count": 2,
   "metadata": {
    "collapsed": true
   },
   "outputs": [],
   "source": [
    "import numpy as np\n",
    "import matplotlib.pyplot as plt\n",
    "import seaborn as sns"
   ]
  },
  {
   "cell_type": "code",
   "execution_count": 3,
   "metadata": {
    "collapsed": true
   },
   "outputs": [],
   "source": [
    "def square_axes(i=0):\n",
    "    ''' make axis look nice '''\n",
    "    fig.axes[i].axhline(0, color='w', linewidth=3.5, alpha=0.25)\n",
    "    fig.axes[i].axvline(0, color='w', linewidth=3.5, alpha=0.25)\n",
    "    fig.axes[i].set_xlim(-3.5,3.5)\n",
    "    fig.axes[i].set_ylim(-3.5,3.5)\n",
    "    fig.axes[i].set_aspect(1)\n",
    "    fig.axes[i].get_xaxis().set_ticklabels([])\n",
    "    fig.axes[i].get_yaxis().set_ticklabels([])"
   ]
  },
  {
   "cell_type": "code",
   "execution_count": 4,
   "metadata": {
    "collapsed": false
   },
   "outputs": [],
   "source": [
    "# Initialize input space first\n",
    "vv, hh = np.mgrid[-4:4:101j, -4:4:101j]\n",
    "h_ = hh.shape[0]\n",
    "x_in = np.stack((hh.ravel(), vv.ravel()), axis=0)\n",
    "\n",
    "# Parameters\n",
    "batches = x_in.shape[1]\n",
    "t_steps = 1 # not including t=0.\n",
    "algs = 2\n",
    "layers = 1 # not including l=0\n",
    "alpha = .5\n",
    "\n",
    "b = int(batches/2 + 11)\n",
    "\n",
    "# Target function\n",
    "T = np.random.randn(2,2)/np.sqrt(2)\n",
    "T = np.array([[0.1, -1], [1, -0.2]])\n",
    "y = np.dot(T, x_in[:, b])\n",
    "\n",
    "# Initialize the output space\n",
    "y_coord = np.zeros((algs, t_steps+1, layers+1), dtype=object)\n",
    "L = np.zeros((algs, t_steps+1, layers+1), dtype=object)\n",
    "Lval = np.zeros((algs, t_steps+1, layers+1), dtype=object)\n",
    "for k in range(algs):\n",
    "    for t in range(t_steps+1):\n",
    "        y_coord[k, t, -1] = np.stack((hh.ravel(), vv.ravel()), axis=0)\n",
    "\n",
    "# Loss function on last layer\n",
    "for k in range(algs):\n",
    "    for t in range(t_steps+1):\n",
    "        L[k, t, -1] = 0.5*((y_coord[k, t, -1][0] - y[0])**2 + (y_coord[k, t, -1][1] - y[1])**2)"
   ]
  },
  {
   "cell_type": "code",
   "execution_count": 5,
   "metadata": {
    "collapsed": false
   },
   "outputs": [],
   "source": [
    "# Forward weights\n",
    "W = np.zeros((algs, t_steps+1, layers+1), dtype=object)\n",
    "dW = np.zeros((algs, t_steps+1, layers+1), dtype=object)\n",
    "\n",
    "# Initialize forward weights\n",
    "for k in range(algs):\n",
    "    for l in range(1, layers+1):\n",
    "        W[k, 0, l] = np.eye(2)\n",
    "\n",
    "# Activations\n",
    "x = np.zeros((algs, t_steps+1, layers+1), dtype=object)\n",
    "# Error / targets\n",
    "dx = np.zeros((algs, t_steps+1, layers+1), dtype=object)\n",
    "\n",
    "# Initialize activations\n",
    "for k in range(algs):\n",
    "    for t in range(t_steps+1):\n",
    "        x[k, t, 0] = x_in[:, b]"
   ]
  },
  {
   "cell_type": "code",
   "execution_count": 6,
   "metadata": {
    "collapsed": false
   },
   "outputs": [],
   "source": [
    "for t in range(t_steps+1):\n",
    "    for k in range(algs):\n",
    "        # Forward pass:\n",
    "        for l in range(1, layers+1):\n",
    "            x[k, t, l] = np.dot(W[k, t, l], x[k, t, l-1])\n",
    "            Lval[k, t, l] = 0.5*((x[k, t, l][0] - y[0])**2 + (x[k, t, l][1] - y[1])**2)\n",
    "\n",
    "        # Backward pass:\n",
    "        dx[k, t, -1] = x[k, t, -1] - y\n",
    "        for l in range(layers-1, 0, -1):\n",
    "            if k == 0:\n",
    "                dx[k, t, l] = np.dot(W[k, t, l+1].T, dx[k, t, l+1])\n",
    "                y_coord[k, t, l] = np.dot(W[k, t, l+1].T, y_coord[k, t, l+1])\n",
    "                L[k, t, l] = 0.5*((y_coord[k, t, l][0] - y[0])**2 + (y_coord[k, t, l][1] - y[1])**2)\n",
    "            elif k == 1:\n",
    "                dx[k, t, l] = x[k, t, l] + np.dot(np.linalg.pinv(W[k, t, l+1]), dx[k, t, l+1]) - np.dot(np.linalg.pinv(W[k, t, l+1]), x[k, t, l+1])\n",
    "                y_coord[k, t, l] = x[k, t, l] + np.dot(np.linalg.pinv(W[k, t, l+1]), dx[k, t, l+1]) - np.dot(np.linalg.pinv(W[k, t, l+1]), y_coord[k, t, l+1])\n",
    "                L[k, t, l] = 0.5*((y_coord[k, t, l][0] - y[0])**2 + (y_coord[k, t, l][1] - y[1])**2)\n",
    "\n",
    "        for l in range(1, layers+1):\n",
    "            # test backprop vs pinv here\n",
    "            dW[k, t, l] = -alpha*np.outer(dx[k, t, l], x[k, t, l-1])            \n",
    "            if t != t_steps:\n",
    "                W[k, t+1, l] = W[k, t, l] + dW[k, t, l]"
   ]
  },
  {
   "cell_type": "code",
   "execution_count": 7,
   "metadata": {
    "collapsed": false,
    "scrolled": true
   },
   "outputs": [
    {
     "data": {
      "image/png": "[encoded data removed]",
      "text/plain": [
       "<matplotlib.figure.Figure at 0x1183a6550>"
      ]
     },
     "metadata": {},
     "output_type": "display_data"
    }
   ],
   "source": [
    "# Plot\n",
    "fig, ax = plt.subplots(1, layers+1, figsize=(15,15))\n",
    "for l in range(layers+1):\n",
    "    square_axes(l)\n",
    "    \n",
    "k = 0\n",
    "\n",
    "t = 0\n",
    "#b = 20\n",
    "for l in range(layers+1):\n",
    "    ax[l].plot(x[k, t, l][0], x[k, t, l][1], 'ko')\n",
    "for l in range(1, layers+1):\n",
    "    ax[l].plot(dx[k, t, l][0], dx[k, t, l][1], 'ro')\n",
    "    ax[l].contour(y_coord[k, t, l][0].reshape([h_, h_]), y_coord[k, t, l][1].reshape([h_, h_]), L[k, t, -1].reshape([h_, h_]), [Lval[k, t, -1]], alpha=1, colors='k')\n",
    "\n",
    "for t in range(1, t_steps+1):\n",
    "    for l in range(layers+1):\n",
    "        ax[l].plot(x[k, t, l][0], x[k, t, l][1],'ko', alpha=0.3)\n",
    "    for l in range(1, layers+1):\n",
    "        ax[l].plot(dx[k, t, l][0], dx[k, t, l][1], 'ro', alpha=0.3)\n",
    "        ax[l].contour(y_coord[k, t, l][0].reshape([h_, h_]), y_coord[k, t, l][1].reshape([h_, h_]), L[k, t, -1].reshape([h_, h_]), [Lval[k, t, l]], alpha=0.2, colors='k')\n",
    "\n",
    "ax[-1].plot(y[0], y[1], 'yo')\n",
    "\n",
    "plt.show()"
   ]
  },
  {
   "cell_type": "code",
   "execution_count": null,
   "metadata": {
    "collapsed": false
   },
   "outputs": [],
   "source": [
    "y_coord[k, t, l][0, :].reshape([11, 11])"
   ]
  },
  {
   "cell_type": "code",
   "execution_count": null,
   "metadata": {
    "collapsed": false
   },
   "outputs": [],
   "source": [
    "y_coord[k, t, l][1, :].reshape([11, 11]).shape"
   ]
  },
  {
   "cell_type": "code",
   "execution_count": null,
   "metadata": {
    "collapsed": false
   },
   "outputs": [],
   "source": [
    "L[k, t, l, :].reshape([11, 11]).shape"
   ]
  },
  {
   "cell_type": "code",
   "execution_count": null,
   "metadata": {
    "collapsed": false
   },
   "outputs": [],
   "source": [
    "L[k, t, 2, :].reshape([11, 11])"
   ]
  },
  {
   "cell_type": "code",
   "execution_count": null,
   "metadata": {
    "collapsed": false
   },
   "outputs": [],
   "source": [
    "t"
   ]
  },
  {
   "cell_type": "code",
   "execution_count": null,
   "metadata": {
    "collapsed": true
   },
   "outputs": [],
   "source": []
  },
  {
   "cell_type": "code",
   "execution_count": null,
   "metadata": {
    "collapsed": true
   },
   "outputs": [],
   "source": []
  },
  {
   "cell_type": "code",
   "execution_count": null,
   "metadata": {
    "collapsed": true
   },
   "outputs": [],
   "source": []
  },
  {
   "cell_type": "code",
   "execution_count": null,
   "metadata": {
    "collapsed": true
   },
   "outputs": [],
   "source": []
  },
  {
   "cell_type": "code",
   "execution_count": null,
   "metadata": {
    "collapsed": true
   },
   "outputs": [],
   "source": []
  },
  {
   "cell_type": "code",
   "execution_count": null,
   "metadata": {
    "collapsed": true
   },
   "outputs": [],
   "source": []
  },
  {
   "cell_type": "code",
   "execution_count": null,
   "metadata": {
    "collapsed": true
   },
   "outputs": [],
   "source": []
  },
  {
   "cell_type": "code",
   "execution_count": null,
   "metadata": {
    "collapsed": true
   },
   "outputs": [],
   "source": []
  },
  {
   "cell_type": "code",
   "execution_count": null,
   "metadata": {
    "collapsed": true
   },
   "outputs": [],
   "source": []
  },
  {
   "cell_type": "code",
   "execution_count": null,
   "metadata": {
    "collapsed": true
   },
   "outputs": [],
   "source": []
  },
  {
   "cell_type": "code",
   "execution_count": null,
   "metadata": {
    "collapsed": true
   },
   "outputs": [],
   "source": []
  },
  {
   "cell_type": "code",
   "execution_count": null,
   "metadata": {
    "collapsed": true
   },
   "outputs": [],
   "source": []
  },
  {
   "cell_type": "code",
   "execution_count": null,
   "metadata": {
    "collapsed": true
   },
   "outputs": [],
   "source": []
  },
  {
   "cell_type": "code",
   "execution_count": null,
   "metadata": {
    "collapsed": true
   },
   "outputs": [],
   "source": []
  },
  {
   "cell_type": "code",
   "execution_count": null,
   "metadata": {
    "collapsed": true
   },
   "outputs": [],
   "source": []
  },
  {
   "cell_type": "code",
   "execution_count": null,
   "metadata": {
    "collapsed": true
   },
   "outputs": [],
   "source": []
  }
 ],
 "metadata": {
  "kernelspec": {
   "display_name": "Python 2",
   "language": "python",
   "name": "python2"
  },
  "language_info": {
   "codemirror_mode": {
    "name": "ipython",
    "version": 2
   },
   "file_extension": ".py",
   "mimetype": "text/x-python",
   "name": "python",
   "nbconvert_exporter": "python",
   "pygments_lexer": "ipython2",
   "version": "2.7.12"
  }
 },
 "nbformat": 4,
 "nbformat_minor": 0
}
