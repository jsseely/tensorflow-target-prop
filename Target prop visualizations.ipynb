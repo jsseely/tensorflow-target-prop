{
 "cells": [
  {
   "cell_type": "code",
   "execution_count": 1,
   "metadata": {
    "collapsed": true
   },
   "outputs": [],
   "source": [
    "# sigmoid...\n",
    "%reset -f\n",
    "%matplotlib inline\n",
    "import numpy as np  \n",
    "import matplotlib.pyplot as plt\n",
    "import scipy as sp\n",
    "import seaborn as sns"
   ]
  },
  {
   "cell_type": "code",
   "execution_count": 2,
   "metadata": {
    "collapsed": true
   },
   "outputs": [],
   "source": [
    "def square_axes(i=0):\n",
    "    ''' make axis look nice '''\n",
    "    fig.axes[i].axhline(0, color='w', linewidth=3.5, alpha=0.25)\n",
    "    fig.axes[i].axvline(0, color='w', linewidth=3.5, alpha=0.25)\n",
    "    fig.axes[i].set_xlim(-1.5,1.5)\n",
    "    fig.axes[i].set_ylim(-1.5,1.5)\n",
    "    fig.axes[i].set_aspect(1)\n",
    "    fig.axes[i].get_xaxis().set_ticklabels([])\n",
    "    fig.axes[i].get_yaxis().set_ticklabels([])\n",
    "\n",
    "def get_matrix(layer=1):\n",
    "    if layer == 1:\n",
    "        A = np.array([[0.1, 0],[0.9, 1]])\n",
    "    else:\n",
    "        A = np.array([[1, 0.9],[0, 1]])\n",
    "    return A\n",
    "def get_bias(layer=1):\n",
    "    if layer == 1:\n",
    "        b = np.array([[0],[0]])\n",
    "    else:\n",
    "        b = np.array([[0],[0]])\n",
    "    return b\n",
    "def f1(x,layer):\n",
    "    return np.dot(get_matrix(layer), x) + get_bias(layer)\n",
    "def f1_inv(x,layer):\n",
    "    A = get_matrix(layer)\n",
    "    return np.dot(np.linalg.inv(A), x - get_bias(layer))\n",
    "def f2(x):\n",
    "    return 2./(1 + np.exp(-x))-1\n",
    "def f2_inv(x):\n",
    "    return -np.log(2./(1+x) - 1)\n",
    "\n",
    "def df2(x):\n",
    "    return (1 - f2(x)**2)*x\n",
    "def df1(x, layer):\n",
    "    return np.dot(get_matrix(layer).T, x)\n",
    "\n",
    "def relu(x):\n",
    "    return x*(x>0)\n",
    "\n",
    "def get_preimg(img, func, eps=0.1):\n",
    "    \"\"\" computes the preimage a of set img through func, i.e.\n",
    "        img=func(a)\"\"\"\n",
    "    c1 = np.linspace(-2, 2, 201)\n",
    "    c2 = np.linspace(-2, 2, 201)\n",
    "    x1, y1 = np.meshgrid(c1, c2)\n",
    "    a = np.stack((x1.flatten(), y1.flatten()))\n",
    "    d = np.zeros(a.shape[1])\n",
    "    b = func(a)\n",
    "    for i in range(a.shape[1]):\n",
    "        d[i] = np.min(np.linalg.norm(b[:,i] - img))\n",
    "    inds = d < eps\n",
    "    return a[:,inds], b[:,inds]\n",
    "\n",
    "def get_circle(center, radius, points=100):\n",
    "    x = radius*np.cos(np.linspace(0, 2*np.pi, num=points)) + center[0]\n",
    "    y = radius*np.sin(np.linspace(0, 2*np.pi, num=points)) + center[1]\n",
    "    return np.stack((x,y))\n",
    "\n",
    "def prop(init, L=1):\n",
    "    x = []\n",
    "    x.append(init)\n",
    "    for l in range(1, L+1):\n",
    "        x.append(f1(x[-1], l))\n",
    "        x.append(f2(x[-1]))\n",
    "    return x\n",
    "def back(init, L=1):\n",
    "    y = []\n",
    "    y.append(init)\n",
    "    for l in range(L, 0, -1):\n",
    "        y.append(f2_inv(y[-1]))\n",
    "        y.append(f1_inv(y[-1], l))\n",
    "    y.reverse()\n",
    "    return y\n",
    "def bprop(init, L=1):\n",
    "    d = []\n",
    "    d.append(init)\n",
    "    for l in range(L, 0, -1):\n",
    "        d.append(df2(d[-1]))\n",
    "        d.append(df1(d[-1], l))\n",
    "    d.reverse()\n",
    "    return d"
   ]
  },
  {
   "cell_type": "code",
   "execution_count": null,
   "metadata": {
    "collapsed": true
   },
   "outputs": [],
   "source": []
  }
 ],
 "metadata": {
  "kernelspec": {
   "display_name": "Python 2",
   "language": "python",
   "name": "python2"
  },
  "language_info": {
   "codemirror_mode": {
    "name": "ipython",
    "version": 2
   },
   "file_extension": ".py",
   "mimetype": "text/x-python",
   "name": "python",
   "nbconvert_exporter": "python",
   "pygments_lexer": "ipython2",
   "version": "2.7.12"
  }
 },
 "nbformat": 4,
 "nbformat_minor": 0
}
